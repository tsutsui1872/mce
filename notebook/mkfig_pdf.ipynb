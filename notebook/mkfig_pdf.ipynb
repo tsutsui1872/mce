{
 "cells": [
  {
   "cell_type": "code",
   "execution_count": 1,
   "metadata": {},
   "outputs": [],
   "source": [
    "import numpy as np\n",
    "import pandas as pd\n",
    "from netCDF4 import Dataset\n",
    "from matplotlib.backends.backend_pdf import PdfPages\n",
    "from mce import get_logger\n",
    "from mce.core.forcing import RfCO2\n",
    "from mce.core.climate import IrmBase\n",
    "from mce.util.plot_base import PlotBase\n",
    "from mce.util.plotfunc import plot_fitting"
   ]
  },
  {
   "cell_type": "code",
   "execution_count": 2,
   "metadata": {},
   "outputs": [],
   "source": [
    "logger = get_logger(__name__)"
   ]
  },
  {
   "cell_type": "code",
   "execution_count": 16,
   "metadata": {},
   "outputs": [],
   "source": [
    "class PlotPdf(PlotBase):\n",
    "    def init_general(self, **kw):\n",
    "        kw = kw.copy()\n",
    "\n",
    "        paper_width = 297.\n",
    "        paper_height = 210.\n",
    "        mmpi = 25.4\n",
    "\n",
    "        kw['left'] = 1.5\n",
    "        kw['top'] = 1.5\n",
    "        width = kw['height'] * kw['aspect']\n",
    "        kw['right'] = paper_width/mmpi - (\n",
    "            2*width + kw['wspace'] + kw['left']\n",
    "        )\n",
    "        kw['bottom'] = paper_height/mmpi - (\n",
    "            2*kw['height'] + kw['hspace'] + kw['top']\n",
    "        )\n",
    "        super().init_general(**kw)\n",
    "\n",
    "    def savefig(self, path, **kw):\n",
    "        \"\"\"Wrapper for figure.savefig()\n",
    "        Default parameters defined by self.kw_savefig and updates\n",
    "        specified by the keyword arguments are passed\n",
    "\n",
    "        Parameters\n",
    "        ----------\n",
    "        path\n",
    "            Output file path with supported file name extension,\n",
    "            such as 'png', 'svg', etc.\n",
    "        \"\"\"\n",
    "        if isinstance(path, PdfPages):\n",
    "            logger.info('page [{}])'.format(path.get_pagecount() + 1))\n",
    "            path.savefig(self.figure)\n",
    "        else:\n",
    "            kw_savefig = self.kw_savefig.copy()\n",
    "            kw_savefig.update(kw)\n",
    "            logger.info(f'saved to {path}')\n",
    "            self.figure.savefig(path, **kw_savefig)"
   ]
  },
  {
   "cell_type": "code",
   "execution_count": 17,
   "metadata": {},
   "outputs": [],
   "source": [
    "forcing = RfCO2()\n",
    "climate = IrmBase()\n",
    "myplt = PlotPdf()"
   ]
  },
  {
   "cell_type": "code",
   "execution_count": 5,
   "metadata": {},
   "outputs": [],
   "source": [
    "with pd.HDFStore('data/cmip_normalized.h5', 'r') as store:\n",
    "    df_norm_cmip5 = store['CMIP5/climate_norm1']\n",
    "    df_norm_cmip6 = store['CMIP6/climate_norm1']"
   ]
  },
  {
   "cell_type": "code",
   "execution_count": 6,
   "metadata": {},
   "outputs": [],
   "source": [
    "df_parms = {}\n",
    "\n",
    "with Dataset('mce/data/parms/parms_irm-3_rtnt-tas_cmip5.nc') as ncf:\n",
    "    df_parms['CMIP5'] = pd.DataFrame({\n",
    "        k: v[:].filled()\n",
    "        for k, v in ncf.variables.items() if k not in ['dataset']\n",
    "    }, index=[\n",
    "        ''.join(x.astype(str)).strip()\n",
    "        for x in ncf.variables['dataset'][:]\n",
    "    ])\n",
    "\n",
    "with Dataset('mce/data/parms/parms_irm-3_rtnt-tas_cmip6.nc') as ncf:\n",
    "    df_parms['CMIP6'] = pd.DataFrame({\n",
    "        k: v[:].filled()\n",
    "        for k, v in ncf.variables.items() if k not in ['dataset']\n",
    "    }, index=[\n",
    "        ''.join(x.astype(str)).strip()\n",
    "        for x in ncf.variables['dataset'][:]\n",
    "    ])"
   ]
  },
  {
   "cell_type": "code",
   "execution_count": 7,
   "metadata": {},
   "outputs": [],
   "source": [
    "df_parms = pd.concat(df_parms).rename(\n",
    "    columns={\n",
    "        'time_constant_0': 'tau0',\n",
    "        'time_constant_1': 'tau1',\n",
    "        'time_constant_2': 'tau2',\n",
    "        'amplitude_0': 'a0',\n",
    "        'amplitude_1': 'a1',\n",
    "        'amplitude_2': 'a2',\n",
    "    }\n",
    ").rename_axis(['mip', 'dataset']).sort_index(key=lambda x: x.str.lower())"
   ]
  },
  {
   "cell_type": "code",
   "execution_count": 12,
   "metadata": {},
   "outputs": [],
   "source": [
    "space = {\n",
    "    'height': 2.5,\n",
    "    'aspect': 1.4,\n",
    "    'wspace': 0.9,\n",
    "    'hspace': 0.4,\n",
    "    'left': 1.5,\n",
    "    'top': 1.5,\n",
    "}\n",
    "# paper_width = 297.\n",
    "# paper_height = 210.\n",
    "# mmpi = 25.4\n",
    "# width = space['height'] * space['aspect']\n",
    "# space['right'] = paper_width/mmpi - (\n",
    "#     2*width + space['wspace'] + space['left'])\n",
    "# space['bottom'] = paper_height/mmpi - (\n",
    "#     2*space['height'] + space['hspace'] + space['top'])\n",
    "# xpos = (space['left'] + width + 0.5*space['wspace']) / (paper_width/mmpi)\n",
    "# ypos = (\n",
    "#     space['bottom'] + 2*space['height'] + space['hspace'] + 0.3\n",
    "# ) / (paper_height/mmpi)"
   ]
  },
  {
   "cell_type": "code",
   "execution_count": 13,
   "metadata": {},
   "outputs": [],
   "source": [
    "min_n = []\n",
    "max_n = []\n",
    "min_t = []\n",
    "max_t = []\n",
    "gcm_data = {}\n",
    "\n",
    "for dataset, parms in df_parms.loc['CMIP6'].iterrows():\n",
    "    df = df_norm_cmip6.loc[dataset]\n",
    "    gcm = {\n",
    "        '4x_n': df.loc[('abrupt-4xCO2', 'rtnt')].dropna().values,\n",
    "        '4x_t': df.loc[('abrupt-4xCO2', 'tas')].dropna().values,\n",
    "        '1p_n': df.loc[('1pctCO2', 'rtnt')].dropna().values,\n",
    "        '1p_t': df.loc[('1pctCO2', 'tas')].dropna().values,\n",
    "    }\n",
    "    gcm_data[dataset] = gcm\n",
    "\n",
    "    min_n.append(min(gcm['4x_n'].min(), gcm['1p_n'].min()))\n",
    "    max_n.append(max(gcm['4x_n'].max(), gcm['1p_n'].max()))\n",
    "    min_t.append(min(gcm['4x_t'].min(), gcm['1p_t'].min()))\n",
    "    max_t.append(max(gcm['4x_t'].max(), gcm['1p_t'].max()))\n",
    "\n",
    "xlim = [min(min_t)-0.2, max(max_t)]\n",
    "ylim = [min(min_n)-0.2, max(max_n)]\n",
    "\n",
    "fmax = (df_parms['alpha'] * df_parms['beta'] * np.log(4.)).max()\n",
    "fmax_reg = (df_parms['lambda_reg'] * df_parms['ecs_reg'] * 2).max()\n",
    "tmax = (df_parms['alpha'] * df_parms['beta'] * np.log(4.) \\\n",
    "        / df_parms['lambda']).max()\n",
    "tmax_reg = df_parms['ecs_reg'].max() * 2\n",
    "\n",
    "xlim[1] = max(xlim[1], tmax, tmax_reg)\n",
    "ylim[1] = max(ylim[1], fmax, fmax_reg)"
   ]
  },
  {
   "cell_type": "code",
   "execution_count": 23,
   "metadata": {},
   "outputs": [],
   "source": [
    "outpath = PdfPages('untracked/fitting_results.pdf')"
   ]
  },
  {
   "cell_type": "code",
   "execution_count": 24,
   "metadata": {},
   "outputs": [
    {
     "name": "stderr",
     "output_type": "stream",
     "text": [
      "[2024-09-20 18:01:40 __main__] INFO:page [1])\n",
      "[2024-09-20 18:01:40 __main__] INFO:page [2])\n",
      "[2024-09-20 18:01:40 __main__] INFO:page [3])\n"
     ]
    },
    {
     "data": {
      "text/plain": [
       "<Figure size 841.89x595.276 with 0 Axes>"
      ]
     },
     "metadata": {},
     "output_type": "display_data"
    },
    {
     "data": {
      "text/plain": [
       "<Figure size 841.89x595.276 with 0 Axes>"
      ]
     },
     "metadata": {},
     "output_type": "display_data"
    },
    {
     "data": {
      "text/plain": [
       "<Figure size 841.89x595.276 with 0 Axes>"
      ]
     },
     "metadata": {},
     "output_type": "display_data"
    }
   ],
   "source": [
    "for dataset, parms in df_parms.loc['CMIP6'].iloc[:3].iterrows():\n",
    "    parms = df_parms.loc[('CMIP6', dataset)]\n",
    "\n",
    "    forcing.parms.update(\n",
    "        alpha=parms['alpha'],\n",
    "        beta=parms['beta'],\n",
    "    )\n",
    "    climate.parms.update(\n",
    "        asj=parms[['a0', 'a1', 'a2']].values,\n",
    "        tauj=parms[['tau0', 'tau1', 'tau2']].values,\n",
    "        lamb=parms['lambda'],\n",
    "    )\n",
    "\n",
    "    names = {'var_n': 'rtnt', 'var_t': 'tas', 'dataset': dataset}\n",
    "    plot_fitting(\n",
    "        myplt, gcm_data[dataset], forcing, climate, names, parms.to_dict(),\n",
    "    )\n",
    "    myplt(2).set_xlim(*xlim)\n",
    "    myplt(2).set_ylim(*ylim)\n",
    "    myplt.savefig(outpath)\n",
    "\n",
    "myplt.clear()"
   ]
  },
  {
   "cell_type": "code",
   "execution_count": 25,
   "metadata": {},
   "outputs": [],
   "source": [
    "outpath.close()"
   ]
  },
  {
   "cell_type": "code",
   "execution_count": 4,
   "metadata": {},
   "outputs": [
    {
     "name": "stderr",
     "output_type": "stream",
     "text": [
      "[2020-05-24 15:05:19 mce] INFO:page [1])\n",
      "[2020-05-24 15:05:19 mce] INFO:page [2])\n",
      "[2020-05-24 15:05:19 mce] INFO:page [3])\n",
      "[2020-05-24 15:05:20 mce] INFO:page [4])\n",
      "[2020-05-24 15:05:20 mce] INFO:page [5])\n",
      "[2020-05-24 15:05:20 mce] INFO:page [6])\n",
      "[2020-05-24 15:05:21 mce] INFO:page [7])\n",
      "[2020-05-24 15:05:21 mce] INFO:page [8])\n",
      "[2020-05-24 15:05:21 mce] INFO:page [9])\n",
      "[2020-05-24 15:05:22 mce] INFO:page [10])\n",
      "[2020-05-24 15:05:22 mce] INFO:page [11])\n",
      "[2020-05-24 15:05:22 mce] INFO:page [12])\n",
      "[2020-05-24 15:05:23 mce] INFO:page [13])\n",
      "[2020-05-24 15:05:23 mce] INFO:page [14])\n",
      "[2020-05-24 15:05:23 mce] INFO:page [15])\n",
      "[2020-05-24 15:05:23 mce] INFO:page [16])\n",
      "[2020-05-24 15:05:24 mce] INFO:page [17])\n",
      "[2020-05-24 15:05:24 mce] INFO:page [18])\n",
      "[2020-05-24 15:05:24 mce] INFO:page [19])\n",
      "[2020-05-24 15:05:25 mce] INFO:page [20])\n",
      "[2020-05-24 15:05:25 mce] INFO:page [21])\n",
      "[2020-05-24 15:05:25 mce] INFO:page [22])\n",
      "[2020-05-24 15:05:26 mce] INFO:page [23])\n",
      "[2020-05-24 15:05:26 mce] INFO:page [24])\n",
      "[2020-05-24 15:05:26 mce] INFO:page [25])\n",
      "[2020-05-24 15:05:27 mce] INFO:page [26])\n",
      "[2020-05-24 15:05:27 mce] INFO:page [27])\n",
      "[2020-05-24 15:05:27 mce] INFO:page [28])\n",
      "[2020-05-24 15:05:27 mce] INFO:page [29])\n",
      "[2020-05-24 15:05:28 mce] INFO:page [30])\n",
      "[2020-05-24 15:05:28 mce] INFO:page [31])\n",
      "[2020-05-24 15:05:28 mce] INFO:page [32])\n",
      "[2020-05-24 15:05:29 mce] INFO:page [33])\n",
      "[2020-05-24 15:05:29 mce] INFO:page [34])\n",
      "[2020-05-24 15:05:29 mce] INFO:page [35])\n",
      "[2020-05-24 15:05:29 mce] INFO:page [36])\n",
      "[2020-05-24 15:05:30 mce] INFO:page [37])\n",
      "[2020-05-24 15:05:30 mce] INFO:page [38])\n"
     ]
    }
   ],
   "source": [
    "pdf = PdfPages('../image/fitting_results.pdf')\n",
    "\n",
    "names = {'var_n': obj.var_n, 'var_t': obj.var_t, 'dataset': ''}\n",
    "\n",
    "for dataset in cmip_models:\n",
    "    parms = parms_all.drop('mip', axis=1).loc[dataset]\n",
    "    forcing, irm, ecs, tcr = obj.get_irm(parms)\n",
    "    names['dataset'] = dataset\n",
    "    p1 = plot_fitting(gcm_data[dataset], forcing, irm, names, parms.to_dict(), kw_space=kw_space)\n",
    "    p1.figure.axes[2].set_xlim(*xlim)\n",
    "    p1.figure.axes[2].set_ylim(*ylim)\n",
    "    p1.figure.text(xpos, ypos, dataset, ha='center', va='bottom', fontsize='x-large')\n",
    "    p1.savefig(pdf)\n",
    "\n",
    "pdf.close()"
   ]
  }
 ],
 "metadata": {
  "kernelspec": {
   "display_name": "Python 3 (ipykernel)",
   "language": "python",
   "name": "python3"
  },
  "language_info": {
   "codemirror_mode": {
    "name": "ipython",
    "version": 3
   },
   "file_extension": ".py",
   "mimetype": "text/x-python",
   "name": "python",
   "nbconvert_exporter": "python",
   "pygments_lexer": "ipython3",
   "version": "3.12.3"
  }
 },
 "nbformat": 4,
 "nbformat_minor": 4
}
