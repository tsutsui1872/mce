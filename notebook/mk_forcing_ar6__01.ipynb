{
 "cells": [
  {
   "cell_type": "markdown",
   "metadata": {},
   "source": [
    "# AR6-based forcing. Part 1\n",
    "\n",
    "Based on `12_make-forcing.py` and `13_radiative-forcing-barchart.py`\n",
    "in https://github.com/ClimateIndicator/forcing-timeseries"
   ]
  },
  {
   "cell_type": "code",
   "execution_count": null,
   "metadata": {},
   "outputs": [],
   "source": [
    "%cd .."
   ]
  },
  {
   "cell_type": "code",
   "execution_count": 3,
   "metadata": {},
   "outputs": [],
   "source": [
    "import pathlib\n",
    "import numpy as np\n",
    "import pandas as pd\n",
    "from scipy import stats, optimize\n",
    "from mce.core import ScenarioBase"
   ]
  },
  {
   "cell_type": "code",
   "execution_count": 4,
   "metadata": {},
   "outputs": [
    {
     "name": "stderr",
     "output_type": "stream",
     "text": [
      "[2025-04-18 09:35:06 mce.core] INFO:file datain/ds_historical.h5 opened with mode=w\n"
     ]
    }
   ],
   "source": [
    "outpath = 'datain/ds_historical.h5'\n",
    "ds = ScenarioBase(outpath=outpath)"
   ]
  },
  {
   "cell_type": "code",
   "execution_count": 6,
   "metadata": {},
   "outputs": [],
   "source": [
    "path_indicator = pathlib.Path('../ClimateIndicator')"
   ]
  },
  {
   "cell_type": "code",
   "execution_count": 2,
   "metadata": {},
   "outputs": [],
   "source": [
    "repo = RetrieveGitHub('ClimateIndicator', 'forcing-timeseries', 'datain')"
   ]
  },
  {
   "cell_type": "code",
   "execution_count": 3,
   "metadata": {},
   "outputs": [],
   "source": [
    "outpath = 'untracked/datain.h5'\n",
    "dname = 'ClimateIndicator-2024/forcing-timeseries'\n",
    "\n",
    "with h5py.File(outpath, mode='a') as h5f:\n",
    "    if dname in h5f:\n",
    "        grp = h5f[dname]\n",
    "        grp.clear()\n",
    "    else:\n",
    "        grp = h5f.create_group(dname)"
   ]
  },
  {
   "cell_type": "markdown",
   "metadata": {},
   "source": [
    "## Uncertainty ranges"
   ]
  },
  {
   "cell_type": "code",
   "execution_count": 7,
   "metadata": {},
   "outputs": [],
   "source": [
    "SAMPLES = 100000\n",
    "NINETY_TO_ONESIGMA = stats.norm.ppf(0.95)\n",
    "# Required adjustment to each species to ensure overall halogenated gas ERF uncertainty is around 19%\n",
    "HALOGEN_SCALING = 2.05"
   ]
  },
  {
   "cell_type": "code",
   "execution_count": 8,
   "metadata": {},
   "outputs": [
    {
     "data": {
      "text/plain": [
       "49"
      ]
     },
     "execution_count": 8,
     "metadata": {},
     "output_type": "execute_result"
    }
   ],
   "source": [
    "species_halogen = [\n",
    "    # hydrofluorocarbons (HFC) and fully fluorinated species including perfluorocarbons (PFCs)\n",
    "    'HFC-125', 'HFC-134a', 'HFC-143a', 'HFC-152a', 'HFC-227ea', 'HFC-23',\n",
    "    'HFC-236fa', 'HFC-245fa', 'HFC-32', 'HFC-365mfc', 'HFC-43-10mee',\n",
    "    'NF3', 'C2F6', 'C3F8', 'n-C4F10', 'n-C5F12', 'n-C6F14', 'i-C6F14',\n",
    "    'C7F16', 'C8F18', 'CF4', 'c-C4F8', 'SF6', 'SO2F2', 'CCl4',\n",
    "    # chlorofluorocarbons (CFC), hydrofluorochlorocarbons (HCFC),\n",
    "    # chlorocarbons, hydrochlorocarbons,\n",
    "    # bromocarbons, hydrobromocarbons, and halons\n",
    "    'CFC-11', 'CFC-112', 'CFC-112a', 'CFC-113', 'CFC-113a', 'CFC-114',\n",
    "    'CFC-114a', 'CFC-115', 'CFC-12', 'CFC-13', 'CH2Cl2',\n",
    "    'CH3Br', 'CH3CCl3', 'CH3Cl', 'CHCl3',\n",
    "    'HCFC-124', 'HCFC-133a', 'HCFC-141b', 'HCFC-142b', 'HCFC-22', 'HCFC-31',\n",
    "    'Halon-1211', 'Halon-1301', 'Halon-2402',\n",
    "]\n",
    "len(species_halogen)"
   ]
  },
  {
   "cell_type": "code",
   "execution_count": 9,
   "metadata": {},
   "outputs": [],
   "source": [
    "# uncertainties from IPCC\n",
    "uncertainty_seed = 38572\n",
    "\n",
    "unc_ranges = pd.Series({\n",
    "    k: v / NINETY_TO_ONESIGMA\n",
    "    for k, v in {\n",
    "        'CO2': 0.12,\n",
    "        'CH4': 0.20,\n",
    "        'N2O': 0.14,\n",
    "        'O3': 0.50, # total ozone\n",
    "        'H2O_stratospheric': 1.00, # stratospheric WV from CH4\n",
    "        'contrails': 0.70, # contrails approx - half-normal\n",
    "        'BC_on_snow': 1.25, # bc on snow - half-normal\n",
    "        # 'land_use': 0.50, # land use change\n",
    "        'land_use': 2./3., # land use change\n",
    "        'volcanic': 0.25,\n",
    "        'solar': 0.5, # solar (amplitude)\n",
    "        **{\n",
    "            k1: 0.26 * HALOGEN_SCALING if k1 in [\n",
    "                'HFC-152a', 'CH2Cl2', 'CH3Cl', 'CHCl3',\n",
    "                'HCFC-133a', 'HCFC-31',\n",
    "            ] else 0.19 * HALOGEN_SCALING\n",
    "            for k1 in species_halogen\n",
    "        },\n",
    "    }.items()\n",
    "})"
   ]
  },
  {
   "cell_type": "code",
   "execution_count": 10,
   "metadata": {},
   "outputs": [],
   "source": [
    "unc_ranges = unc_ranges.reindex(\n",
    "    ['CO2', 'CH4', 'N2O']\n",
    "    + species_halogen\n",
    "    + [\n",
    "        'O3', 'H2O_stratospheric', 'contrails', 'BC_on_snow', 'land_use',\n",
    "        'volcanic', 'solar',\n",
    "    ]\n",
    ")"
   ]
  },
  {
   "cell_type": "code",
   "execution_count": 11,
   "metadata": {},
   "outputs": [],
   "source": [
    "n = len(unc_ranges)\n",
    "df_scale = pd.DataFrame(\n",
    "    stats.norm.rvs(\n",
    "        size=(SAMPLES, n), \n",
    "        loc=np.ones((SAMPLES, n)), \n",
    "        scale=unc_ranges.values, \n",
    "        random_state=uncertainty_seed,\n",
    "    ),\n",
    "    columns=unc_ranges.index,\n",
    ")"
   ]
  },
  {
   "cell_type": "code",
   "execution_count": 12,
   "metadata": {},
   "outputs": [],
   "source": [
    "def f_opt(x, q05_desired, q50_desired, q95_desired):\n",
    "    \"x is (a, loc, scale) in that order.\"\n",
    "    q05, q50, q95 = stats.skewnorm.ppf(\n",
    "        (0.05, 0.50, 0.95), x[0], loc=x[1], scale=x[2]\n",
    "    )\n",
    "    return (q05 - q05_desired, q50 - q50_desired, q95 - q95_desired)\n",
    "\n",
    "lapsi_params = optimize.root(f_opt, [1, 1, 1], args=(0, 1, 2.25)).x\n",
    "contrails_params = optimize.root(f_opt, [1, 1, 1], args=(19/57, 1, 98/57)).x\n",
    "irrigation_params = optimize.root(f_opt, [1.5, 0.5, 1], args=(-1, 1, 2)).x\n",
    "# -0.1 to +0.05, best -0.05, so -1 to +2 x best"
   ]
  },
  {
   "cell_type": "code",
   "execution_count": 13,
   "metadata": {},
   "outputs": [],
   "source": [
    "# skewnormal for asymmetric distributions\n",
    "df_scale['BC_on_snow'] = stats.skewnorm.rvs(\n",
    "    lapsi_params[0],\n",
    "    loc=lapsi_params[1],\n",
    "    scale=lapsi_params[2],\n",
    "    size=SAMPLES,\n",
    "    random_state=3701584,\n",
    ")\n",
    "df_scale['contrails'] = stats.skewnorm.rvs(\n",
    "    contrails_params[0],\n",
    "    loc=contrails_params[1],\n",
    "    scale=contrails_params[2],\n",
    "    size=SAMPLES,\n",
    "    random_state=3701585,\n",
    ")\n",
    "df_scale['irrigation'] = stats.skewnorm.rvs(\n",
    "    irrigation_params[0],\n",
    "    loc=irrigation_params[1],\n",
    "    scale=irrigation_params[2],\n",
    "    size=SAMPLES,\n",
    "    random_state=13710426,\n",
    ")\n",
    "trend_solar = pd.Series(stats.norm.rvs(\n",
    "    size=SAMPLES, \n",
    "    loc=0., \n",
    "    scale=0.07/NINETY_TO_ONESIGMA, \n",
    "    random_state=uncertainty_seed,\n",
    "))"
   ]
  },
  {
   "cell_type": "code",
   "execution_count": 14,
   "metadata": {},
   "outputs": [
    {
     "data": {
      "text/plain": [
       "(100000, 60)"
      ]
     },
     "execution_count": 14,
     "metadata": {},
     "output_type": "execute_result"
    }
   ],
   "source": [
    "df_scale.shape"
   ]
  },
  {
   "cell_type": "code",
   "execution_count": 15,
   "metadata": {},
   "outputs": [],
   "source": [
    "g = ds.file.create_group('source/forcing-timeseries/unc/scale')\n",
    "g.attrs['description'] = 'Scale factors by forcing agent'\n",
    "for k, v in df_scale.items():\n",
    "    g.create_dataset(k, data=v.values, chunks=True)"
   ]
  },
  {
   "cell_type": "code",
   "execution_count": 16,
   "metadata": {},
   "outputs": [],
   "source": [
    "d = ds.file.create_dataset(\n",
    "    'source/forcing-timeseries/unc/trend_solar',\n",
    "    data=trend_solar.values, chunks=True,\n",
    ")\n",
    "d.attrs['description'] = 'Uncertainty factor of solar trend'"
   ]
  },
  {
   "cell_type": "markdown",
   "metadata": {},
   "source": [
    "## Input data"
   ]
  },
  {
   "cell_type": "markdown",
   "metadata": {},
   "source": [
    "### Emissions from Global Carbon Project"
   ]
  },
  {
   "cell_type": "code",
   "execution_count": 18,
   "metadata": {},
   "outputs": [],
   "source": [
    "path = path_indicator.joinpath('forcing-timeseries/data/gcp_emissions/gcp_2024.csv')\n",
    "df = pd.read_csv(path, index_col=0)"
   ]
  },
  {
   "cell_type": "code",
   "execution_count": 19,
   "metadata": {},
   "outputs": [
    {
     "data": {
      "text/plain": [
       "'Emissions of CO2 from 1750 to 2024'"
      ]
     },
     "execution_count": 19,
     "metadata": {},
     "output_type": "execute_result"
    }
   ],
   "source": [
    "desc = 'Emissions of CO2 from {} to {}'.format(\n",
    "    df.index[0], df.index[-1],\n",
    ")\n",
    "desc"
   ]
  },
  {
   "cell_type": "code",
   "execution_count": 23,
   "metadata": {},
   "outputs": [],
   "source": [
    "g = ds.file.create_group('source/forcing-timeseries/gcp_emissions')\n",
    "g.attrs['description'] = desc\n",
    "d = g.create_dataset('time', data=df.index.values)\n",
    "d.attrs['units'] = 'yr'\n",
    "for k, v in df.items():\n",
    "    d = g.create_dataset(k, data=v.values)\n",
    "    d.attrs['units'] = 'Gt C yr-1'"
   ]
  },
  {
   "cell_type": "markdown",
   "metadata": {},
   "source": [
    "### GHG concentrations"
   ]
  },
  {
   "cell_type": "code",
   "execution_count": 26,
   "metadata": {},
   "outputs": [],
   "source": [
    "path = path_indicator.joinpath('forcing-timeseries/output/ghg_concentrations_1750-2024.csv')\n",
    "df = pd.read_csv(path, index_col=0)"
   ]
  },
  {
   "cell_type": "code",
   "execution_count": 27,
   "metadata": {},
   "outputs": [
    {
     "data": {
      "text/html": [
       "<div>\n",
       "<style scoped>\n",
       "    .dataframe tbody tr th:only-of-type {\n",
       "        vertical-align: middle;\n",
       "    }\n",
       "\n",
       "    .dataframe tbody tr th {\n",
       "        vertical-align: top;\n",
       "    }\n",
       "\n",
       "    .dataframe thead th {\n",
       "        text-align: right;\n",
       "    }\n",
       "</style>\n",
       "<table border=\"1\" class=\"dataframe\">\n",
       "  <thead>\n",
       "    <tr style=\"text-align: right;\">\n",
       "      <th></th>\n",
       "      <th>CO2</th>\n",
       "      <th>CH4</th>\n",
       "      <th>N2O</th>\n",
       "      <th>HFC-134a</th>\n",
       "      <th>HFC-23</th>\n",
       "      <th>HFC-32</th>\n",
       "      <th>HFC-125</th>\n",
       "      <th>HFC-143a</th>\n",
       "      <th>HFC-152a</th>\n",
       "      <th>HFC-227ea</th>\n",
       "      <th>...</th>\n",
       "      <th>i-C6F14</th>\n",
       "      <th>C7F16</th>\n",
       "      <th>C8F18</th>\n",
       "      <th>CFC-112</th>\n",
       "      <th>CFC-112a</th>\n",
       "      <th>CFC-113a</th>\n",
       "      <th>CFC-114a</th>\n",
       "      <th>HCFC-133a</th>\n",
       "      <th>HCFC-31</th>\n",
       "      <th>HCFC-124</th>\n",
       "    </tr>\n",
       "    <tr>\n",
       "      <th>YYYY</th>\n",
       "      <th></th>\n",
       "      <th></th>\n",
       "      <th></th>\n",
       "      <th></th>\n",
       "      <th></th>\n",
       "      <th></th>\n",
       "      <th></th>\n",
       "      <th></th>\n",
       "      <th></th>\n",
       "      <th></th>\n",
       "      <th></th>\n",
       "      <th></th>\n",
       "      <th></th>\n",
       "      <th></th>\n",
       "      <th></th>\n",
       "      <th></th>\n",
       "      <th></th>\n",
       "      <th></th>\n",
       "      <th></th>\n",
       "      <th></th>\n",
       "      <th></th>\n",
       "    </tr>\n",
       "  </thead>\n",
       "  <tbody>\n",
       "    <tr>\n",
       "      <th>1750</th>\n",
       "      <td>278.377857</td>\n",
       "      <td>729.200000</td>\n",
       "      <td>270.100000</td>\n",
       "      <td>0.00</td>\n",
       "      <td>0.00</td>\n",
       "      <td>0.000218</td>\n",
       "      <td>0.00</td>\n",
       "      <td>0.00</td>\n",
       "      <td>0.00</td>\n",
       "      <td>0.000004</td>\n",
       "      <td>...</td>\n",
       "      <td>0.0000</td>\n",
       "      <td>0.00000</td>\n",
       "      <td>0.000</td>\n",
       "      <td>0.0</td>\n",
       "      <td>0.0000</td>\n",
       "      <td>0.0</td>\n",
       "      <td>0.0000</td>\n",
       "      <td>0.00</td>\n",
       "      <td>0.0000</td>\n",
       "      <td>0.000</td>\n",
       "    </tr>\n",
       "    <tr>\n",
       "      <th>1850</th>\n",
       "      <td>285.583545</td>\n",
       "      <td>807.600000</td>\n",
       "      <td>272.100000</td>\n",
       "      <td>0.00</td>\n",
       "      <td>0.00</td>\n",
       "      <td>0.000218</td>\n",
       "      <td>0.00</td>\n",
       "      <td>0.00</td>\n",
       "      <td>0.00</td>\n",
       "      <td>0.000004</td>\n",
       "      <td>...</td>\n",
       "      <td>0.0000</td>\n",
       "      <td>0.00000</td>\n",
       "      <td>0.000</td>\n",
       "      <td>0.0</td>\n",
       "      <td>0.0000</td>\n",
       "      <td>0.0</td>\n",
       "      <td>0.0000</td>\n",
       "      <td>0.00</td>\n",
       "      <td>0.0000</td>\n",
       "      <td>0.000</td>\n",
       "    </tr>\n",
       "    <tr>\n",
       "      <th>1851</th>\n",
       "      <td>285.705553</td>\n",
       "      <td>807.768974</td>\n",
       "      <td>272.181132</td>\n",
       "      <td>0.00</td>\n",
       "      <td>0.00</td>\n",
       "      <td>0.000221</td>\n",
       "      <td>0.00</td>\n",
       "      <td>0.00</td>\n",
       "      <td>0.00</td>\n",
       "      <td>0.000004</td>\n",
       "      <td>...</td>\n",
       "      <td>0.0000</td>\n",
       "      <td>0.00000</td>\n",
       "      <td>0.000</td>\n",
       "      <td>0.0</td>\n",
       "      <td>0.0000</td>\n",
       "      <td>0.0</td>\n",
       "      <td>0.0000</td>\n",
       "      <td>0.00</td>\n",
       "      <td>0.0000</td>\n",
       "      <td>0.000</td>\n",
       "    </tr>\n",
       "    <tr>\n",
       "      <th>1852</th>\n",
       "      <td>285.843588</td>\n",
       "      <td>808.522848</td>\n",
       "      <td>272.262214</td>\n",
       "      <td>0.00</td>\n",
       "      <td>0.00</td>\n",
       "      <td>0.000223</td>\n",
       "      <td>0.00</td>\n",
       "      <td>0.00</td>\n",
       "      <td>0.00</td>\n",
       "      <td>0.000004</td>\n",
       "      <td>...</td>\n",
       "      <td>0.0000</td>\n",
       "      <td>0.00000</td>\n",
       "      <td>0.000</td>\n",
       "      <td>0.0</td>\n",
       "      <td>0.0000</td>\n",
       "      <td>0.0</td>\n",
       "      <td>0.0000</td>\n",
       "      <td>0.00</td>\n",
       "      <td>0.0000</td>\n",
       "      <td>0.000</td>\n",
       "    </tr>\n",
       "    <tr>\n",
       "      <th>1853</th>\n",
       "      <td>285.967605</td>\n",
       "      <td>809.768605</td>\n",
       "      <td>272.365269</td>\n",
       "      <td>0.00</td>\n",
       "      <td>0.00</td>\n",
       "      <td>0.000226</td>\n",
       "      <td>0.00</td>\n",
       "      <td>0.00</td>\n",
       "      <td>0.00</td>\n",
       "      <td>0.000004</td>\n",
       "      <td>...</td>\n",
       "      <td>0.0000</td>\n",
       "      <td>0.00000</td>\n",
       "      <td>0.000</td>\n",
       "      <td>0.0</td>\n",
       "      <td>0.0000</td>\n",
       "      <td>0.0</td>\n",
       "      <td>0.0000</td>\n",
       "      <td>0.00</td>\n",
       "      <td>0.0000</td>\n",
       "      <td>0.000</td>\n",
       "    </tr>\n",
       "    <tr>\n",
       "      <th>...</th>\n",
       "      <td>...</td>\n",
       "      <td>...</td>\n",
       "      <td>...</td>\n",
       "      <td>...</td>\n",
       "      <td>...</td>\n",
       "      <td>...</td>\n",
       "      <td>...</td>\n",
       "      <td>...</td>\n",
       "      <td>...</td>\n",
       "      <td>...</td>\n",
       "      <td>...</td>\n",
       "      <td>...</td>\n",
       "      <td>...</td>\n",
       "      <td>...</td>\n",
       "      <td>...</td>\n",
       "      <td>...</td>\n",
       "      <td>...</td>\n",
       "      <td>...</td>\n",
       "      <td>...</td>\n",
       "      <td>...</td>\n",
       "      <td>...</td>\n",
       "    </tr>\n",
       "    <tr>\n",
       "      <th>2020</th>\n",
       "      <td>412.440000</td>\n",
       "      <td>1878.700000</td>\n",
       "      <td>333.300000</td>\n",
       "      <td>113.00</td>\n",
       "      <td>33.70</td>\n",
       "      <td>21.500000</td>\n",
       "      <td>32.80</td>\n",
       "      <td>25.50</td>\n",
       "      <td>7.00</td>\n",
       "      <td>1.700000</td>\n",
       "      <td>...</td>\n",
       "      <td>0.0690</td>\n",
       "      <td>0.11984</td>\n",
       "      <td>0.097</td>\n",
       "      <td>0.4</td>\n",
       "      <td>0.0704</td>\n",
       "      <td>1.0</td>\n",
       "      <td>1.0262</td>\n",
       "      <td>0.43</td>\n",
       "      <td>0.0884</td>\n",
       "      <td>0.938</td>\n",
       "    </tr>\n",
       "    <tr>\n",
       "      <th>2021</th>\n",
       "      <td>414.700000</td>\n",
       "      <td>1895.600000</td>\n",
       "      <td>334.600000</td>\n",
       "      <td>118.80</td>\n",
       "      <td>34.90</td>\n",
       "      <td>24.900000</td>\n",
       "      <td>36.30</td>\n",
       "      <td>27.10</td>\n",
       "      <td>7.20</td>\n",
       "      <td>1.900000</td>\n",
       "      <td>...</td>\n",
       "      <td>0.0704</td>\n",
       "      <td>0.12132</td>\n",
       "      <td>0.098</td>\n",
       "      <td>0.4</td>\n",
       "      <td>0.0712</td>\n",
       "      <td>1.1</td>\n",
       "      <td>1.0235</td>\n",
       "      <td>0.43</td>\n",
       "      <td>0.0884</td>\n",
       "      <td>0.922</td>\n",
       "    </tr>\n",
       "    <tr>\n",
       "      <th>2022</th>\n",
       "      <td>417.070000</td>\n",
       "      <td>1911.800000</td>\n",
       "      <td>335.900000</td>\n",
       "      <td>124.40</td>\n",
       "      <td>35.90</td>\n",
       "      <td>27.700000</td>\n",
       "      <td>40.10</td>\n",
       "      <td>29.20</td>\n",
       "      <td>7.40</td>\n",
       "      <td>2.100000</td>\n",
       "      <td>...</td>\n",
       "      <td>0.0718</td>\n",
       "      <td>0.12280</td>\n",
       "      <td>0.099</td>\n",
       "      <td>0.4</td>\n",
       "      <td>0.0720</td>\n",
       "      <td>1.2</td>\n",
       "      <td>1.0208</td>\n",
       "      <td>0.43</td>\n",
       "      <td>0.0884</td>\n",
       "      <td>0.906</td>\n",
       "    </tr>\n",
       "    <tr>\n",
       "      <th>2023</th>\n",
       "      <td>419.230000</td>\n",
       "      <td>1922.900000</td>\n",
       "      <td>337.000000</td>\n",
       "      <td>129.50</td>\n",
       "      <td>36.90</td>\n",
       "      <td>30.500000</td>\n",
       "      <td>43.50</td>\n",
       "      <td>31.20</td>\n",
       "      <td>7.60</td>\n",
       "      <td>2.300000</td>\n",
       "      <td>...</td>\n",
       "      <td>0.0732</td>\n",
       "      <td>0.12428</td>\n",
       "      <td>0.100</td>\n",
       "      <td>0.4</td>\n",
       "      <td>0.0728</td>\n",
       "      <td>1.3</td>\n",
       "      <td>1.0181</td>\n",
       "      <td>0.43</td>\n",
       "      <td>0.0884</td>\n",
       "      <td>0.890</td>\n",
       "    </tr>\n",
       "    <tr>\n",
       "      <th>2024</th>\n",
       "      <td>422.600000</td>\n",
       "      <td>1930.900000</td>\n",
       "      <td>337.800000</td>\n",
       "      <td>135.22</td>\n",
       "      <td>38.12</td>\n",
       "      <td>33.080000</td>\n",
       "      <td>47.07</td>\n",
       "      <td>32.83</td>\n",
       "      <td>7.68</td>\n",
       "      <td>2.460000</td>\n",
       "      <td>...</td>\n",
       "      <td>0.0746</td>\n",
       "      <td>0.12576</td>\n",
       "      <td>0.101</td>\n",
       "      <td>0.4</td>\n",
       "      <td>0.0736</td>\n",
       "      <td>1.4</td>\n",
       "      <td>1.0154</td>\n",
       "      <td>0.43</td>\n",
       "      <td>0.0884</td>\n",
       "      <td>0.874</td>\n",
       "    </tr>\n",
       "  </tbody>\n",
       "</table>\n",
       "<p>176 rows × 52 columns</p>\n",
       "</div>"
      ],
      "text/plain": [
       "             CO2          CH4         N2O  HFC-134a  HFC-23     HFC-32  \\\n",
       "YYYY                                                                     \n",
       "1750  278.377857   729.200000  270.100000      0.00    0.00   0.000218   \n",
       "1850  285.583545   807.600000  272.100000      0.00    0.00   0.000218   \n",
       "1851  285.705553   807.768974  272.181132      0.00    0.00   0.000221   \n",
       "1852  285.843588   808.522848  272.262214      0.00    0.00   0.000223   \n",
       "1853  285.967605   809.768605  272.365269      0.00    0.00   0.000226   \n",
       "...          ...          ...         ...       ...     ...        ...   \n",
       "2020  412.440000  1878.700000  333.300000    113.00   33.70  21.500000   \n",
       "2021  414.700000  1895.600000  334.600000    118.80   34.90  24.900000   \n",
       "2022  417.070000  1911.800000  335.900000    124.40   35.90  27.700000   \n",
       "2023  419.230000  1922.900000  337.000000    129.50   36.90  30.500000   \n",
       "2024  422.600000  1930.900000  337.800000    135.22   38.12  33.080000   \n",
       "\n",
       "      HFC-125  HFC-143a  HFC-152a  HFC-227ea  ...  i-C6F14    C7F16  C8F18  \\\n",
       "YYYY                                          ...                            \n",
       "1750     0.00      0.00      0.00   0.000004  ...   0.0000  0.00000  0.000   \n",
       "1850     0.00      0.00      0.00   0.000004  ...   0.0000  0.00000  0.000   \n",
       "1851     0.00      0.00      0.00   0.000004  ...   0.0000  0.00000  0.000   \n",
       "1852     0.00      0.00      0.00   0.000004  ...   0.0000  0.00000  0.000   \n",
       "1853     0.00      0.00      0.00   0.000004  ...   0.0000  0.00000  0.000   \n",
       "...       ...       ...       ...        ...  ...      ...      ...    ...   \n",
       "2020    32.80     25.50      7.00   1.700000  ...   0.0690  0.11984  0.097   \n",
       "2021    36.30     27.10      7.20   1.900000  ...   0.0704  0.12132  0.098   \n",
       "2022    40.10     29.20      7.40   2.100000  ...   0.0718  0.12280  0.099   \n",
       "2023    43.50     31.20      7.60   2.300000  ...   0.0732  0.12428  0.100   \n",
       "2024    47.07     32.83      7.68   2.460000  ...   0.0746  0.12576  0.101   \n",
       "\n",
       "      CFC-112  CFC-112a  CFC-113a  CFC-114a  HCFC-133a  HCFC-31  HCFC-124  \n",
       "YYYY                                                                       \n",
       "1750      0.0    0.0000       0.0    0.0000       0.00   0.0000     0.000  \n",
       "1850      0.0    0.0000       0.0    0.0000       0.00   0.0000     0.000  \n",
       "1851      0.0    0.0000       0.0    0.0000       0.00   0.0000     0.000  \n",
       "1852      0.0    0.0000       0.0    0.0000       0.00   0.0000     0.000  \n",
       "1853      0.0    0.0000       0.0    0.0000       0.00   0.0000     0.000  \n",
       "...       ...       ...       ...       ...        ...      ...       ...  \n",
       "2020      0.4    0.0704       1.0    1.0262       0.43   0.0884     0.938  \n",
       "2021      0.4    0.0712       1.1    1.0235       0.43   0.0884     0.922  \n",
       "2022      0.4    0.0720       1.2    1.0208       0.43   0.0884     0.906  \n",
       "2023      0.4    0.0728       1.3    1.0181       0.43   0.0884     0.890  \n",
       "2024      0.4    0.0736       1.4    1.0154       0.43   0.0884     0.874  \n",
       "\n",
       "[176 rows x 52 columns]"
      ]
     },
     "execution_count": 27,
     "metadata": {},
     "output_type": "execute_result"
    }
   ],
   "source": [
    "# interpolation between 1750 and 1850 will be conducted later\n",
    "df"
   ]
  },
  {
   "cell_type": "code",
   "execution_count": 28,
   "metadata": {},
   "outputs": [
    {
     "data": {
      "text/plain": [
       "'Concentrations of GHGs from 1750 to 2024'"
      ]
     },
     "execution_count": 28,
     "metadata": {},
     "output_type": "execute_result"
    }
   ],
   "source": [
    "desc = 'Concentrations of GHGs from {} to {}'.format(\n",
    "    df.index[0], df.index[-1],\n",
    ")\n",
    "desc"
   ]
  },
  {
   "cell_type": "code",
   "execution_count": 29,
   "metadata": {},
   "outputs": [],
   "source": [
    "map_units = {'CO2': 'ppm', 'CH4': 'ppb', 'N2O': 'ppb'}\n",
    "g = ds.file.create_group('source/forcing-timeseries/ghg_concentrations')\n",
    "g.attrs['description'] = desc\n",
    "d = g.create_dataset('time', data=df.index.values)\n",
    "d.attrs['units'] = 'yr'\n",
    "for k, v in df.items():\n",
    "    d = g.create_dataset(k, data=v.values)\n",
    "    d.attrs['units'] = map_units.get(k, 'ppt')"
   ]
  },
  {
   "cell_type": "markdown",
   "metadata": {},
   "source": [
    "### SLCF emissions"
   ]
  },
  {
   "cell_type": "code",
   "execution_count": 32,
   "metadata": {},
   "outputs": [],
   "source": [
    "path = path_indicator.joinpath('forcing-timeseries/output/slcf_emissions_1750-2024.csv')\n",
    "df = pd.read_csv(path, index_col=0)"
   ]
  },
  {
   "cell_type": "code",
   "execution_count": 33,
   "metadata": {},
   "outputs": [
    {
     "data": {
      "text/html": [
       "<div>\n",
       "<style scoped>\n",
       "    .dataframe tbody tr th:only-of-type {\n",
       "        vertical-align: middle;\n",
       "    }\n",
       "\n",
       "    .dataframe tbody tr th {\n",
       "        vertical-align: top;\n",
       "    }\n",
       "\n",
       "    .dataframe thead th {\n",
       "        text-align: right;\n",
       "    }\n",
       "</style>\n",
       "<table border=\"1\" class=\"dataframe\">\n",
       "  <thead>\n",
       "    <tr style=\"text-align: right;\">\n",
       "      <th></th>\n",
       "      <th>BC</th>\n",
       "      <th>OC</th>\n",
       "      <th>SO2</th>\n",
       "      <th>NOx</th>\n",
       "      <th>CO</th>\n",
       "      <th>NMVOC</th>\n",
       "      <th>NH3</th>\n",
       "      <th>CH4</th>\n",
       "      <th>N2O</th>\n",
       "    </tr>\n",
       "  </thead>\n",
       "  <tbody>\n",
       "    <tr>\n",
       "      <th>1750</th>\n",
       "      <td>2.117613</td>\n",
       "      <td>15.999935</td>\n",
       "      <td>2.347382</td>\n",
       "      <td>19.412419</td>\n",
       "      <td>348.399748</td>\n",
       "      <td>60.847744</td>\n",
       "      <td>6.746764</td>\n",
       "      <td>NaN</td>\n",
       "      <td>NaN</td>\n",
       "    </tr>\n",
       "    <tr>\n",
       "      <th>1751</th>\n",
       "      <td>2.093255</td>\n",
       "      <td>15.742623</td>\n",
       "      <td>2.313252</td>\n",
       "      <td>19.193014</td>\n",
       "      <td>343.798221</td>\n",
       "      <td>59.916853</td>\n",
       "      <td>6.678384</td>\n",
       "      <td>NaN</td>\n",
       "      <td>NaN</td>\n",
       "    </tr>\n",
       "    <tr>\n",
       "      <th>1752</th>\n",
       "      <td>2.085127</td>\n",
       "      <td>15.590012</td>\n",
       "      <td>2.300284</td>\n",
       "      <td>19.195734</td>\n",
       "      <td>341.680338</td>\n",
       "      <td>59.463534</td>\n",
       "      <td>6.636892</td>\n",
       "      <td>NaN</td>\n",
       "      <td>NaN</td>\n",
       "    </tr>\n",
       "    <tr>\n",
       "      <th>1753</th>\n",
       "      <td>2.093251</td>\n",
       "      <td>15.739703</td>\n",
       "      <td>2.312427</td>\n",
       "      <td>19.111957</td>\n",
       "      <td>343.546226</td>\n",
       "      <td>59.860695</td>\n",
       "      <td>6.698018</td>\n",
       "      <td>NaN</td>\n",
       "      <td>NaN</td>\n",
       "    </tr>\n",
       "    <tr>\n",
       "      <th>1754</th>\n",
       "      <td>2.121135</td>\n",
       "      <td>16.117545</td>\n",
       "      <td>2.362232</td>\n",
       "      <td>19.260410</td>\n",
       "      <td>349.685845</td>\n",
       "      <td>61.107100</td>\n",
       "      <td>6.830938</td>\n",
       "      <td>NaN</td>\n",
       "      <td>NaN</td>\n",
       "    </tr>\n",
       "    <tr>\n",
       "      <th>...</th>\n",
       "      <td>...</td>\n",
       "      <td>...</td>\n",
       "      <td>...</td>\n",
       "      <td>...</td>\n",
       "      <td>...</td>\n",
       "      <td>...</td>\n",
       "      <td>...</td>\n",
       "      <td>...</td>\n",
       "      <td>...</td>\n",
       "    </tr>\n",
       "    <tr>\n",
       "      <th>2020</th>\n",
       "      <td>6.949436</td>\n",
       "      <td>29.221131</td>\n",
       "      <td>68.227768</td>\n",
       "      <td>122.308705</td>\n",
       "      <td>727.018794</td>\n",
       "      <td>185.329595</td>\n",
       "      <td>66.219291</td>\n",
       "      <td>345.134701</td>\n",
       "      <td>10.892619</td>\n",
       "    </tr>\n",
       "    <tr>\n",
       "      <th>2021</th>\n",
       "      <td>7.173922</td>\n",
       "      <td>33.965894</td>\n",
       "      <td>70.870916</td>\n",
       "      <td>125.019717</td>\n",
       "      <td>785.859058</td>\n",
       "      <td>198.995725</td>\n",
       "      <td>68.244617</td>\n",
       "      <td>353.880847</td>\n",
       "      <td>11.234859</td>\n",
       "    </tr>\n",
       "    <tr>\n",
       "      <th>2022</th>\n",
       "      <td>6.697069</td>\n",
       "      <td>25.585478</td>\n",
       "      <td>70.639204</td>\n",
       "      <td>123.258034</td>\n",
       "      <td>665.439079</td>\n",
       "      <td>176.386346</td>\n",
       "      <td>66.818689</td>\n",
       "      <td>354.893434</td>\n",
       "      <td>10.876164</td>\n",
       "    </tr>\n",
       "    <tr>\n",
       "      <th>2023</th>\n",
       "      <td>7.553665</td>\n",
       "      <td>41.050145</td>\n",
       "      <td>72.683433</td>\n",
       "      <td>128.409919</td>\n",
       "      <td>895.985575</td>\n",
       "      <td>224.071856</td>\n",
       "      <td>71.556562</td>\n",
       "      <td>369.060112</td>\n",
       "      <td>11.609022</td>\n",
       "    </tr>\n",
       "    <tr>\n",
       "      <th>2024</th>\n",
       "      <td>7.513804</td>\n",
       "      <td>36.068592</td>\n",
       "      <td>71.178772</td>\n",
       "      <td>130.410063</td>\n",
       "      <td>845.321751</td>\n",
       "      <td>212.745055</td>\n",
       "      <td>70.633588</td>\n",
       "      <td>367.545240</td>\n",
       "      <td>11.500004</td>\n",
       "    </tr>\n",
       "  </tbody>\n",
       "</table>\n",
       "<p>275 rows × 9 columns</p>\n",
       "</div>"
      ],
      "text/plain": [
       "            BC         OC        SO2         NOx          CO       NMVOC  \\\n",
       "1750  2.117613  15.999935   2.347382   19.412419  348.399748   60.847744   \n",
       "1751  2.093255  15.742623   2.313252   19.193014  343.798221   59.916853   \n",
       "1752  2.085127  15.590012   2.300284   19.195734  341.680338   59.463534   \n",
       "1753  2.093251  15.739703   2.312427   19.111957  343.546226   59.860695   \n",
       "1754  2.121135  16.117545   2.362232   19.260410  349.685845   61.107100   \n",
       "...        ...        ...        ...         ...         ...         ...   \n",
       "2020  6.949436  29.221131  68.227768  122.308705  727.018794  185.329595   \n",
       "2021  7.173922  33.965894  70.870916  125.019717  785.859058  198.995725   \n",
       "2022  6.697069  25.585478  70.639204  123.258034  665.439079  176.386346   \n",
       "2023  7.553665  41.050145  72.683433  128.409919  895.985575  224.071856   \n",
       "2024  7.513804  36.068592  71.178772  130.410063  845.321751  212.745055   \n",
       "\n",
       "            NH3         CH4        N2O  \n",
       "1750   6.746764         NaN        NaN  \n",
       "1751   6.678384         NaN        NaN  \n",
       "1752   6.636892         NaN        NaN  \n",
       "1753   6.698018         NaN        NaN  \n",
       "1754   6.830938         NaN        NaN  \n",
       "...         ...         ...        ...  \n",
       "2020  66.219291  345.134701  10.892619  \n",
       "2021  68.244617  353.880847  11.234859  \n",
       "2022  66.818689  354.893434  10.876164  \n",
       "2023  71.556562  369.060112  11.609022  \n",
       "2024  70.633588  367.545240  11.500004  \n",
       "\n",
       "[275 rows x 9 columns]"
      ]
     },
     "execution_count": 33,
     "metadata": {},
     "output_type": "execute_result"
    }
   ],
   "source": [
    "df"
   ]
  },
  {
   "cell_type": "code",
   "execution_count": 34,
   "metadata": {},
   "outputs": [
    {
     "data": {
      "text/plain": [
       "'Emissions of SLCF species from 1750 to 2024'"
      ]
     },
     "execution_count": 34,
     "metadata": {},
     "output_type": "execute_result"
    }
   ],
   "source": [
    "desc = 'Emissions of SLCF species from {} to {}'.format(\n",
    "    df.index[0], df.index[-1],\n",
    ")\n",
    "desc"
   ]
  },
  {
   "cell_type": "code",
   "execution_count": 36,
   "metadata": {},
   "outputs": [],
   "source": [
    "g = ds.file.create_group('source/forcing-timeseries/slcf_emissions')\n",
    "g.attrs['description'] = desc\n",
    "d = g.create_dataset('time', data=df.index.values)\n",
    "d.attrs['units'] = 'yr'\n",
    "for k, v in df.items():\n",
    "    d = g.create_dataset(k, data=v.values)\n",
    "    # NOx is scaled to NO2\n",
    "    units = 'Mt {} yr-1'.format(k.replace('NOx', 'NO2'))\n",
    "    d.attrs['units'] = units"
   ]
  },
  {
   "cell_type": "markdown",
   "metadata": {},
   "source": [
    "### Solar irradiance"
   ]
  },
  {
   "cell_type": "code",
   "execution_count": 38,
   "metadata": {},
   "outputs": [],
   "source": [
    "path = path_indicator.joinpath('forcing-timeseries/data/ar6/solar_erf.csv')\n",
    "d1 = (\n",
    "    pd.read_csv(path, index_col=0)\n",
    "    .squeeze()\n",
    "    .rename_axis(None)\n",
    "    .rename(None)\n",
    ")"
   ]
  },
  {
   "cell_type": "code",
   "execution_count": 39,
   "metadata": {},
   "outputs": [
    {
     "data": {
      "text/plain": [
       "'Effective radiative forcing of solar irradiance from -6755 to 2299'"
      ]
     },
     "execution_count": 39,
     "metadata": {},
     "output_type": "execute_result"
    }
   ],
   "source": [
    "desc = 'Effective radiative forcing of solar irradiance from {} to {}'.format(\n",
    "    d1.index[0], d1.index[-1],\n",
    ")\n",
    "desc"
   ]
  },
  {
   "cell_type": "code",
   "execution_count": 40,
   "metadata": {},
   "outputs": [],
   "source": [
    "g = ds.file.create_group('source/forcing-timeseries/erf_solar')\n",
    "g.attrs['description'] = desc\n",
    "d = g.create_dataset('time', data=d1.index.values)\n",
    "d.attrs['units'] = 'yr'\n",
    "d = g.create_dataset('value', data=d1.values)\n",
    "d.attrs['units'] = 'W m-2'"
   ]
  },
  {
   "cell_type": "markdown",
   "metadata": {},
   "source": [
    "### Volcanic aerosols"
   ]
  },
  {
   "cell_type": "code",
   "execution_count": 42,
   "metadata": {},
   "outputs": [],
   "source": [
    "path = path_indicator.joinpath('forcing-timeseries/output/volcanic_sAOD_ERF_annual_-9500-2024.csv')\n",
    "df = pd.read_csv(path, index_col=0).rename(int)"
   ]
  },
  {
   "cell_type": "code",
   "execution_count": 43,
   "metadata": {},
   "outputs": [
    {
     "data": {
      "text/html": [
       "<div>\n",
       "<style scoped>\n",
       "    .dataframe tbody tr th:only-of-type {\n",
       "        vertical-align: middle;\n",
       "    }\n",
       "\n",
       "    .dataframe tbody tr th {\n",
       "        vertical-align: top;\n",
       "    }\n",
       "\n",
       "    .dataframe thead th {\n",
       "        text-align: right;\n",
       "    }\n",
       "</style>\n",
       "<table border=\"1\" class=\"dataframe\">\n",
       "  <thead>\n",
       "    <tr style=\"text-align: right;\">\n",
       "      <th></th>\n",
       "      <th>stratospheric_AOD</th>\n",
       "      <th>ERF_sulfate</th>\n",
       "      <th>ERF_H2O</th>\n",
       "      <th>volcanic_ERF</th>\n",
       "    </tr>\n",
       "    <tr>\n",
       "      <th>year</th>\n",
       "      <th></th>\n",
       "      <th></th>\n",
       "      <th></th>\n",
       "      <th></th>\n",
       "    </tr>\n",
       "  </thead>\n",
       "  <tbody>\n",
       "    <tr>\n",
       "      <th>-9499</th>\n",
       "      <td>0.002910</td>\n",
       "      <td>0.246405</td>\n",
       "      <td>0.000000</td>\n",
       "      <td>0.246405</td>\n",
       "    </tr>\n",
       "    <tr>\n",
       "      <th>-9498</th>\n",
       "      <td>0.002910</td>\n",
       "      <td>0.246405</td>\n",
       "      <td>0.000000</td>\n",
       "      <td>0.246405</td>\n",
       "    </tr>\n",
       "    <tr>\n",
       "      <th>-9497</th>\n",
       "      <td>0.002910</td>\n",
       "      <td>0.246405</td>\n",
       "      <td>0.000000</td>\n",
       "      <td>0.246405</td>\n",
       "    </tr>\n",
       "    <tr>\n",
       "      <th>-9496</th>\n",
       "      <td>0.002910</td>\n",
       "      <td>0.246405</td>\n",
       "      <td>0.000000</td>\n",
       "      <td>0.246405</td>\n",
       "    </tr>\n",
       "    <tr>\n",
       "      <th>-9495</th>\n",
       "      <td>0.033068</td>\n",
       "      <td>-0.356748</td>\n",
       "      <td>0.000000</td>\n",
       "      <td>-0.356748</td>\n",
       "    </tr>\n",
       "    <tr>\n",
       "      <th>...</th>\n",
       "      <td>...</td>\n",
       "      <td>...</td>\n",
       "      <td>...</td>\n",
       "      <td>...</td>\n",
       "    </tr>\n",
       "    <tr>\n",
       "      <th>2020</th>\n",
       "      <td>0.011520</td>\n",
       "      <td>0.074220</td>\n",
       "      <td>0.000000</td>\n",
       "      <td>0.074220</td>\n",
       "    </tr>\n",
       "    <tr>\n",
       "      <th>2021</th>\n",
       "      <td>0.008610</td>\n",
       "      <td>0.132409</td>\n",
       "      <td>0.000000</td>\n",
       "      <td>0.132409</td>\n",
       "    </tr>\n",
       "    <tr>\n",
       "      <th>2022</th>\n",
       "      <td>0.013721</td>\n",
       "      <td>0.030183</td>\n",
       "      <td>0.141522</td>\n",
       "      <td>0.171705</td>\n",
       "    </tr>\n",
       "    <tr>\n",
       "      <th>2023</th>\n",
       "      <td>0.011082</td>\n",
       "      <td>0.082977</td>\n",
       "      <td>0.182002</td>\n",
       "      <td>0.264979</td>\n",
       "    </tr>\n",
       "    <tr>\n",
       "      <th>2024</th>\n",
       "      <td>0.010828</td>\n",
       "      <td>0.088055</td>\n",
       "      <td>0.149900</td>\n",
       "      <td>0.237954</td>\n",
       "    </tr>\n",
       "  </tbody>\n",
       "</table>\n",
       "<p>11525 rows × 4 columns</p>\n",
       "</div>"
      ],
      "text/plain": [
       "       stratospheric_AOD  ERF_sulfate   ERF_H2O  volcanic_ERF\n",
       "year                                                         \n",
       "-9499           0.002910     0.246405  0.000000      0.246405\n",
       "-9498           0.002910     0.246405  0.000000      0.246405\n",
       "-9497           0.002910     0.246405  0.000000      0.246405\n",
       "-9496           0.002910     0.246405  0.000000      0.246405\n",
       "-9495           0.033068    -0.356748  0.000000     -0.356748\n",
       "...                  ...          ...       ...           ...\n",
       " 2020           0.011520     0.074220  0.000000      0.074220\n",
       " 2021           0.008610     0.132409  0.000000      0.132409\n",
       " 2022           0.013721     0.030183  0.141522      0.171705\n",
       " 2023           0.011082     0.082977  0.182002      0.264979\n",
       " 2024           0.010828     0.088055  0.149900      0.237954\n",
       "\n",
       "[11525 rows x 4 columns]"
      ]
     },
     "execution_count": 43,
     "metadata": {},
     "output_type": "execute_result"
    }
   ],
   "source": [
    "df"
   ]
  },
  {
   "cell_type": "code",
   "execution_count": 44,
   "metadata": {},
   "outputs": [
    {
     "data": {
      "text/plain": [
       "'Effective radiative forcing of volcanic activity from -6755 to 2299'"
      ]
     },
     "execution_count": 44,
     "metadata": {},
     "output_type": "execute_result"
    }
   ],
   "source": [
    "desc = 'Effective radiative forcing of volcanic activity from {} to {}'.format(\n",
    "    d1.index[0], d1.index[-1],\n",
    ")\n",
    "desc"
   ]
  },
  {
   "cell_type": "code",
   "execution_count": 45,
   "metadata": {},
   "outputs": [],
   "source": [
    "g = ds.file.create_group('source/forcing-timeseries/erf_volcanic')\n",
    "g.attrs['description'] = desc\n",
    "d = g.create_dataset('time', data=df.index.values)\n",
    "d.attrs['units'] = 'yr'\n",
    "d = g.create_dataset('value', data=df['volcanic_ERF'].values)\n",
    "d.attrs['units'] = 'W m-2'"
   ]
  },
  {
   "cell_type": "markdown",
   "metadata": {},
   "source": [
    "### Contrails"
   ]
  },
  {
   "cell_type": "code",
   "execution_count": 47,
   "metadata": {},
   "outputs": [],
   "source": [
    "# contrails\n",
    "# depends on IEA Word Oil Statistics 2023\n",
    "# path = repo.retrieve('output/contrails_ERF_1930-2023.csv')\n",
    "path = path_indicator.joinpath('forcing-timeseries/output/contrails_ERF_1930-2024.csv')\n",
    "d1 = pd.read_csv(path, index_col=0).squeeze().rename_axis(None).rename(None)"
   ]
  },
  {
   "cell_type": "code",
   "execution_count": 48,
   "metadata": {},
   "outputs": [
    {
     "data": {
      "text/plain": [
       "'Effective radiative forcing of contrails and contrail-induced cirrus from 1930 to 2024'"
      ]
     },
     "execution_count": 48,
     "metadata": {},
     "output_type": "execute_result"
    }
   ],
   "source": [
    "desc = (\n",
    "    'Effective radiative forcing of contrails and contrail-induced cirrus'\n",
    "    ' from {} to {}'.format(d1.index[0], d1.index[-1])\n",
    ")\n",
    "desc"
   ]
  },
  {
   "cell_type": "code",
   "execution_count": 49,
   "metadata": {},
   "outputs": [],
   "source": [
    "g = ds.file.create_group('source/forcing-timeseries/erf_contrails')\n",
    "g.attrs['description'] = desc\n",
    "d = g.create_dataset('time', data=d1.index.values)\n",
    "d.attrs['units'] = 'yr'\n",
    "d = g.create_dataset('value', data=d1.values)\n",
    "d.attrs['units'] = 'W m-2'"
   ]
  },
  {
   "cell_type": "markdown",
   "metadata": {},
   "source": [
    "## Aerosols calibration results"
   ]
  },
  {
   "cell_type": "code",
   "execution_count": 57,
   "metadata": {},
   "outputs": [],
   "source": [
    "path = path_indicator.joinpath('forcing-timeseries/data/ar6/table_mean_thornhill_collins_orignames.csv')\n",
    "df1 = pd.read_csv(path, index_col=0)\n",
    "df2 = pd.read_csv(path.with_stem('table_std_thornhill_collins_orignames'), index_col=0)\n",
    "# map_name = {'HC': 'EESC', 'VOC': 'NMVOC'}\n",
    "map_name = {'HC': 'ODS', 'VOC': 'NMVOC'}\n",
    "df = pd.concat([\n",
    "    df1['Aerosol'].rename('mean'),\n",
    "    df2['Aerosol_sd'].rename('sd'),\n",
    "], axis=1).rename(map_name)"
   ]
  },
  {
   "cell_type": "code",
   "execution_count": 58,
   "metadata": {},
   "outputs": [
    {
     "data": {
      "text/html": [
       "<div>\n",
       "<style scoped>\n",
       "    .dataframe tbody tr th:only-of-type {\n",
       "        vertical-align: middle;\n",
       "    }\n",
       "\n",
       "    .dataframe tbody tr th {\n",
       "        vertical-align: top;\n",
       "    }\n",
       "\n",
       "    .dataframe thead th {\n",
       "        text-align: right;\n",
       "    }\n",
       "</style>\n",
       "<table border=\"1\" class=\"dataframe\">\n",
       "  <thead>\n",
       "    <tr style=\"text-align: right;\">\n",
       "      <th></th>\n",
       "      <th>mean</th>\n",
       "      <th>sd</th>\n",
       "    </tr>\n",
       "    <tr>\n",
       "      <th>Species</th>\n",
       "      <th></th>\n",
       "      <th></th>\n",
       "    </tr>\n",
       "  </thead>\n",
       "  <tbody>\n",
       "    <tr>\n",
       "      <th>CO2</th>\n",
       "      <td>0.000000</td>\n",
       "      <td>0.000000</td>\n",
       "    </tr>\n",
       "    <tr>\n",
       "      <th>CH4</th>\n",
       "      <td>-0.002653</td>\n",
       "      <td>0.002197</td>\n",
       "    </tr>\n",
       "    <tr>\n",
       "      <th>N2O</th>\n",
       "      <td>-0.002090</td>\n",
       "      <td>0.002021</td>\n",
       "    </tr>\n",
       "    <tr>\n",
       "      <th>ODS</th>\n",
       "      <td>-0.008080</td>\n",
       "      <td>0.001971</td>\n",
       "    </tr>\n",
       "    <tr>\n",
       "      <th>NOx</th>\n",
       "      <td>-0.009166</td>\n",
       "      <td>0.004543</td>\n",
       "    </tr>\n",
       "    <tr>\n",
       "      <th>NMVOC</th>\n",
       "      <td>-0.002573</td>\n",
       "      <td>0.005065</td>\n",
       "    </tr>\n",
       "    <tr>\n",
       "      <th>SO2</th>\n",
       "      <td>-0.234228</td>\n",
       "      <td>0.223907</td>\n",
       "    </tr>\n",
       "    <tr>\n",
       "      <th>OC</th>\n",
       "      <td>-0.072143</td>\n",
       "      <td>0.065461</td>\n",
       "    </tr>\n",
       "    <tr>\n",
       "      <th>BC</th>\n",
       "      <td>0.144702</td>\n",
       "      <td>0.158984</td>\n",
       "    </tr>\n",
       "    <tr>\n",
       "      <th>NH3</th>\n",
       "      <td>-0.033769</td>\n",
       "      <td>0.004824</td>\n",
       "    </tr>\n",
       "  </tbody>\n",
       "</table>\n",
       "</div>"
      ],
      "text/plain": [
       "             mean        sd\n",
       "Species                    \n",
       "CO2      0.000000  0.000000\n",
       "CH4     -0.002653  0.002197\n",
       "N2O     -0.002090  0.002021\n",
       "ODS     -0.008080  0.001971\n",
       "NOx     -0.009166  0.004543\n",
       "NMVOC   -0.002573  0.005065\n",
       "SO2     -0.234228  0.223907\n",
       "OC      -0.072143  0.065461\n",
       "BC       0.144702  0.158984\n",
       "NH3     -0.033769  0.004824"
      ]
     },
     "execution_count": 58,
     "metadata": {},
     "output_type": "execute_result"
    }
   ],
   "source": [
    "df"
   ]
  },
  {
   "cell_type": "code",
   "execution_count": 59,
   "metadata": {},
   "outputs": [],
   "source": [
    "desc = 'Reference radiative forcing by SLCF species'\n",
    "g = ds.file.create_group('source/forcing-timeseries/ari_emitted')\n",
    "g.attrs['description'] = desc\n",
    "g.attrs['species'] = df.index.tolist()\n",
    "for k, v in df.items():\n",
    "    d = g.create_dataset(k, data=v.values)"
   ]
  },
  {
   "cell_type": "code",
   "execution_count": 61,
   "metadata": {},
   "outputs": [],
   "source": [
    "path = path_indicator.joinpath('forcing-timeseries/data/fair-calibrate-1.4.1/aerosol_cloud.csv')\n",
    "df = pd.read_csv(path, index_col=0)"
   ]
  },
  {
   "cell_type": "code",
   "execution_count": 62,
   "metadata": {},
   "outputs": [
    {
     "data": {
      "text/html": [
       "<div>\n",
       "<style scoped>\n",
       "    .dataframe tbody tr th:only-of-type {\n",
       "        vertical-align: middle;\n",
       "    }\n",
       "\n",
       "    .dataframe tbody tr th {\n",
       "        vertical-align: top;\n",
       "    }\n",
       "\n",
       "    .dataframe thead th {\n",
       "        text-align: right;\n",
       "    }\n",
       "</style>\n",
       "<table border=\"1\" class=\"dataframe\">\n",
       "  <thead>\n",
       "    <tr style=\"text-align: right;\">\n",
       "      <th></th>\n",
       "      <th>aci_scale</th>\n",
       "      <th>Sulfur</th>\n",
       "      <th>BC</th>\n",
       "      <th>OC</th>\n",
       "    </tr>\n",
       "  </thead>\n",
       "  <tbody>\n",
       "    <tr>\n",
       "      <th>E3SM-2-0</th>\n",
       "      <td>-1.443485</td>\n",
       "      <td>7.152779e-02</td>\n",
       "      <td>3.762593e-41</td>\n",
       "      <td>3.518178e-01</td>\n",
       "    </tr>\n",
       "    <tr>\n",
       "      <th>HadGEM3-GC31-LL</th>\n",
       "      <td>-0.940580</td>\n",
       "      <td>2.222328e-02</td>\n",
       "      <td>5.954012e-33</td>\n",
       "      <td>3.674180e-02</td>\n",
       "    </tr>\n",
       "    <tr>\n",
       "      <th>GFDL-ESM4</th>\n",
       "      <td>-13197.573317</td>\n",
       "      <td>2.544719e-07</td>\n",
       "      <td>2.699782e-06</td>\n",
       "      <td>6.070785e-07</td>\n",
       "    </tr>\n",
       "    <tr>\n",
       "      <th>CNRM-CM6-1</th>\n",
       "      <td>-1.496729</td>\n",
       "      <td>6.005013e-03</td>\n",
       "      <td>4.602495e-02</td>\n",
       "      <td>1.113794e-02</td>\n",
       "    </tr>\n",
       "    <tr>\n",
       "      <th>CanESM5</th>\n",
       "      <td>-0.856032</td>\n",
       "      <td>1.992724e-02</td>\n",
       "      <td>3.940789e-01</td>\n",
       "      <td>1.281973e-16</td>\n",
       "    </tr>\n",
       "    <tr>\n",
       "      <th>NorESM2-LM</th>\n",
       "      <td>-12953.242881</td>\n",
       "      <td>6.681038e-07</td>\n",
       "      <td>2.927736e-89</td>\n",
       "      <td>1.569533e-06</td>\n",
       "    </tr>\n",
       "    <tr>\n",
       "      <th>MRI-ESM2-0</th>\n",
       "      <td>-7.743980</td>\n",
       "      <td>7.756472e-04</td>\n",
       "      <td>4.118827e-03</td>\n",
       "      <td>5.907474e-27</td>\n",
       "    </tr>\n",
       "    <tr>\n",
       "      <th>MIROC6</th>\n",
       "      <td>-1.025414</td>\n",
       "      <td>7.298451e-03</td>\n",
       "      <td>1.485128e-01</td>\n",
       "      <td>6.270682e-18</td>\n",
       "    </tr>\n",
       "    <tr>\n",
       "      <th>IPSL-CM6A-LR</th>\n",
       "      <td>-1.262191</td>\n",
       "      <td>2.660200e-03</td>\n",
       "      <td>2.010784e-16</td>\n",
       "      <td>1.897347e-03</td>\n",
       "    </tr>\n",
       "    <tr>\n",
       "      <th>GISS-E2-1-G</th>\n",
       "      <td>-0.584806</td>\n",
       "      <td>8.194178e-03</td>\n",
       "      <td>1.283971e+00</td>\n",
       "      <td>2.548500e-11</td>\n",
       "    </tr>\n",
       "    <tr>\n",
       "      <th>GFDL-CM4</th>\n",
       "      <td>-4520.490501</td>\n",
       "      <td>1.098818e-06</td>\n",
       "      <td>5.923752e-07</td>\n",
       "      <td>2.119565e-06</td>\n",
       "    </tr>\n",
       "    <tr>\n",
       "      <th>MPI-ESM-1-2-HAM</th>\n",
       "      <td>-2.354993</td>\n",
       "      <td>7.180917e-03</td>\n",
       "      <td>5.470224e-13</td>\n",
       "      <td>9.751038e-03</td>\n",
       "    </tr>\n",
       "    <tr>\n",
       "      <th>UKESM1-0-LL</th>\n",
       "      <td>-0.722635</td>\n",
       "      <td>3.346906e-02</td>\n",
       "      <td>8.321953e-37</td>\n",
       "      <td>6.452293e-13</td>\n",
       "    </tr>\n",
       "  </tbody>\n",
       "</table>\n",
       "</div>"
      ],
      "text/plain": [
       "                    aci_scale        Sulfur            BC            OC\n",
       "E3SM-2-0            -1.443485  7.152779e-02  3.762593e-41  3.518178e-01\n",
       "HadGEM3-GC31-LL     -0.940580  2.222328e-02  5.954012e-33  3.674180e-02\n",
       "GFDL-ESM4       -13197.573317  2.544719e-07  2.699782e-06  6.070785e-07\n",
       "CNRM-CM6-1          -1.496729  6.005013e-03  4.602495e-02  1.113794e-02\n",
       "CanESM5             -0.856032  1.992724e-02  3.940789e-01  1.281973e-16\n",
       "NorESM2-LM      -12953.242881  6.681038e-07  2.927736e-89  1.569533e-06\n",
       "MRI-ESM2-0          -7.743980  7.756472e-04  4.118827e-03  5.907474e-27\n",
       "MIROC6              -1.025414  7.298451e-03  1.485128e-01  6.270682e-18\n",
       "IPSL-CM6A-LR        -1.262191  2.660200e-03  2.010784e-16  1.897347e-03\n",
       "GISS-E2-1-G         -0.584806  8.194178e-03  1.283971e+00  2.548500e-11\n",
       "GFDL-CM4         -4520.490501  1.098818e-06  5.923752e-07  2.119565e-06\n",
       "MPI-ESM-1-2-HAM     -2.354993  7.180917e-03  5.470224e-13  9.751038e-03\n",
       "UKESM1-0-LL         -0.722635  3.346906e-02  8.321953e-37  6.452293e-13"
      ]
     },
     "execution_count": 62,
     "metadata": {},
     "output_type": "execute_result"
    }
   ],
   "source": [
    "df"
   ]
  },
  {
   "cell_type": "code",
   "execution_count": 63,
   "metadata": {},
   "outputs": [],
   "source": [
    "desc = 'Forcing uncertainty ensemble related to aerosol-cloud interactions'\n",
    "g = ds.file.create_group('source/forcing-timeseries/aci_cal')\n",
    "g.attrs['description'] = desc\n",
    "g.attrs['models'] = df.index.tolist()\n",
    "for k, v in df.items():\n",
    "    d = g.create_dataset(k, data=v.values)"
   ]
  },
  {
   "cell_type": "markdown",
   "metadata": {},
   "source": [
    "## Observed GMST"
   ]
  },
  {
   "cell_type": "code",
   "execution_count": 65,
   "metadata": {},
   "outputs": [],
   "source": [
    "path = path_indicator.joinpath('forcing-timeseries/data/gmst/IGCC_GMST_1850-2023.csv')\n",
    "d1 = (\n",
    "    pd.read_csv(path, index_col=0)\n",
    "    .squeeze()\n",
    "    .rename(int)\n",
    "    .rename(None)\n",
    "    .rename_axis(None)\n",
    ")"
   ]
  },
  {
   "cell_type": "code",
   "execution_count": 66,
   "metadata": {},
   "outputs": [
    {
     "data": {
      "text/plain": [
       "1850   -0.060196\n",
       "1851    0.057304\n",
       "1852    0.094804\n",
       "1853    0.052304\n",
       "1854    0.062304\n",
       "          ...   \n",
       "2019    1.234804\n",
       "2020    1.264804\n",
       "2021    1.109804\n",
       "2022    1.149804\n",
       "2023    1.432304\n",
       "Length: 174, dtype: float64"
      ]
     },
     "execution_count": 66,
     "metadata": {},
     "output_type": "execute_result"
    }
   ],
   "source": [
    "d1"
   ]
  },
  {
   "cell_type": "code",
   "execution_count": 67,
   "metadata": {},
   "outputs": [
    {
     "data": {
      "text/plain": [
       "'Temperature time series used for temperature feedback of ozone forcing from 1850 to 2023'"
      ]
     },
     "execution_count": 67,
     "metadata": {},
     "output_type": "execute_result"
    }
   ],
   "source": [
    "desc = (\n",
    "    'Temperature time series used for temperature feedback of ozone forcing'\n",
    "    ' from {} to {}'.format(d1.index[0], d1.index[-1])\n",
    ")\n",
    "desc"
   ]
  },
  {
   "cell_type": "code",
   "execution_count": 68,
   "metadata": {},
   "outputs": [],
   "source": [
    "g = ds.file.create_group('source/forcing-timeseries/temp_obs')\n",
    "g.attrs['description'] = desc\n",
    "d = g.create_dataset('time', data=d1.index.values)\n",
    "d.attrs['units'] = 'yr'\n",
    "d = g.create_dataset('value', data=d1.values)\n",
    "d.attrs['units'] = 'K'"
   ]
  },
  {
   "cell_type": "markdown",
   "metadata": {},
   "source": [
    "## Ozone calibration results"
   ]
  },
  {
   "cell_type": "code",
   "execution_count": 71,
   "metadata": {},
   "outputs": [],
   "source": [
    "df = {}\n",
    "for k in ['trop', 'strat']:\n",
    "    path = path_indicator.joinpath(f'forcing-timeseries/data/ozone/skeie_ozone_{k}.csv')\n",
    "    df[k] = (\n",
    "        pd.read_csv(path, index_col=0)\n",
    "        .rename(int, axis=1)\n",
    "        .rename_axis(None)\n",
    "    )"
   ]
  },
  {
   "cell_type": "code",
   "execution_count": 73,
   "metadata": {},
   "outputs": [],
   "source": [
    "map_name = {\n",
    "    'trop': 'tropospheric',\n",
    "    'strat': 'stratospheric',\n",
    "}\n",
    "\n",
    "for k, v in df.items():\n",
    "    g = ds.file.create_group(f'source/forcing-timeseries/skeie_ozone_{k}')\n",
    "    g.attrs['description'] = f'Reference radiative forcing of {map_name[k]} ozone'\n",
    "    g.attrs['index_model'] = v.index.tolist()\n",
    "    g.attrs['columns_year'] = v.columns.tolist()\n",
    "    g.create_dataset('value', data=v.values)"
   ]
  },
  {
   "cell_type": "markdown",
   "metadata": {},
   "source": [
    "## Land use"
   ]
  },
  {
   "cell_type": "code",
   "execution_count": 76,
   "metadata": {},
   "outputs": [],
   "source": [
    "path = path_indicator.joinpath('forcing-timeseries/data/land_use/SARF_LCC_Ghimire2014+Ouyang2022+GCB2024.csv')\n",
    "df_landuse = pd.read_csv(path, index_col=0)\n",
    "d_irr = pd.read_csv(path.with_stem('Irrigation_ERF_Wells_FAO'), index_col=0).squeeze()"
   ]
  },
  {
   "cell_type": "code",
   "execution_count": 78,
   "metadata": {},
   "outputs": [],
   "source": [
    "g = ds.file.create_group('source/forcing-timeseries/sarf_landuse')\n",
    "g.attrs['description'] = 'Land use forcing due to albedo change'\n",
    "d = g.create_dataset('time', data=df_landuse.index.values)\n",
    "d.attrs['units'] = 'yr'\n",
    "for k, v in df_landuse.items():\n",
    "    d = g.create_dataset(k, data=v.values)\n",
    "    d.attrs['units'] = 'W m-2'\n",
    "\n",
    "g = ds.file.create_group('source/forcing-timeseries/erf_irrigation')\n",
    "g.attrs['description'] = 'Land use forcing due to irrigation'\n",
    "d = g.create_dataset('time', data=d_irr.index.values)\n",
    "d.attrs['units'] = 'yr'\n",
    "d = g.create_dataset('value', data=d_irr.values)\n",
    "d.attrs['units'] = 'W m-2'"
   ]
  },
  {
   "cell_type": "markdown",
   "metadata": {},
   "source": [
    "## Data saved"
   ]
  },
  {
   "cell_type": "code",
   "execution_count": 82,
   "metadata": {},
   "outputs": [
    {
     "name": "stdout",
     "output_type": "stream",
     "text": [
      "aci_cal: Forcing uncertainty ensemble related to aerosol-cloud interactions\n",
      "ari_emitted: Reference radiative forcing by SLCF species\n",
      "erf_contrails: Effective radiative forcing of contrails and contrail-induced cirrus from 1930 to 2024\n",
      "erf_irrigation: Land use forcing due to irrigation\n",
      "erf_solar: Effective radiative forcing of solar irradiance from -6755 to 2299\n",
      "erf_volcanic: Effective radiative forcing of volcanic activity from -6755 to 2299\n",
      "gcp_emissions: Emissions of CO2 from 1750 to 2024\n",
      "ghg_concentrations: Concentrations of GHGs from 1750 to 2024\n",
      "sarf_landuse: Land use forcing due to albedo change\n",
      "skeie_ozone_strat: Reference radiative forcing of stratospheric ozone\n",
      "skeie_ozone_trop: Reference radiative forcing of tropospheric ozone\n",
      "slcf_emissions: Emissions of SLCF species from 1750 to 2024\n",
      "temp_obs: Temperature time series used for temperature feedback of ozone forcing from 1850 to 2023\n",
      "unc/scale: Scale factors by forcing agent\n",
      "unc/trend_solar: Uncertainty factor of solar trend\n"
     ]
    }
   ],
   "source": [
    "def func(name, obj):\n",
    "    desc = obj.attrs.get('description')\n",
    "    if desc is not None:\n",
    "        print('{}: {}'.format(name, desc))\n",
    "\n",
    "ds.file['source/forcing-timeseries'].visititems(func)"
   ]
  },
  {
   "cell_type": "code",
   "execution_count": 83,
   "metadata": {},
   "outputs": [
    {
     "name": "stderr",
     "output_type": "stream",
     "text": [
      "[2025-04-18 10:56:54 mce.core] INFO:file datain/ds_historical.h5 closed\n"
     ]
    }
   ],
   "source": [
    "ds.close()"
   ]
  }
 ],
 "metadata": {
  "kernelspec": {
   "display_name": "Python 3 (ipykernel)",
   "language": "python",
   "name": "python3"
  },
  "language_info": {
   "codemirror_mode": {
    "name": "ipython",
    "version": 3
   },
   "file_extension": ".py",
   "mimetype": "text/x-python",
   "name": "python",
   "nbconvert_exporter": "python",
   "pygments_lexer": "ipython3",
   "version": "3.12.8"
  }
 },
 "nbformat": 4,
 "nbformat_minor": 4
}
