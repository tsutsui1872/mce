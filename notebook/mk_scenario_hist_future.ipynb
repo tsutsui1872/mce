{
 "cells": [
  {
   "cell_type": "markdown",
   "id": "9a48bd58-6dc0-4751-b260-359ac12b210b",
   "metadata": {},
   "source": [
    "# Historical-Future scenarios"
   ]
  },
  {
   "cell_type": "code",
   "execution_count": 1,
   "id": "608894e6-1346-4eea-a501-346577483132",
   "metadata": {},
   "outputs": [
    {
     "name": "stdout",
     "output_type": "stream",
     "text": [
      "/home/rocky/project/mce\n"
     ]
    }
   ],
   "source": [
    "%cd .."
   ]
  },
  {
   "cell_type": "code",
   "execution_count": 141,
   "id": "46b60da4-e414-416b-b226-87f5a3a58e8c",
   "metadata": {},
   "outputs": [],
   "source": [
    "import yaml\n",
    "import numpy as np\n",
    "import pandas as pd\n",
    "from mce.core import ScenarioBase\n",
    "from mce.util.plot_base import PlotBase"
   ]
  },
  {
   "cell_type": "code",
   "execution_count": 36,
   "id": "02cbb758-e850-4c8b-9788-ece1856b020b",
   "metadata": {},
   "outputs": [],
   "source": [
    "myplt = PlotBase(palette='ipcc_wg1')"
   ]
  },
  {
   "cell_type": "markdown",
   "id": "367c2e21-9bf8-490e-946c-83cada28e88a",
   "metadata": {},
   "source": [
    "## Input data"
   ]
  },
  {
   "cell_type": "code",
   "execution_count": 3,
   "id": "f0ab463b-907f-4778-a240-b2d2ce7df8b8",
   "metadata": {},
   "outputs": [
    {
     "name": "stderr",
     "output_type": "stream",
     "text": [
      "[2025-04-14 11:51:22 mce.core] INFO:untracked/ds_historical_best.h5 already exists\n",
      "[2025-04-14 11:51:22 mce.core] INFO:file untracked/ds_historical_best.h5 opened with mode=r\n"
     ]
    }
   ],
   "source": [
    "ds_hist = ScenarioBase(outpath='untracked/ds_historical_best.h5', mode='r')"
   ]
  },
  {
   "cell_type": "code",
   "execution_count": 4,
   "id": "a6e84193-b9c3-4120-ae8e-95255505fa6e",
   "metadata": {},
   "outputs": [
    {
     "name": "stderr",
     "output_type": "stream",
     "text": [
      "[2025-04-14 11:52:22 mce.core] INFO:untracked/ds_rcmip2.h5 already exists\n",
      "[2025-04-14 11:52:22 mce.core] INFO:file untracked/ds_rcmip2.h5 opened with mode=r\n",
      "[2025-04-14 11:52:22 mce.core] INFO:untracked/ds_ar6db_imp.h5 already exists\n",
      "[2025-04-14 11:52:22 mce.core] INFO:file untracked/ds_ar6db_imp.h5 opened with mode=r\n"
     ]
    }
   ],
   "source": [
    "ds_rcmip2 = ScenarioBase(outpath='untracked/ds_rcmip2.h5', mode='r')\n",
    "ds_ar6db_imp = ScenarioBase(outpath='untracked/ds_ar6db_imp.h5', mode='r')"
   ]
  },
  {
   "cell_type": "code",
   "execution_count": 73,
   "id": "eac60e73-eb3e-4de0-b0ca-535cf33d1b53",
   "metadata": {},
   "outputs": [
    {
     "data": {
      "text/plain": [
       "['1pctCO2',\n",
       " '1pctCO2-4xext',\n",
       " 'abrupt-0p5xCO2',\n",
       " 'abrupt-2xCO2',\n",
       " 'abrupt-4xCO2',\n",
       " 'esm-bell-1000PgC',\n",
       " 'esm-bell-2000PgC',\n",
       " 'esm-bell-750PgC',\n",
       " 'esm-pi-CO2pulse',\n",
       " 'esm-pi-cdr-pulse',\n",
       " 'esm-piControl',\n",
       " 'historical',\n",
       " 'historical-cmip5',\n",
       " 'piControl',\n",
       " 'rcp26',\n",
       " 'rcp45',\n",
       " 'rcp60',\n",
       " 'rcp85',\n",
       " 'ssp119',\n",
       " 'ssp126',\n",
       " 'ssp245',\n",
       " 'ssp370',\n",
       " 'ssp370-lowNTCF-aerchemmip',\n",
       " 'ssp370-lowNTCF-gidden',\n",
       " 'ssp434',\n",
       " 'ssp460',\n",
       " 'ssp534-over',\n",
       " 'ssp585']"
      ]
     },
     "execution_count": 73,
     "metadata": {},
     "output_type": "execute_result"
    }
   ],
   "source": [
    "list(ds_rcmip2.file)"
   ]
  },
  {
   "cell_type": "code",
   "execution_count": 75,
   "id": "3a8b1a4a-935e-4e5a-bd3e-dbb08437fcf2",
   "metadata": {},
   "outputs": [],
   "source": [
    "# Select five SSP scenarios from RCMIP2\n",
    "scenarios_ssp = ['ssp119', 'ssp126', 'ssp245', 'ssp370', 'ssp585']"
   ]
  },
  {
   "cell_type": "code",
   "execution_count": 76,
   "id": "a9550c71-38c2-4ec9-8d27-2cafe32e2c4d",
   "metadata": {},
   "outputs": [
    {
     "data": {
      "text/plain": [
       "['CurPol', 'GS', 'LD', 'ModAct', 'Neg', 'Neg-2.0', 'Ren', 'Ren-2.0', 'SP']"
      ]
     },
     "execution_count": 76,
     "metadata": {},
     "output_type": "execute_result"
    }
   ],
   "source": [
    "list(ds_ar6db_imp.file)"
   ]
  },
  {
   "cell_type": "markdown",
   "id": "bdbabd7b-d16c-4c70-a75b-44db6af5241c",
   "metadata": {},
   "source": [
    "Five illustrative mitigation pathways\n",
    "- IMP-SP: mitigation in the context of broader sustainable development;\n",
    "- IMP-LD: strong emphasis on energy demand reductions;\n",
    "- IMP-Ren: heavy reliance on renewables;\n",
    "- IMP-Neg: extensive use of carbon dioxide removal (CDR) in the energy and the industry sectors to achieve net negative emissions;\n",
    "- IMP-GS: the implications of a less rapid and gradual strengthening of near-term mitigation actions\n",
    "\n",
    "Ren and Neg have 2-degC sensitivity case\n",
    "\n",
    "Two reference pathways as the consequences of current policies and pledges\n",
    "- ModAct: Moderate action, explores the impact of implementing the Nationally Determined Contributions (NDCs) as formulated in 2020 and some further strengthening after that;\n",
    "- CurPol: explores the consequences of continuing along the path of implemented climate policies in 2020 and only a gradual strengthening after that"
   ]
  },
  {
   "cell_type": "code",
   "execution_count": 142,
   "id": "1ab92a65-6608-4c9a-a587-debe21cf26c5",
   "metadata": {},
   "outputs": [],
   "source": [
    "with open('untracked/ar6db_var_units.yml') as f1:\n",
    "    ar6db_var_units = yaml.safe_load(f1)"
   ]
  },
  {
   "cell_type": "code",
   "execution_count": 146,
   "id": "25d343e3-d1ab-4d3b-8f17-4f2291a382e6",
   "metadata": {},
   "outputs": [
    {
     "data": {
      "text/plain": [
       "['units_id', 'var_id']"
      ]
     },
     "execution_count": 146,
     "metadata": {},
     "output_type": "execute_result"
    }
   ],
   "source": [
    "list(ar6db_var_units)"
   ]
  },
  {
   "cell_type": "markdown",
   "id": "a9d2c079-d4f7-43ad-a49a-222030198301",
   "metadata": {},
   "source": [
    "## Create future scenarios including a transition period"
   ]
  },
  {
   "cell_type": "code",
   "execution_count": 118,
   "id": "a4892f50-fabb-4ae0-bf24-122856c8a726",
   "metadata": {},
   "outputs": [
    {
     "name": "stderr",
     "output_type": "stream",
     "text": [
      "[2025-04-14 16:20:52 mce.core] INFO:in-memory file opened\n"
     ]
    }
   ],
   "source": [
    "ds = ScenarioBase()"
   ]
  },
  {
   "cell_type": "markdown",
   "id": "33773165-37e5-4d83-a2b3-4d3111dd69bf",
   "metadata": {},
   "source": [
    "### GHG concentrations"
   ]
  },
  {
   "cell_type": "code",
   "execution_count": 27,
   "id": "c4bb9651-d334-4a39-b97e-43decc3d513f",
   "metadata": {},
   "outputs": [
    {
     "data": {
      "text/html": [
       "<div>\n",
       "<style scoped>\n",
       "    .dataframe tbody tr th:only-of-type {\n",
       "        vertical-align: middle;\n",
       "    }\n",
       "\n",
       "    .dataframe tbody tr th {\n",
       "        vertical-align: top;\n",
       "    }\n",
       "\n",
       "    .dataframe thead tr th {\n",
       "        text-align: left;\n",
       "    }\n",
       "\n",
       "    .dataframe thead tr:last-of-type th {\n",
       "        text-align: right;\n",
       "    }\n",
       "</style>\n",
       "<table border=\"1\" class=\"dataframe\">\n",
       "  <thead>\n",
       "    <tr>\n",
       "      <th></th>\n",
       "      <th>C2F6</th>\n",
       "      <th>C3F8</th>\n",
       "      <th>C7F16</th>\n",
       "      <th>C8F18</th>\n",
       "      <th>CCl4</th>\n",
       "      <th>CF4</th>\n",
       "      <th>CFC-11</th>\n",
       "      <th>CFC-112</th>\n",
       "      <th>CFC-112a</th>\n",
       "      <th>CFC-113</th>\n",
       "      <th>...</th>\n",
       "      <th>Halon-2402</th>\n",
       "      <th>N2O</th>\n",
       "      <th>NF3</th>\n",
       "      <th>SF6</th>\n",
       "      <th>SO2F2</th>\n",
       "      <th>c-C4F8</th>\n",
       "      <th>i-C6F14</th>\n",
       "      <th>n-C4F10</th>\n",
       "      <th>n-C5F12</th>\n",
       "      <th>n-C6F14</th>\n",
       "    </tr>\n",
       "    <tr>\n",
       "      <th></th>\n",
       "      <th>ppt</th>\n",
       "      <th>ppt</th>\n",
       "      <th>ppt</th>\n",
       "      <th>ppt</th>\n",
       "      <th>ppt</th>\n",
       "      <th>ppt</th>\n",
       "      <th>ppt</th>\n",
       "      <th>ppt</th>\n",
       "      <th>ppt</th>\n",
       "      <th>ppt</th>\n",
       "      <th>...</th>\n",
       "      <th>ppt</th>\n",
       "      <th>ppb</th>\n",
       "      <th>ppt</th>\n",
       "      <th>ppt</th>\n",
       "      <th>ppt</th>\n",
       "      <th>ppt</th>\n",
       "      <th>ppt</th>\n",
       "      <th>ppt</th>\n",
       "      <th>ppt</th>\n",
       "      <th>ppt</th>\n",
       "    </tr>\n",
       "    <tr>\n",
       "      <th>time</th>\n",
       "      <th></th>\n",
       "      <th></th>\n",
       "      <th></th>\n",
       "      <th></th>\n",
       "      <th></th>\n",
       "      <th></th>\n",
       "      <th></th>\n",
       "      <th></th>\n",
       "      <th></th>\n",
       "      <th></th>\n",
       "      <th></th>\n",
       "      <th></th>\n",
       "      <th></th>\n",
       "      <th></th>\n",
       "      <th></th>\n",
       "      <th></th>\n",
       "      <th></th>\n",
       "      <th></th>\n",
       "      <th></th>\n",
       "      <th></th>\n",
       "      <th></th>\n",
       "    </tr>\n",
       "  </thead>\n",
       "  <tbody>\n",
       "    <tr>\n",
       "      <th>1750</th>\n",
       "      <td>0.000001</td>\n",
       "      <td>0.00</td>\n",
       "      <td>0.00000</td>\n",
       "      <td>0.000</td>\n",
       "      <td>0.025</td>\n",
       "      <td>34.05</td>\n",
       "      <td>0.0</td>\n",
       "      <td>0.0</td>\n",
       "      <td>0.0000</td>\n",
       "      <td>0.00</td>\n",
       "      <td>...</td>\n",
       "      <td>0.0</td>\n",
       "      <td>270.10</td>\n",
       "      <td>0.0</td>\n",
       "      <td>0.000</td>\n",
       "      <td>0.000021</td>\n",
       "      <td>0.0000</td>\n",
       "      <td>0.0000</td>\n",
       "      <td>0.0000</td>\n",
       "      <td>0.0000</td>\n",
       "      <td>0.0000</td>\n",
       "    </tr>\n",
       "    <tr>\n",
       "      <th>1751</th>\n",
       "      <td>0.000001</td>\n",
       "      <td>0.00</td>\n",
       "      <td>0.00000</td>\n",
       "      <td>0.000</td>\n",
       "      <td>0.025</td>\n",
       "      <td>34.05</td>\n",
       "      <td>0.0</td>\n",
       "      <td>0.0</td>\n",
       "      <td>0.0000</td>\n",
       "      <td>0.00</td>\n",
       "      <td>...</td>\n",
       "      <td>0.0</td>\n",
       "      <td>270.12</td>\n",
       "      <td>0.0</td>\n",
       "      <td>0.000</td>\n",
       "      <td>0.000021</td>\n",
       "      <td>0.0000</td>\n",
       "      <td>0.0000</td>\n",
       "      <td>0.0000</td>\n",
       "      <td>0.0000</td>\n",
       "      <td>0.0000</td>\n",
       "    </tr>\n",
       "    <tr>\n",
       "      <th>1752</th>\n",
       "      <td>0.000001</td>\n",
       "      <td>0.00</td>\n",
       "      <td>0.00000</td>\n",
       "      <td>0.000</td>\n",
       "      <td>0.025</td>\n",
       "      <td>34.05</td>\n",
       "      <td>0.0</td>\n",
       "      <td>0.0</td>\n",
       "      <td>0.0000</td>\n",
       "      <td>0.00</td>\n",
       "      <td>...</td>\n",
       "      <td>0.0</td>\n",
       "      <td>270.14</td>\n",
       "      <td>0.0</td>\n",
       "      <td>0.000</td>\n",
       "      <td>0.000021</td>\n",
       "      <td>0.0000</td>\n",
       "      <td>0.0000</td>\n",
       "      <td>0.0000</td>\n",
       "      <td>0.0000</td>\n",
       "      <td>0.0000</td>\n",
       "    </tr>\n",
       "    <tr>\n",
       "      <th>1753</th>\n",
       "      <td>0.000001</td>\n",
       "      <td>0.00</td>\n",
       "      <td>0.00000</td>\n",
       "      <td>0.000</td>\n",
       "      <td>0.025</td>\n",
       "      <td>34.05</td>\n",
       "      <td>0.0</td>\n",
       "      <td>0.0</td>\n",
       "      <td>0.0000</td>\n",
       "      <td>0.00</td>\n",
       "      <td>...</td>\n",
       "      <td>0.0</td>\n",
       "      <td>270.16</td>\n",
       "      <td>0.0</td>\n",
       "      <td>0.000</td>\n",
       "      <td>0.000021</td>\n",
       "      <td>0.0000</td>\n",
       "      <td>0.0000</td>\n",
       "      <td>0.0000</td>\n",
       "      <td>0.0000</td>\n",
       "      <td>0.0000</td>\n",
       "    </tr>\n",
       "    <tr>\n",
       "      <th>1754</th>\n",
       "      <td>0.000001</td>\n",
       "      <td>0.00</td>\n",
       "      <td>0.00000</td>\n",
       "      <td>0.000</td>\n",
       "      <td>0.025</td>\n",
       "      <td>34.05</td>\n",
       "      <td>0.0</td>\n",
       "      <td>0.0</td>\n",
       "      <td>0.0000</td>\n",
       "      <td>0.00</td>\n",
       "      <td>...</td>\n",
       "      <td>0.0</td>\n",
       "      <td>270.18</td>\n",
       "      <td>0.0</td>\n",
       "      <td>0.000</td>\n",
       "      <td>0.000021</td>\n",
       "      <td>0.0000</td>\n",
       "      <td>0.0000</td>\n",
       "      <td>0.0000</td>\n",
       "      <td>0.0000</td>\n",
       "      <td>0.0000</td>\n",
       "    </tr>\n",
       "    <tr>\n",
       "      <th>...</th>\n",
       "      <td>...</td>\n",
       "      <td>...</td>\n",
       "      <td>...</td>\n",
       "      <td>...</td>\n",
       "      <td>...</td>\n",
       "      <td>...</td>\n",
       "      <td>...</td>\n",
       "      <td>...</td>\n",
       "      <td>...</td>\n",
       "      <td>...</td>\n",
       "      <td>...</td>\n",
       "      <td>...</td>\n",
       "      <td>...</td>\n",
       "      <td>...</td>\n",
       "      <td>...</td>\n",
       "      <td>...</td>\n",
       "      <td>...</td>\n",
       "      <td>...</td>\n",
       "      <td>...</td>\n",
       "      <td>...</td>\n",
       "      <td>...</td>\n",
       "    </tr>\n",
       "    <tr>\n",
       "      <th>2020</th>\n",
       "      <td>4.940000</td>\n",
       "      <td>0.70</td>\n",
       "      <td>0.11984</td>\n",
       "      <td>0.097</td>\n",
       "      <td>77.000</td>\n",
       "      <td>86.40</td>\n",
       "      <td>223.9</td>\n",
       "      <td>0.4</td>\n",
       "      <td>0.0704</td>\n",
       "      <td>69.20</td>\n",
       "      <td>...</td>\n",
       "      <td>0.4</td>\n",
       "      <td>333.30</td>\n",
       "      <td>2.3</td>\n",
       "      <td>10.270</td>\n",
       "      <td>2.600000</td>\n",
       "      <td>1.8114</td>\n",
       "      <td>0.0690</td>\n",
       "      <td>0.2073</td>\n",
       "      <td>0.1528</td>\n",
       "      <td>0.2312</td>\n",
       "    </tr>\n",
       "    <tr>\n",
       "      <th>2021</th>\n",
       "      <td>5.030000</td>\n",
       "      <td>0.72</td>\n",
       "      <td>0.12132</td>\n",
       "      <td>0.098</td>\n",
       "      <td>76.000</td>\n",
       "      <td>87.40</td>\n",
       "      <td>221.6</td>\n",
       "      <td>0.4</td>\n",
       "      <td>0.0712</td>\n",
       "      <td>68.60</td>\n",
       "      <td>...</td>\n",
       "      <td>0.4</td>\n",
       "      <td>334.60</td>\n",
       "      <td>2.5</td>\n",
       "      <td>10.650</td>\n",
       "      <td>2.700000</td>\n",
       "      <td>1.8742</td>\n",
       "      <td>0.0704</td>\n",
       "      <td>0.2114</td>\n",
       "      <td>0.1564</td>\n",
       "      <td>0.2328</td>\n",
       "    </tr>\n",
       "    <tr>\n",
       "      <th>2022</th>\n",
       "      <td>5.150000</td>\n",
       "      <td>0.74</td>\n",
       "      <td>0.12280</td>\n",
       "      <td>0.099</td>\n",
       "      <td>75.000</td>\n",
       "      <td>88.50</td>\n",
       "      <td>219.3</td>\n",
       "      <td>0.4</td>\n",
       "      <td>0.0720</td>\n",
       "      <td>68.10</td>\n",
       "      <td>...</td>\n",
       "      <td>0.4</td>\n",
       "      <td>335.90</td>\n",
       "      <td>2.7</td>\n",
       "      <td>11.040</td>\n",
       "      <td>2.800000</td>\n",
       "      <td>1.9370</td>\n",
       "      <td>0.0718</td>\n",
       "      <td>0.2155</td>\n",
       "      <td>0.1600</td>\n",
       "      <td>0.2344</td>\n",
       "    </tr>\n",
       "    <tr>\n",
       "      <th>2023</th>\n",
       "      <td>5.200000</td>\n",
       "      <td>0.76</td>\n",
       "      <td>0.12428</td>\n",
       "      <td>0.100</td>\n",
       "      <td>73.800</td>\n",
       "      <td>89.00</td>\n",
       "      <td>217.0</td>\n",
       "      <td>0.4</td>\n",
       "      <td>0.0728</td>\n",
       "      <td>67.60</td>\n",
       "      <td>...</td>\n",
       "      <td>0.4</td>\n",
       "      <td>337.00</td>\n",
       "      <td>2.9</td>\n",
       "      <td>11.390</td>\n",
       "      <td>2.900000</td>\n",
       "      <td>1.9998</td>\n",
       "      <td>0.0732</td>\n",
       "      <td>0.2196</td>\n",
       "      <td>0.1636</td>\n",
       "      <td>0.2360</td>\n",
       "    </tr>\n",
       "    <tr>\n",
       "      <th>2024</th>\n",
       "      <td>5.307000</td>\n",
       "      <td>0.78</td>\n",
       "      <td>0.12576</td>\n",
       "      <td>0.101</td>\n",
       "      <td>72.880</td>\n",
       "      <td>90.09</td>\n",
       "      <td>214.7</td>\n",
       "      <td>0.4</td>\n",
       "      <td>0.0736</td>\n",
       "      <td>67.01</td>\n",
       "      <td>...</td>\n",
       "      <td>0.4</td>\n",
       "      <td>337.80</td>\n",
       "      <td>3.1</td>\n",
       "      <td>11.755</td>\n",
       "      <td>3.000000</td>\n",
       "      <td>2.0626</td>\n",
       "      <td>0.0746</td>\n",
       "      <td>0.2237</td>\n",
       "      <td>0.1672</td>\n",
       "      <td>0.2376</td>\n",
       "    </tr>\n",
       "  </tbody>\n",
       "</table>\n",
       "<p>275 rows × 52 columns</p>\n",
       "</div>"
      ],
      "text/plain": [
       "          C2F6  C3F8    C7F16  C8F18    CCl4    CF4 CFC-11 CFC-112 CFC-112a  \\\n",
       "           ppt   ppt      ppt    ppt     ppt    ppt    ppt     ppt      ppt   \n",
       "time                                                                          \n",
       "1750  0.000001  0.00  0.00000  0.000   0.025  34.05    0.0     0.0   0.0000   \n",
       "1751  0.000001  0.00  0.00000  0.000   0.025  34.05    0.0     0.0   0.0000   \n",
       "1752  0.000001  0.00  0.00000  0.000   0.025  34.05    0.0     0.0   0.0000   \n",
       "1753  0.000001  0.00  0.00000  0.000   0.025  34.05    0.0     0.0   0.0000   \n",
       "1754  0.000001  0.00  0.00000  0.000   0.025  34.05    0.0     0.0   0.0000   \n",
       "...        ...   ...      ...    ...     ...    ...    ...     ...      ...   \n",
       "2020  4.940000  0.70  0.11984  0.097  77.000  86.40  223.9     0.4   0.0704   \n",
       "2021  5.030000  0.72  0.12132  0.098  76.000  87.40  221.6     0.4   0.0712   \n",
       "2022  5.150000  0.74  0.12280  0.099  75.000  88.50  219.3     0.4   0.0720   \n",
       "2023  5.200000  0.76  0.12428  0.100  73.800  89.00  217.0     0.4   0.0728   \n",
       "2024  5.307000  0.78  0.12576  0.101  72.880  90.09  214.7     0.4   0.0736   \n",
       "\n",
       "     CFC-113  ... Halon-2402     N2O  NF3     SF6     SO2F2  c-C4F8 i-C6F14  \\\n",
       "         ppt  ...        ppt     ppb  ppt     ppt       ppt     ppt     ppt   \n",
       "time          ...                                                             \n",
       "1750    0.00  ...        0.0  270.10  0.0   0.000  0.000021  0.0000  0.0000   \n",
       "1751    0.00  ...        0.0  270.12  0.0   0.000  0.000021  0.0000  0.0000   \n",
       "1752    0.00  ...        0.0  270.14  0.0   0.000  0.000021  0.0000  0.0000   \n",
       "1753    0.00  ...        0.0  270.16  0.0   0.000  0.000021  0.0000  0.0000   \n",
       "1754    0.00  ...        0.0  270.18  0.0   0.000  0.000021  0.0000  0.0000   \n",
       "...      ...  ...        ...     ...  ...     ...       ...     ...     ...   \n",
       "2020   69.20  ...        0.4  333.30  2.3  10.270  2.600000  1.8114  0.0690   \n",
       "2021   68.60  ...        0.4  334.60  2.5  10.650  2.700000  1.8742  0.0704   \n",
       "2022   68.10  ...        0.4  335.90  2.7  11.040  2.800000  1.9370  0.0718   \n",
       "2023   67.60  ...        0.4  337.00  2.9  11.390  2.900000  1.9998  0.0732   \n",
       "2024   67.01  ...        0.4  337.80  3.1  11.755  3.000000  2.0626  0.0746   \n",
       "\n",
       "     n-C4F10 n-C5F12 n-C6F14  \n",
       "         ppt     ppt     ppt  \n",
       "time                          \n",
       "1750  0.0000  0.0000  0.0000  \n",
       "1751  0.0000  0.0000  0.0000  \n",
       "1752  0.0000  0.0000  0.0000  \n",
       "1753  0.0000  0.0000  0.0000  \n",
       "1754  0.0000  0.0000  0.0000  \n",
       "...      ...     ...     ...  \n",
       "2020  0.2073  0.1528  0.2312  \n",
       "2021  0.2114  0.1564  0.2328  \n",
       "2022  0.2155  0.1600  0.2344  \n",
       "2023  0.2196  0.1636  0.2360  \n",
       "2024  0.2237  0.1672  0.2376  \n",
       "\n",
       "[275 rows x 52 columns]"
      ]
     },
     "execution_count": 27,
     "metadata": {},
     "output_type": "execute_result"
    }
   ],
   "source": [
    "g = ds_hist.file['historical_best/input/conc']\n",
    "df = pd.DataFrame({k: v for k, v in g.items()}).set_index('time')\n",
    "df.columns = pd.MultiIndex.from_tuples([\n",
    "    (k, v.attrs['units']) for k, v in g.items() if k != 'time'\n",
    "])\n",
    "df_hist = df\n",
    "df_hist"
   ]
  },
  {
   "cell_type": "code",
   "execution_count": 103,
   "id": "64bbd180-0251-4558-beee-f04cb525a5ae",
   "metadata": {},
   "outputs": [
    {
     "data": {
      "text/plain": [
       "time\n",
       "2021    0.8\n",
       "2022    0.6\n",
       "2023    0.4\n",
       "2024    0.2\n",
       "dtype: float64"
      ]
     },
     "execution_count": 103,
     "metadata": {},
     "output_type": "execute_result"
    }
   ],
   "source": [
    "ntrans = 4\n",
    "wgt_hist = pd.Series(np.linspace(0.8, 0.2, ntrans), index=df_hist.index[-ntrans:])\n",
    "wgt_hist"
   ]
  },
  {
   "cell_type": "code",
   "execution_count": 101,
   "id": "b92d9647-f1ca-431b-a495-98d0b3f70031",
   "metadata": {},
   "outputs": [
    {
     "data": {
      "text/plain": [
       "(2021, 2100)"
      ]
     },
     "execution_count": 101,
     "metadata": {},
     "output_type": "execute_result"
    }
   ],
   "source": [
    "year_start_merge = wgt_hist.index[0]\n",
    "year_end = 2100\n",
    "year_start_merge, year_end"
   ]
  },
  {
   "cell_type": "code",
   "execution_count": 119,
   "id": "ce01fb9e-f27f-405e-b8c8-cef6d82fddaa",
   "metadata": {},
   "outputs": [],
   "source": [
    "for scenario in scenarios_ssp:\n",
    "    g = ds_rcmip2.file[f'{scenario}/input/conc']\n",
    "    df = (\n",
    "        pd.DataFrame({k: v for k, v in g.items()})\n",
    "        .set_index('time')\n",
    "        .loc[year_start_merge:year_end]\n",
    "    )\n",
    "    df.columns = pd.MultiIndex.from_tuples([\n",
    "        (k, v.attrs['units']) for k, v in g.items() if k != 'time'\n",
    "    ])\n",
    "\n",
    "    wgt = pd.Series(1., index=df.index)\n",
    "    wgt.iloc[:ntrans] = np.linspace(0.2, 0.8, 4)\n",
    "\n",
    "    # Ensure weight validity\n",
    "    if not np.allclose(pd.concat([wgt_hist, wgt], axis=1).sum(axis=1), 1.):\n",
    "        raise ValueError('invalid weights')\n",
    "\n",
    "    df = (\n",
    "        (df_hist.loc[year_start_merge:] * wgt_hist.values[:, None])\n",
    "        .reindex(df.index, fill_value=0.)\n",
    "        + df * wgt.values[:, None]\n",
    "    ).dropna(axis=1) # some halogens in historical are dropped\n",
    "\n",
    "    g = ds.file.create_group(f'{scenario}/input/conc')\n",
    "    dset = g.create_dataset('time', data=df.index.values)\n",
    "    dset.attrs['units'] = 'yr'\n",
    "    \n",
    "    for (gas, units), v in df.items():\n",
    "        dset = g.create_dataset(gas, data=v.values)\n",
    "        dset.attrs['units'] = units"
   ]
  },
  {
   "cell_type": "code",
   "execution_count": 153,
   "id": "96895c60-759e-453f-aeee-34a729d617b8",
   "metadata": {},
   "outputs": [
    {
     "data": {
      "text/plain": [
       "['units_id', 'value', 'variable_id', 'year']"
      ]
     },
     "execution_count": 153,
     "metadata": {},
     "output_type": "execute_result"
    }
   ],
   "source": [
    "list(ds_ar6db_imp.file[f'{scenario}/Emissions'])"
   ]
  },
  {
   "cell_type": "code",
   "execution_count": 154,
   "id": "7f2daf2e-c95d-4e68-a7a6-86b3ccc4f259",
   "metadata": {},
   "outputs": [],
   "source": [
    "scenario = 'CurPol'\n",
    "\n",
    "data = []\n",
    "for cat in ['Emissions', 'AR6 climate diagnostics']:\n",
    "    g = ds_ar6db_imp.file[f'{scenario}/{cat}']\n",
    "    mi = pd.MultiIndex.from_tuples(zip(g['variable_id'], g['units_id']))\n",
    "    data.append(\n",
    "        pd.DataFrame(g['value'], index=mi, columns=g['year'])\n",
    "        .rename(ar6db_var_units['var_id'], level=0)\n",
    "        .rename(ar6db_var_units['units_id'], level=1)\n",
    "    )"
   ]
  },
  {
   "cell_type": "code",
   "execution_count": 156,
   "id": "cbbdc3ec-9fb4-4b72-a207-0c40854fadf5",
   "metadata": {},
   "outputs": [
    {
     "data": {
      "text/plain": [
       "array(['Emissions|BC', 'Emissions|CH4', 'Emissions|CH4|AFOLU',\n",
       "       'Emissions|CH4|Energy|Demand|Industry',\n",
       "       'Emissions|CH4|Energy|Demand|Residential and Commercial',\n",
       "       'Emissions|CH4|Energy|Demand|Transportation',\n",
       "       'Emissions|CH4|Energy|Supply', 'Emissions|CO', 'Emissions|CO2',\n",
       "       'Emissions|CO2|AFOLU',\n",
       "       'Emissions|CO2|Energy and Industrial Processes',\n",
       "       'Emissions|CO2|Energy|Demand',\n",
       "       'Emissions|CO2|Energy|Demand|Industry',\n",
       "       'Emissions|CO2|Energy|Demand|Residential and Commercial',\n",
       "       'Emissions|CO2|Energy|Demand|Transportation',\n",
       "       'Emissions|CO2|Energy|Supply', 'Emissions|F-Gases',\n",
       "       'Emissions|HFC', 'Emissions|HFC|HFC125', 'Emissions|HFC|HFC134a',\n",
       "       'Emissions|HFC|HFC143a', 'Emissions|HFC|HFC227ea',\n",
       "       'Emissions|HFC|HFC23', 'Emissions|HFC|HFC32', 'Emissions|N2O',\n",
       "       'Emissions|N2O|AFOLU', 'Emissions|NH3', 'Emissions|NOx',\n",
       "       'Emissions|OC', 'Emissions|PFC', 'Emissions|SF6',\n",
       "       'Emissions|Sulfur', 'Emissions|VOC', 'Emissions|BC|AFOLU',\n",
       "       'Emissions|BC|Energy', 'Emissions|BC|Energy|Demand|Industry',\n",
       "       'Emissions|BC|Energy|Demand|Residential and Commercial',\n",
       "       'Emissions|BC|Energy|Demand|Transportation',\n",
       "       'Emissions|BC|Energy|Supply', 'Emissions|CH4|Energy',\n",
       "       'Emissions|CO2|Energy|Supply|Electricity', 'Emissions|CO|AFOLU',\n",
       "       'Emissions|CO|Energy', 'Emissions|CO|Energy|Demand|Industry',\n",
       "       'Emissions|CO|Energy|Demand|Residential and Commercial',\n",
       "       'Emissions|CO|Energy|Demand|Transportation',\n",
       "       'Emissions|CO|Energy|Supply', 'Emissions|HFC|HFC245fa',\n",
       "       'Emissions|Kyoto Gases', 'Emissions|N2O|Energy',\n",
       "       'Emissions|N2O|Other', 'Emissions|NH3|AFOLU',\n",
       "       'Emissions|NH3|Energy', 'Emissions|NH3|Energy|Demand|Industry',\n",
       "       'Emissions|NH3|Energy|Demand|Residential and Commercial',\n",
       "       'Emissions|NH3|Energy|Demand|Transportation',\n",
       "       'Emissions|NH3|Energy|Supply', 'Emissions|NOx|AFOLU',\n",
       "       'Emissions|NOx|Energy',\n",
       "       'Emissions|NOx|Energy|Demand|Transportation',\n",
       "       'Emissions|NOx|Energy|Supply', 'Emissions|OC|AFOLU',\n",
       "       'Emissions|OC|Energy', 'Emissions|OC|Energy|Demand|Industry',\n",
       "       'Emissions|OC|Energy|Demand|Residential and Commercial',\n",
       "       'Emissions|OC|Energy|Demand|Transportation',\n",
       "       'Emissions|OC|Energy|Supply', 'Emissions|Sulfur|AFOLU',\n",
       "       'Emissions|Sulfur|Energy',\n",
       "       'Emissions|Sulfur|Energy|Demand|Industry',\n",
       "       'Emissions|Sulfur|Energy|Demand|Residential and Commercial',\n",
       "       'Emissions|Sulfur|Energy|Demand|Transportation',\n",
       "       'Emissions|Sulfur|Energy|Supply', 'Emissions|VOC|AFOLU',\n",
       "       'Emissions|VOC|Energy', 'Emissions|VOC|Energy|Demand|Industry',\n",
       "       'Emissions|VOC|Energy|Demand|Residential and Commercial',\n",
       "       'Emissions|VOC|Energy|Demand|Transportation',\n",
       "       'Emissions|VOC|Energy|Supply', 'Emissions|CO2|Energy',\n",
       "       'Emissions|CO2|Industrial Processes',\n",
       "       'Emissions|NOx|Energy|Demand|Industry',\n",
       "       'Emissions|NOx|Energy|Demand|Residential and Commercial',\n",
       "       'Emissions|CO2|Energy|Demand|Residential and Commercial|Commercial',\n",
       "       'Emissions|CO2|Energy|Demand|Residential and Commercial|Residential',\n",
       "       'Emissions|CH4|AFOLU|Agriculture',\n",
       "       'Emissions|N2O|AFOLU|Agriculture', 'Emissions|C2F6',\n",
       "       'Emissions|CF4', 'Emissions|CH4|Other',\n",
       "       'Emissions|CO2|Energy|Supply|Heat',\n",
       "       'Emissions|CO2|Energy|Demand|Transportation|Freight',\n",
       "       'Emissions|CO2|Energy|Demand|Transportation|Passenger'],\n",
       "      dtype=object)"
      ]
     },
     "execution_count": 156,
     "metadata": {},
     "output_type": "execute_result"
    }
   ],
   "source": [
    "pd.unique(data[0].index.get_level_values(0))"
   ]
  },
  {
   "cell_type": "code",
   "execution_count": 150,
   "id": "b510e664-89c1-4baa-8f8b-f59667b58baf",
   "metadata": {},
   "outputs": [
    {
     "data": {
      "text/plain": [
       "array(['AR6 climate diagnostics|Effective Radiative Forcing|FaIRv1.6.2|33.0th Percentile',\n",
       "       'AR6 climate diagnostics|Effective Radiative Forcing|FaIRv1.6.2|5.0th Percentile',\n",
       "       'AR6 climate diagnostics|Effective Radiative Forcing|FaIRv1.6.2|50.0th Percentile',\n",
       "       'AR6 climate diagnostics|Effective Radiative Forcing|FaIRv1.6.2|67.0th Percentile',\n",
       "       'AR6 climate diagnostics|Effective Radiative Forcing|FaIRv1.6.2|95.0th Percentile',\n",
       "       'AR6 climate diagnostics|Effective Radiative Forcing|MAGICCv7.5.3|33.0th Percentile',\n",
       "       'AR6 climate diagnostics|Effective Radiative Forcing|MAGICCv7.5.3|5.0th Percentile',\n",
       "       'AR6 climate diagnostics|Effective Radiative Forcing|MAGICCv7.5.3|50.0th Percentile',\n",
       "       'AR6 climate diagnostics|Effective Radiative Forcing|MAGICCv7.5.3|67.0th Percentile',\n",
       "       'AR6 climate diagnostics|Effective Radiative Forcing|MAGICCv7.5.3|95.0th Percentile',\n",
       "       'AR6 climate diagnostics|Exceedance Probability 1.5C|FaIRv1.6.2',\n",
       "       'AR6 climate diagnostics|Exceedance Probability 1.5C|MAGICCv7.5.3',\n",
       "       'AR6 climate diagnostics|Exceedance Probability 2.0C|FaIRv1.6.2',\n",
       "       'AR6 climate diagnostics|Exceedance Probability 2.0C|MAGICCv7.5.3',\n",
       "       'AR6 climate diagnostics|Exceedance Probability 2.5C|FaIRv1.6.2',\n",
       "       'AR6 climate diagnostics|Exceedance Probability 2.5C|MAGICCv7.5.3',\n",
       "       'AR6 climate diagnostics|Exceedance Probability 3.0C|FaIRv1.6.2',\n",
       "       'AR6 climate diagnostics|Exceedance Probability 3.0C|MAGICCv7.5.3',\n",
       "       'AR6 climate diagnostics|Infilled|Emissions|CH4',\n",
       "       'AR6 climate diagnostics|Infilled|Emissions|CO2',\n",
       "       'AR6 climate diagnostics|Infilled|Emissions|F-Gases',\n",
       "       'AR6 climate diagnostics|Infilled|Emissions|Kyoto Gases (AR5-GWP100)',\n",
       "       'AR6 climate diagnostics|Infilled|Emissions|Kyoto Gases (AR6-GWP100)',\n",
       "       'AR6 climate diagnostics|Infilled|Emissions|N2O',\n",
       "       'AR6 climate diagnostics|Native-with-Infilled|Emissions|Kyoto Gases (AR5-GWP100)',\n",
       "       'AR6 climate diagnostics|Native-with-Infilled|Emissions|Kyoto Gases (AR6-GWP100)',\n",
       "       'AR6 climate diagnostics|Surface Temperature (GSAT)|FaIRv1.6.2|10.0th Percentile',\n",
       "       'AR6 climate diagnostics|Surface Temperature (GSAT)|FaIRv1.6.2|16.7th Percentile',\n",
       "       'AR6 climate diagnostics|Surface Temperature (GSAT)|FaIRv1.6.2|33.0th Percentile',\n",
       "       'AR6 climate diagnostics|Surface Temperature (GSAT)|FaIRv1.6.2|5.0th Percentile',\n",
       "       'AR6 climate diagnostics|Surface Temperature (GSAT)|FaIRv1.6.2|50.0th Percentile',\n",
       "       'AR6 climate diagnostics|Surface Temperature (GSAT)|FaIRv1.6.2|67.0th Percentile',\n",
       "       'AR6 climate diagnostics|Surface Temperature (GSAT)|FaIRv1.6.2|83.3th Percentile',\n",
       "       'AR6 climate diagnostics|Surface Temperature (GSAT)|FaIRv1.6.2|90.0th Percentile',\n",
       "       'AR6 climate diagnostics|Surface Temperature (GSAT)|FaIRv1.6.2|95.0th Percentile',\n",
       "       'AR6 climate diagnostics|Surface Temperature (GSAT)|MAGICCv7.5.3|10.0th Percentile',\n",
       "       'AR6 climate diagnostics|Surface Temperature (GSAT)|MAGICCv7.5.3|16.7th Percentile',\n",
       "       'AR6 climate diagnostics|Surface Temperature (GSAT)|MAGICCv7.5.3|33.0th Percentile',\n",
       "       'AR6 climate diagnostics|Surface Temperature (GSAT)|MAGICCv7.5.3|5.0th Percentile',\n",
       "       'AR6 climate diagnostics|Surface Temperature (GSAT)|MAGICCv7.5.3|50.0th Percentile',\n",
       "       'AR6 climate diagnostics|Surface Temperature (GSAT)|MAGICCv7.5.3|67.0th Percentile',\n",
       "       'AR6 climate diagnostics|Surface Temperature (GSAT)|MAGICCv7.5.3|83.3th Percentile',\n",
       "       'AR6 climate diagnostics|Surface Temperature (GSAT)|MAGICCv7.5.3|90.0th Percentile',\n",
       "       'AR6 climate diagnostics|Surface Temperature (GSAT)|MAGICCv7.5.3|95.0th Percentile'],\n",
       "      dtype=object)"
      ]
     },
     "execution_count": 150,
     "metadata": {},
     "output_type": "execute_result"
    }
   ],
   "source": [
    "pd.unique(df.index.get_level_values(0))"
   ]
  },
  {
   "cell_type": "markdown",
   "id": "c8b7468b-f5ef-43a9-8985-198143358539",
   "metadata": {},
   "source": [
    "## Check example data"
   ]
  },
  {
   "cell_type": "code",
   "execution_count": 133,
   "id": "cd4d4062-e53a-4260-95e5-a34a3057dd4f",
   "metadata": {},
   "outputs": [],
   "source": [
    "scenario = 'ssp245'\n",
    "gas = 'CO2'\n",
    "\n",
    "g = ds_hist.file['historical_best/input/conc']\n",
    "d_hist = pd.Series(g[gas], index=g['time'])\n",
    "\n",
    "g = ds_rcmip2.file[f'{scenario}/input/conc']\n",
    "d_future = pd.Series(g[gas], index=g['time']).loc[year_start_merge:year_end]\n",
    "\n",
    "g = ds.file[f'{scenario}/input/conc']\n",
    "d_merged = pd.Series(g[gas], index=g['time'])"
   ]
  },
  {
   "cell_type": "code",
   "execution_count": 134,
   "id": "652d002a-a383-4dc2-8c43-59f03c811446",
   "metadata": {},
   "outputs": [
    {
     "data": {
      "image/png": "[encoded data removed]",
      "text/plain": [
       "<Figure size 741.6x309.6 with 2 Axes>"
      ]
     },
     "metadata": {},
     "output_type": "display_data"
    }
   ],
   "source": [
    "myplt.init_regular(2, col=2)\n",
    "\n",
    "ax = myplt(0)\n",
    "\n",
    "data = [d_hist, d_future, d_merged]\n",
    "labels = ['historical', 'future (original)', 'future']\n",
    "\n",
    "for d1, label in zip(data, labels):\n",
    "    ax.plot(d1.index, d1, label=label)\n",
    "\n",
    "ax.legend()\n",
    "ax.grid()\n",
    "\n",
    "ax = myplt(1)\n",
    "\n",
    "for d1, label in zip(data, labels):\n",
    "    d1 = d1.loc[2000:2040]\n",
    "    ax.plot(d1.index, d1, label=label)\n",
    "\n",
    "ax.legend()\n",
    "ax.grid()"
   ]
  }
 ],
 "metadata": {
  "kernelspec": {
   "display_name": "Python 3 (ipykernel)",
   "language": "python",
   "name": "python3"
  },
  "language_info": {
   "codemirror_mode": {
    "name": "ipython",
    "version": 3
   },
   "file_extension": ".py",
   "mimetype": "text/x-python",
   "name": "python",
   "nbconvert_exporter": "python",
   "pygments_lexer": "ipython3",
   "version": "3.12.8"
  }
 },
 "nbformat": 4,
 "nbformat_minor": 5
}
