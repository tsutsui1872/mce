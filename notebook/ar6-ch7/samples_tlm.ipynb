{
 "cells": [
  {
   "cell_type": "markdown",
   "metadata": {},
   "source": [
    "# Two-layer model parameters\n",
    "\n",
    "Replicate AR6 Chapter 7 samples based on\n",
    "notebooks/140_WG3_draw_fair_samples.ipynb\n",
    "in https://github.com/IPCC-WG1/Chapter-7"
   ]
  },
  {
   "cell_type": "code",
   "execution_count": 25,
   "metadata": {},
   "outputs": [],
   "source": [
    "import sys\n",
    "import json\n",
    "import numpy as np\n",
    "import scipy.stats as stats\n",
    "import pandas as pd\n",
    "from netCDF4 import Dataset"
   ]
  },
  {
   "cell_type": "code",
   "execution_count": 2,
   "metadata": {},
   "outputs": [],
   "source": [
    "sys.path.append('../..')"
   ]
  },
  {
   "cell_type": "code",
   "execution_count": 3,
   "metadata": {},
   "outputs": [],
   "source": [
    "from mce.util.io import RetrieveGitHub, write_nc"
   ]
  },
  {
   "cell_type": "code",
   "execution_count": 19,
   "metadata": {},
   "outputs": [],
   "source": [
    "ddir = '../../data/ar6-ch7'\n",
    "owner = 'IPCC-WG1'\n",
    "repo = 'Chapter-7'\n",
    "repo_ch7 = RetrieveGitHub(owner, repo, ddir)"
   ]
  },
  {
   "cell_type": "code",
   "execution_count": 9,
   "metadata": {},
   "outputs": [],
   "source": [
    "path = repo_ch7.retrieve('data_input/random_seeds.json')\n",
    "with path.open() as f1:\n",
    "    SEEDS = json.load(f1)"
   ]
  },
  {
   "cell_type": "code",
   "execution_count": 6,
   "metadata": {},
   "outputs": [],
   "source": [
    "NINETY_TO_ONESIGMA = stats.norm.ppf(0.95)\n",
    "\n",
    "SAMPLES = 1000000\n",
    "F2XCO2_MEAN = 4.00\n",
    "F2XCO2_NINETY = 0.48"
   ]
  },
  {
   "cell_type": "code",
   "execution_count": 10,
   "metadata": {},
   "outputs": [],
   "source": [
    "path = repo_ch7.retrieve('data_input/tunings/cmip6_twolayer_tuning_params.json')\n",
    "with path.open() as f1:\n",
    "    params = json.load(f1)\n",
    "\n",
    "cmip6_models = list(params['q4x']['model_data']['EBM-epsilon'].keys())"
   ]
  },
  {
   "cell_type": "code",
   "execution_count": 11,
   "metadata": {},
   "outputs": [],
   "source": [
    "df_parms = pd.concat({\n",
    "    vn: pd.DataFrame(params[vn]['model_data']).rename_axis('Dataset')\n",
    "    for vn in params\n",
    "}, names=['Parameter']).rename_axis(columns='Model').unstack('Parameter')"
   ]
  },
  {
   "cell_type": "code",
   "execution_count": 15,
   "metadata": {},
   "outputs": [],
   "source": [
    "pnames = ['q4x', 'lamg', 'cmix', 'cdeep', 'gamma_2l', 'eff']\n",
    "df1 = df_parms['EBM-epsilon'].loc[cmip6_models, pnames]\n",
    "\n",
    "kernel = stats.gaussian_kde(df1.T)\n",
    "df = pd.DataFrame(\n",
    "    kernel.resample(size=int(SAMPLES*1.25), seed=SEEDS[15]),\n",
    "    index=df1.columns,\n",
    ").T\n",
    "\n",
    "df['lamg'] = 1.\n",
    "df = df.where(df > 0)\n",
    "df['lamg'] = stats.truncnorm.rvs(\n",
    "    -2, 2, loc=-4/3, scale=0.5, size=int(SAMPLES*1.25),\n",
    "    random_state=SEEDS[16],\n",
    ")\n",
    "\n",
    "df_sample = (\n",
    "    df\n",
    "    .dropna()\n",
    "    .iloc[:SAMPLES]\n",
    "    .reset_index(drop=True)\n",
    "    .rename_axis(index='Member')\n",
    "    .rename_axis(columns='')\n",
    ")"
   ]
  },
  {
   "cell_type": "code",
   "execution_count": 16,
   "metadata": {},
   "outputs": [
    {
     "data": {
      "text/html": [
       "<div>\n",
       "<style scoped>\n",
       "    .dataframe tbody tr th:only-of-type {\n",
       "        vertical-align: middle;\n",
       "    }\n",
       "\n",
       "    .dataframe tbody tr th {\n",
       "        vertical-align: top;\n",
       "    }\n",
       "\n",
       "    .dataframe thead th {\n",
       "        text-align: right;\n",
       "    }\n",
       "</style>\n",
       "<table border=\"1\" class=\"dataframe\">\n",
       "  <thead>\n",
       "    <tr style=\"text-align: right;\">\n",
       "      <th></th>\n",
       "      <th>q4x</th>\n",
       "      <th>lamg</th>\n",
       "      <th>cmix</th>\n",
       "      <th>cdeep</th>\n",
       "      <th>gamma_2l</th>\n",
       "      <th>eff</th>\n",
       "    </tr>\n",
       "    <tr>\n",
       "      <th>Member</th>\n",
       "      <th></th>\n",
       "      <th></th>\n",
       "      <th></th>\n",
       "      <th></th>\n",
       "      <th></th>\n",
       "      <th></th>\n",
       "    </tr>\n",
       "  </thead>\n",
       "  <tbody>\n",
       "    <tr>\n",
       "      <th>0</th>\n",
       "      <td>8.142751</td>\n",
       "      <td>-1.156137</td>\n",
       "      <td>9.493752</td>\n",
       "      <td>56.066688</td>\n",
       "      <td>0.455056</td>\n",
       "      <td>1.344132</td>\n",
       "    </tr>\n",
       "    <tr>\n",
       "      <th>1</th>\n",
       "      <td>6.119064</td>\n",
       "      <td>-2.167808</td>\n",
       "      <td>8.747261</td>\n",
       "      <td>52.676899</td>\n",
       "      <td>0.461327</td>\n",
       "      <td>1.077195</td>\n",
       "    </tr>\n",
       "    <tr>\n",
       "      <th>2</th>\n",
       "      <td>8.617112</td>\n",
       "      <td>-1.293838</td>\n",
       "      <td>8.009019</td>\n",
       "      <td>123.943687</td>\n",
       "      <td>0.566571</td>\n",
       "      <td>1.153560</td>\n",
       "    </tr>\n",
       "    <tr>\n",
       "      <th>3</th>\n",
       "      <td>7.946020</td>\n",
       "      <td>-1.305245</td>\n",
       "      <td>7.816008</td>\n",
       "      <td>19.885165</td>\n",
       "      <td>0.608541</td>\n",
       "      <td>1.879368</td>\n",
       "    </tr>\n",
       "    <tr>\n",
       "      <th>4</th>\n",
       "      <td>8.254456</td>\n",
       "      <td>-0.987906</td>\n",
       "      <td>8.534034</td>\n",
       "      <td>27.923307</td>\n",
       "      <td>0.584929</td>\n",
       "      <td>1.258868</td>\n",
       "    </tr>\n",
       "  </tbody>\n",
       "</table>\n",
       "</div>"
      ],
      "text/plain": [
       "             q4x      lamg      cmix       cdeep  gamma_2l       eff\n",
       "Member                                                              \n",
       "0       8.142751 -1.156137  9.493752   56.066688  0.455056  1.344132\n",
       "1       6.119064 -2.167808  8.747261   52.676899  0.461327  1.077195\n",
       "2       8.617112 -1.293838  8.009019  123.943687  0.566571  1.153560\n",
       "3       7.946020 -1.305245  7.816008   19.885165  0.608541  1.879368\n",
       "4       8.254456 -0.987906  8.534034   27.923307  0.584929  1.258868"
      ]
     },
     "execution_count": 16,
     "metadata": {},
     "output_type": "execute_result"
    }
   ],
   "source": [
    "df_sample.head()"
   ]
  },
  {
   "cell_type": "code",
   "execution_count": 17,
   "metadata": {},
   "outputs": [],
   "source": [
    "f2x = stats.norm.rvs(\n",
    "    loc=F2XCO2_MEAN, scale=F2XCO2_NINETY/NINETY_TO_ONESIGMA,\n",
    "    size=SAMPLES, random_state=SEEDS[73],\n",
    ")\n",
    "df = df_sample\n",
    "ecs = -f2x / df.loc[:, 'lamg']\n",
    "tcr = f2x / (-df.loc[:, 'lamg'] + df.loc[:, 'gamma_2l'] * df.loc[:, 'eff'])"
   ]
  },
  {
   "cell_type": "code",
   "execution_count": 18,
   "metadata": {},
   "outputs": [],
   "source": [
    "dims = ('member',)\n",
    "var_dict = {'member': (np.arange(SAMPLES, dtype='i8'), dims, {})}\n",
    "\n",
    "var_dict.update({f'geoff__{pn}': (d1.values, dims, {}) for pn, d1 in df.iteritems()})\n",
    "\n",
    "var_dict['f2x'] = (f2x, dims, {})\n",
    "var_dict['ecs'] = (ecs.values, dims, {})\n",
    "var_dict['tcr'] = (tcr.values, dims, {})"
   ]
  },
  {
   "cell_type": "code",
   "execution_count": 20,
   "metadata": {},
   "outputs": [],
   "source": [
    "path = f'{ddir}/fair_samples_thermal.nc'\n",
    "write_nc(path, var_dict, {}, dim_unlimited='member')"
   ]
  },
  {
   "cell_type": "markdown",
   "metadata": {},
   "source": [
    "## Chack results"
   ]
  },
  {
   "cell_type": "code",
   "execution_count": 23,
   "metadata": {},
   "outputs": [],
   "source": [
    "dir_ch7 = '../../../../../work/Chapter-7-main'"
   ]
  },
  {
   "cell_type": "code",
   "execution_count": 26,
   "metadata": {},
   "outputs": [],
   "source": [
    "ncf = Dataset(path)"
   ]
  },
  {
   "cell_type": "code",
   "execution_count": 27,
   "metadata": {},
   "outputs": [
    {
     "data": {
      "text/plain": [
       "True"
      ]
     },
     "execution_count": 27,
     "metadata": {},
     "output_type": "execute_result"
    }
   ],
   "source": [
    "np.allclose(\n",
    "    pd.DataFrame({\n",
    "        pn[7:]: ncv[:] for pn, ncv in ncf.variables.items()\n",
    "        if pn.startswith('geoff__')\n",
    "    }).sub(\n",
    "        pd.read_csv(f'{dir_ch7}/data_output_large/geoff_sample.csv', index_col=0)\n",
    "    ),\n",
    "    0.,\n",
    ")"
   ]
  },
  {
   "cell_type": "code",
   "execution_count": 28,
   "metadata": {},
   "outputs": [
    {
     "data": {
      "text/plain": [
       "[True, True, True]"
      ]
     },
     "execution_count": 28,
     "metadata": {},
     "output_type": "execute_result"
    }
   ],
   "source": [
    "[\n",
    "    np.allclose(\n",
    "        ncf.variables[pn][:],\n",
    "        np.load(f'{dir_ch7}/data_input_large/fair-samples/{pn}_unconstrained.npy'),\n",
    "    )\n",
    "    for pn in ['f2x', 'ecs', 'tcr']\n",
    "]"
   ]
  },
  {
   "cell_type": "code",
   "execution_count": 29,
   "metadata": {},
   "outputs": [],
   "source": [
    "ncf.close()"
   ]
  }
 ],
 "metadata": {
  "kernelspec": {
   "display_name": ".venv",
   "language": "python",
   "name": "python3"
  },
  "language_info": {
   "codemirror_mode": {
    "name": "ipython",
    "version": 3
   },
   "file_extension": ".py",
   "mimetype": "text/x-python",
   "name": "python",
   "nbconvert_exporter": "python",
   "pygments_lexer": "ipython3",
   "version": "3.12.3"
  }
 },
 "nbformat": 4,
 "nbformat_minor": 2
}
