{
 "cells": [
  {
   "cell_type": "markdown",
   "metadata": {},
   "source": [
    "# Example of diagnosing forcing-response parameters\n",
    "\n",
    "Use `mce/script/diag_climate.py` for a batch job"
   ]
  },
  {
   "cell_type": "code",
   "execution_count": 1,
   "metadata": {},
   "outputs": [],
   "source": [
    "import numpy as np\n",
    "from mce.core.climate_parms \\\n",
    "    import get_gcm, regression_method, emulator_method, save_result\n",
    "from mce.util.io import get_irm_parms"
   ]
  },
  {
   "cell_type": "code",
   "execution_count": 2,
   "metadata": {},
   "outputs": [
    {
     "name": "stderr",
     "output_type": "stream",
     "text": [
      "[2020-03-30 08:20:22 mce] INFO:Reading ./rtnt_IPSL-CM6A-LR_piControl_anom.nc\n",
      "[2020-03-30 08:20:22 mce] INFO:Reading ./tas_IPSL-CM6A-LR_piControl_anom.nc\n",
      "[2020-03-30 08:20:22 mce] INFO:Reading ./rtnt_IPSL-CM6A-LR_abrupt-4xCO2_anom.nc\n",
      "[2020-03-30 08:20:22 mce] INFO:Reading ./tas_IPSL-CM6A-LR_abrupt-4xCO2_anom.nc\n",
      "[2020-03-30 08:20:22 mce] INFO:Reading ./rtnt_IPSL-CM6A-LR_1pctCO2_anom.nc\n",
      "[2020-03-30 08:20:22 mce] INFO:Reading ./tas_IPSL-CM6A-LR_1pctCO2_anom.nc\n"
     ]
    }
   ],
   "source": [
    "# Use tas for the surface temperature variable\n",
    "name_t = 'tas'\n",
    "dataset = 'IPSL-CM6A-LR'\n",
    "mip = 'CMIP6'\n",
    "cubes_n, cubes_t = get_gcm(dataset, mip, '.', name_t)"
   ]
  },
  {
   "cell_type": "code",
   "execution_count": 3,
   "metadata": {},
   "outputs": [
    {
     "name": "stderr",
     "output_type": "stream",
     "text": [
      "[2020-03-30 08:20:22 mce] INFO:Updating ./parms_irm-3_rtnt-tas_cmip6.nc\n",
      "[2020-03-30 08:20:22 mce] INFO:Results of 1 models saved\n"
     ]
    }
   ],
   "source": [
    "# The number of layers in the underlying box model is three (default)\n",
    "nl = 3\n",
    "# Perform the emulator method\n",
    "result, obj = emulator_method(cubes_n, cubes_t, nl=nl)\n",
    "# Perform the regression method for comparison\n",
    "result.update(**regression_method(cubes_n, cubes_t))\n",
    "\n",
    "outpath = './parms_irm-{}_rtnt-{}_{}.nc'.format(nl, name_t, mip.lower())\n",
    "data = save_result(result, dataset, outpath)"
   ]
  },
  {
   "cell_type": "code",
   "execution_count": 4,
   "metadata": {},
   "outputs": [
    {
     "name": "stderr",
     "output_type": "stream",
     "text": [
      "[2020-03-30 08:20:22 io] INFO:reading ./parms_irm-3_rtnt-tas_cmip6.nc\n"
     ]
    }
   ],
   "source": [
    "parms = get_irm_parms(outpath)"
   ]
  },
  {
   "cell_type": "code",
   "execution_count": 5,
   "metadata": {
    "scrolled": true
   },
   "outputs": [
    {
     "data": {
      "text/html": [
       "<div>\n",
       "<style scoped>\n",
       "    .dataframe tbody tr th:only-of-type {\n",
       "        vertical-align: middle;\n",
       "    }\n",
       "\n",
       "    .dataframe tbody tr th {\n",
       "        vertical-align: top;\n",
       "    }\n",
       "\n",
       "    .dataframe thead th {\n",
       "        text-align: right;\n",
       "    }\n",
       "</style>\n",
       "<table border=\"1\" class=\"dataframe\">\n",
       "  <thead>\n",
       "    <tr style=\"text-align: right;\">\n",
       "      <th>dataset</th>\n",
       "      <th>IPSL-CM6A-LR</th>\n",
       "    </tr>\n",
       "  </thead>\n",
       "  <tbody>\n",
       "    <tr>\n",
       "      <th>a0</th>\n",
       "      <td>0.234870</td>\n",
       "    </tr>\n",
       "    <tr>\n",
       "      <th>a1</th>\n",
       "      <td>0.371789</td>\n",
       "    </tr>\n",
       "    <tr>\n",
       "      <th>a2</th>\n",
       "      <td>0.393341</td>\n",
       "    </tr>\n",
       "    <tr>\n",
       "      <th>alpha</th>\n",
       "      <td>4.240268</td>\n",
       "    </tr>\n",
       "    <tr>\n",
       "      <th>beta</th>\n",
       "      <td>1.184355</td>\n",
       "    </tr>\n",
       "    <tr>\n",
       "      <th>ecs</th>\n",
       "      <td>3.828138</td>\n",
       "    </tr>\n",
       "    <tr>\n",
       "      <th>ecs_reg</th>\n",
       "      <td>4.558967</td>\n",
       "    </tr>\n",
       "    <tr>\n",
       "      <th>lambda</th>\n",
       "      <td>0.767770</td>\n",
       "    </tr>\n",
       "    <tr>\n",
       "      <th>lambda_reg</th>\n",
       "      <td>0.749612</td>\n",
       "    </tr>\n",
       "    <tr>\n",
       "      <th>tau0</th>\n",
       "      <td>0.872372</td>\n",
       "    </tr>\n",
       "    <tr>\n",
       "      <th>tau1</th>\n",
       "      <td>12.840076</td>\n",
       "    </tr>\n",
       "    <tr>\n",
       "      <th>tau2</th>\n",
       "      <td>207.534294</td>\n",
       "    </tr>\n",
       "    <tr>\n",
       "      <th>tcr</th>\n",
       "      <td>2.276589</td>\n",
       "    </tr>\n",
       "    <tr>\n",
       "      <th>tcr_gcm</th>\n",
       "      <td>2.309800</td>\n",
       "    </tr>\n",
       "  </tbody>\n",
       "</table>\n",
       "</div>"
      ],
      "text/plain": [
       "dataset     IPSL-CM6A-LR\n",
       "a0              0.234870\n",
       "a1              0.371789\n",
       "a2              0.393341\n",
       "alpha           4.240268\n",
       "beta            1.184355\n",
       "ecs             3.828138\n",
       "ecs_reg         4.558967\n",
       "lambda          0.767770\n",
       "lambda_reg      0.749612\n",
       "tau0            0.872372\n",
       "tau1           12.840076\n",
       "tau2          207.534294\n",
       "tcr             2.276589\n",
       "tcr_gcm         2.309800"
      ]
     },
     "execution_count": 5,
     "metadata": {},
     "output_type": "execute_result"
    }
   ],
   "source": [
    "parms.T"
   ]
  }
 ],
 "metadata": {
  "kernelspec": {
   "display_name": "Python 3",
   "language": "python",
   "name": "python3"
  },
  "language_info": {
   "codemirror_mode": {
    "name": "ipython",
    "version": 3
   },
   "file_extension": ".py",
   "mimetype": "text/x-python",
   "name": "python",
   "nbconvert_exporter": "python",
   "pygments_lexer": "ipython3",
   "version": "3.7.3"
  }
 },
 "nbformat": 4,
 "nbformat_minor": 2
}
