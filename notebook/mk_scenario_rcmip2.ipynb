{
 "cells": [
  {
   "cell_type": "markdown",
   "id": "b980c0e8-9142-42c9-9068-11672c49e6c7",
   "metadata": {},
   "source": [
    "# Import RCMIP2 scenarios"
   ]
  },
  {
   "cell_type": "code",
   "execution_count": 1,
   "id": "3b4e8765-fc26-46f8-a060-a9cf471b78e2",
   "metadata": {},
   "outputs": [
    {
     "name": "stdout",
     "output_type": "stream",
     "text": [
      "/home/rocky/project/mce\n"
     ]
    }
   ],
   "source": [
    "%cd .."
   ]
  },
  {
   "cell_type": "code",
   "execution_count": 54,
   "id": "cd29e813-57ad-4542-aeae-325b6d57f70d",
   "metadata": {},
   "outputs": [],
   "source": [
    "import re\n",
    "import numpy as np\n",
    "import pandas as pd\n",
    "from mce.core import ScenarioBase\n",
    "from mce.core.forcing import RfAll\n",
    "from mce.util.io import retrieve_url"
   ]
  },
  {
   "cell_type": "code",
   "execution_count": 105,
   "id": "ac4ca87a-279a-453b-8683-29985aa52fe9",
   "metadata": {},
   "outputs": [],
   "source": [
    "forcing = RfAll()"
   ]
  },
  {
   "cell_type": "markdown",
   "id": "467bac2c-6596-469d-bc5f-ed9decbb0038",
   "metadata": {},
   "source": [
    "## Read RCMIP2 data"
   ]
  },
  {
   "cell_type": "code",
   "execution_count": 162,
   "id": "1c23c4d3-9fd6-43d2-ac33-c5ab3b22d8f9",
   "metadata": {},
   "outputs": [
    {
     "name": "stderr",
     "output_type": "stream",
     "text": [
      "[2025-04-10 16:11:55 mce.util.io] INFO:Use local file datain/rcmip/rcmip-emissions-annual-means-v5-1-0.csv retrieved from https://rcmip-protocols-au.s3-ap-southeast-2.amazonaws.com/v5.1.0/rcmip-emissions-annual-means-v5-1-0.csv on 2025-02-08\n",
      "[2025-04-10 16:11:56 mce.util.io] INFO:Use local file datain/rcmip/rcmip-concentrations-annual-means-v5-1-0.csv retrieved from https://rcmip-protocols-au.s3-ap-southeast-2.amazonaws.com/v5.1.0/rcmip-concentrations-annual-means-v5-1-0.csv on 2025-02-09\n",
      "[2025-04-10 16:11:57 mce.util.io] INFO:Use local file datain/rcmip/rcmip-radiative-forcing-annual-means-v5-1-0.csv retrieved from https://rcmip-protocols-au.s3-ap-southeast-2.amazonaws.com/v5.1.0/rcmip-radiative-forcing-annual-means-v5-1-0.csv on 2025-04-09\n"
     ]
    }
   ],
   "source": [
    "fmt = 'rcmip-{}-annual-means-v5-1-0.csv'.format\n",
    "dfin = {}\n",
    "for cat, cat_full in {\n",
    "    'emis': 'emissions',\n",
    "    'conc': 'concentrations',\n",
    "    'rf': 'radiative-forcing',\n",
    "}.items():\n",
    "    fn = fmt(cat_full)\n",
    "    path = retrieve_url(\n",
    "        f'datain/rcmip/{fn}',\n",
    "        f'https://rcmip-protocols-au.s3-ap-southeast-2.amazonaws.com/v5.1.0/{fn}',\n",
    "    )\n",
    "    dfin[cat] = (\n",
    "        pd.read_csv(path, index_col=list(range(7)))\n",
    "        .rename(columns=int)\n",
    "    )"
   ]
  },
  {
   "cell_type": "code",
   "execution_count": 163,
   "id": "688b862d-6278-472f-826c-3c6d3fc11c5d",
   "metadata": {},
   "outputs": [
    {
     "data": {
      "text/plain": [
       "FrozenList(['Model', 'Scenario', 'Region', 'Variable', 'Unit', 'Activity_Id', 'Mip_Era'])"
      ]
     },
     "execution_count": 163,
     "metadata": {},
     "output_type": "execute_result"
    }
   ],
   "source": [
    "dfin['conc'].index.names"
   ]
  },
  {
   "cell_type": "code",
   "execution_count": 164,
   "id": "f5b4f5e5-7671-4d43-a4b5-45e5b28f2956",
   "metadata": {},
   "outputs": [],
   "source": [
    "id_vars_1 = ['Scenario', 'Region']\n",
    "id_vars_2 = ['Model', 'Activity_Id', 'Mip_Era']"
   ]
  },
  {
   "cell_type": "markdown",
   "id": "28af9fb5-7689-4283-ba15-e7d23be8de34",
   "metadata": {},
   "source": [
    "## Rename variables and units"
   ]
  },
  {
   "cell_type": "code",
   "execution_count": 169,
   "id": "89b5d5fc-af51-48b0-b500-2afd405b924d",
   "metadata": {},
   "outputs": [],
   "source": [
    "# Delete the header part  in emission variables\n",
    "# and change '/yr' to 'yr-1' in emission units\n",
    "dfin['emis'] = (\n",
    "    dfin['emis']\n",
    "    .rename(lambda x: x.replace('Emissions|', ''), level='Variable')\n",
    "    .rename(lambda x: x.replace('/yr', ' yr-1'), level='Unit')\n",
    ")"
   ]
  },
  {
   "cell_type": "code",
   "execution_count": 170,
   "id": "91ec3f14-ac7c-40bb-9fd9-62966e1d474e",
   "metadata": {},
   "outputs": [
    {
     "data": {
      "text/plain": [
       "True"
      ]
     },
     "execution_count": 170,
     "metadata": {},
     "output_type": "execute_result"
    }
   ],
   "source": [
    "# Categorize emission variables into non-MAGICC, MAGICC AFOLU, and MAGICC FFI\n",
    "df = dfin['emis']\n",
    "df_afolu = df.loc[[x.find('MAGICC AFOLU')>=0 for x in df.index.get_level_values('Variable')]]\n",
    "df_ffi = df.loc[[x.find('MAGICC Fossil and Industrial')>=0 for x in df.index.get_level_values('Variable')]]\n",
    "df = df.loc[[x.find('MAGICC')==-1 for x in df.index.get_level_values('Variable')]]\n",
    "\n",
    "len(df_afolu) + len(df_ffi) + len(df) == len(dfin['emis'])"
   ]
  },
  {
   "cell_type": "code",
   "execution_count": 171,
   "id": "788a916f-c1c2-4b16-a538-0ac2e4bbcfa0",
   "metadata": {},
   "outputs": [],
   "source": [
    "def chk(df1, df2=None, level='Variable'):\n",
    "    \"\"\"Get unique levels for check\n",
    "    \"\"\"\n",
    "    vl1 = pd.unique(df1.index.get_level_values(level))\n",
    "    if df2 is None:\n",
    "        return vl1\n",
    "    else:\n",
    "        vl2 = pd.unique(df2.index.get_level_values(level))\n",
    "        return len(vl1) == len(vl2)"
   ]
  },
  {
   "cell_type": "code",
   "execution_count": 172,
   "id": "3aab4194-1ae5-461d-ba5b-ba9eccd19208",
   "metadata": {},
   "outputs": [
    {
     "data": {
      "text/plain": [
       "(True, True)"
      ]
     },
     "execution_count": 172,
     "metadata": {},
     "output_type": "execute_result"
    }
   ],
   "source": [
    "# Rename MAGICC parts\n",
    "df_afolu_new = df_afolu.rename(lambda x: x.replace('|MAGICC AFOLU', ''), level='Variable')\n",
    "df_ffi_new = df_ffi.rename(lambda x: x.replace('|MAGICC Fossil and Industrial', ''), level='Variable')\n",
    "\n",
    "chk(df_afolu, df_afolu_new), chk(df_ffi, df_ffi_new)\n"
   ]
  },
  {
   "cell_type": "code",
   "execution_count": 173,
   "id": "b1576cd9-52ae-4963-8d6e-a76a156c4ad2",
   "metadata": {},
   "outputs": [],
   "source": [
    "df_afolu = df_afolu_new\n",
    "df_ffi = df_ffi_new\n",
    "del df_afolu_new\n",
    "del df_ffi_new"
   ]
  },
  {
   "cell_type": "code",
   "execution_count": 207,
   "id": "1dd155a6-5f08-40af-aff2-5370043bf958",
   "metadata": {},
   "outputs": [],
   "source": [
    "def conv_ghg(x):\n",
    "    x = re.sub(r'(F-|Montreal )Gases\\|', '', x)\n",
    "    x = re.sub(r'( ?)(CFC|HFC|PFC)\\|', r'\\1', x)\n",
    "    x = re.sub(r'( ?)(CFC|HFC|PFC|HCFC|Halon)(.)', r'\\1\\2-\\3', x)\n",
    "    x = re.sub('(C4F10|C5F12|C6F14)', r'n-\\1', x)\n",
    "    x = x.replace('HFC-4310mee', 'HFC-43-10mee').replace('cC4F8', 'c-C4F8')\n",
    "    return x"
   ]
  },
  {
   "cell_type": "code",
   "execution_count": 175,
   "id": "0b18eb1e-95da-4d8a-ac71-fdbb8a09d38f",
   "metadata": {},
   "outputs": [],
   "source": [
    "# Rename GHGs\n",
    "df = df.rename(conv_ghg, level='Variable')\n",
    "df = df.rename(conv_ghg, level='Unit')"
   ]
  },
  {
   "cell_type": "code",
   "execution_count": 176,
   "id": "e0c14b50-924e-4075-a329-19c2e3d74082",
   "metadata": {},
   "outputs": [
    {
     "name": "stdout",
     "output_type": "stream",
     "text": [
      "BC\n",
      "CO\n",
      "NH3\n",
      "NOx\n",
      "OC\n",
      "Sulfur\n",
      "VOC\n"
     ]
    }
   ],
   "source": [
    "# Check non-GHG names\n",
    "for x in chk(df, level='Variable'):\n",
    "    if x not in forcing.ghgs:\n",
    "        print(x)"
   ]
  },
  {
   "cell_type": "code",
   "execution_count": 177,
   "id": "28d83a0b-c552-4d40-b16c-6bb966baf3dc",
   "metadata": {},
   "outputs": [
    {
     "data": {
      "text/plain": [
       "['CO2',\n",
       " 'BC',\n",
       " 'BC|Agricultural Waste Burning',\n",
       " 'BC|Agriculture',\n",
       " 'BC|Forest Burning',\n",
       " 'BC|Grassland Burning',\n",
       " 'BC|Peat Burning',\n",
       " 'CH4',\n",
       " 'CH4|Agricultural Waste Burning',\n",
       " 'CH4|Agriculture',\n",
       " 'CH4|Forest Burning',\n",
       " 'CH4|Grassland Burning',\n",
       " 'CH4|Peat Burning',\n",
       " 'CO',\n",
       " 'CO|Agricultural Waste Burning',\n",
       " 'CO|Agriculture',\n",
       " 'CO|Forest Burning',\n",
       " 'CO|Grassland Burning',\n",
       " 'CO|Peat Burning',\n",
       " 'N2O',\n",
       " 'NH3',\n",
       " 'NH3|Agricultural Waste Burning',\n",
       " 'NH3|Agriculture',\n",
       " 'NH3|Forest Burning',\n",
       " 'NH3|Grassland Burning',\n",
       " 'NH3|Peat Burning',\n",
       " 'NOx',\n",
       " 'NOx|Agricultural Waste Burning',\n",
       " 'NOx|Agriculture',\n",
       " 'NOx|Forest Burning',\n",
       " 'NOx|Grassland Burning',\n",
       " 'NOx|Peat Burning',\n",
       " 'OC',\n",
       " 'OC|Agricultural Waste Burning',\n",
       " 'OC|Agriculture',\n",
       " 'OC|Forest Burning',\n",
       " 'OC|Grassland Burning',\n",
       " 'OC|Peat Burning',\n",
       " 'Sulfur',\n",
       " 'Sulfur|Agricultural Waste Burning',\n",
       " 'Sulfur|Agriculture',\n",
       " 'Sulfur|Forest Burning',\n",
       " 'Sulfur|Grassland Burning',\n",
       " 'Sulfur|Peat Burning',\n",
       " 'VOC',\n",
       " 'VOC|Agricultural Waste Burning',\n",
       " 'VOC|Agriculture',\n",
       " 'VOC|Forest Burning',\n",
       " 'VOC|Grassland Burning',\n",
       " 'VOC|Peat Burning']"
      ]
     },
     "execution_count": 177,
     "metadata": {},
     "output_type": "execute_result"
    }
   ],
   "source": [
    "# Check AFOLU variables\n",
    "chk(df_afolu).tolist()"
   ]
  },
  {
   "cell_type": "code",
   "execution_count": 178,
   "id": "df41eabd-06d1-4bcf-a4d1-11ae41d4379e",
   "metadata": {},
   "outputs": [
    {
     "data": {
      "text/plain": [
       "['CO2', 'BC', 'CH4', 'CO', 'N2O', 'NH3', 'NOx', 'OC', 'Sulfur', 'VOC']"
      ]
     },
     "execution_count": 178,
     "metadata": {},
     "output_type": "execute_result"
    }
   ],
   "source": [
    "pd.unique([x.split('|')[0] for x in chk(df_afolu)]).tolist()"
   ]
  },
  {
   "cell_type": "code",
   "execution_count": 179,
   "id": "b75a552b-5725-4adf-a31e-ddcab59dba99",
   "metadata": {},
   "outputs": [
    {
     "data": {
      "text/plain": [
       "['CO2',\n",
       " 'BC',\n",
       " 'BC|Aircraft',\n",
       " 'BC|Energy Sector',\n",
       " 'BC|Industrial Sector',\n",
       " 'BC|International Shipping',\n",
       " 'BC|Residential Commercial Other',\n",
       " 'BC|Solvents Production and Application',\n",
       " 'BC|Transportation Sector',\n",
       " 'BC|Waste',\n",
       " 'CH4',\n",
       " 'CH4|Energy Sector',\n",
       " 'CH4|Industrial Sector',\n",
       " 'CH4|International Shipping',\n",
       " 'CH4|Residential Commercial Other',\n",
       " 'CH4|Solvents Production and Application',\n",
       " 'CH4|Transportation Sector',\n",
       " 'CH4|Waste',\n",
       " 'CO2|Aircraft',\n",
       " 'CO2|Energy Sector',\n",
       " 'CO2|Industrial Sector',\n",
       " 'CO2|International Shipping',\n",
       " 'CO2|Residential Commercial Other',\n",
       " 'CO2|Solvents Production and Application',\n",
       " 'CO2|Transportation Sector',\n",
       " 'CO2|Waste',\n",
       " 'CO',\n",
       " 'CO|Aircraft',\n",
       " 'CO|Energy Sector',\n",
       " 'CO|Industrial Sector',\n",
       " 'CO|International Shipping',\n",
       " 'CO|Residential Commercial Other',\n",
       " 'CO|Solvents Production and Application',\n",
       " 'CO|Transportation Sector',\n",
       " 'CO|Waste',\n",
       " 'N2O',\n",
       " 'NH3',\n",
       " 'NH3|Aircraft',\n",
       " 'NH3|Energy Sector',\n",
       " 'NH3|Industrial Sector',\n",
       " 'NH3|International Shipping',\n",
       " 'NH3|Residential Commercial Other',\n",
       " 'NH3|Solvents Production and Application',\n",
       " 'NH3|Transportation Sector',\n",
       " 'NH3|Waste',\n",
       " 'NOx',\n",
       " 'NOx|Aircraft',\n",
       " 'NOx|Energy Sector',\n",
       " 'NOx|Industrial Sector',\n",
       " 'NOx|International Shipping',\n",
       " 'NOx|Residential Commercial Other',\n",
       " 'NOx|Solvents Production and Application',\n",
       " 'NOx|Transportation Sector',\n",
       " 'NOx|Waste',\n",
       " 'OC',\n",
       " 'OC|Aircraft',\n",
       " 'OC|Energy Sector',\n",
       " 'OC|Industrial Sector',\n",
       " 'OC|International Shipping',\n",
       " 'OC|Residential Commercial Other',\n",
       " 'OC|Solvents Production and Application',\n",
       " 'OC|Transportation Sector',\n",
       " 'OC|Waste',\n",
       " 'Sulfur',\n",
       " 'Sulfur|Aircraft',\n",
       " 'Sulfur|Energy Sector',\n",
       " 'Sulfur|Industrial Sector',\n",
       " 'Sulfur|International Shipping',\n",
       " 'Sulfur|Residential Commercial Other',\n",
       " 'Sulfur|Solvents Production and Application',\n",
       " 'Sulfur|Transportation Sector',\n",
       " 'Sulfur|Waste',\n",
       " 'VOC',\n",
       " 'VOC|Aircraft',\n",
       " 'VOC|Energy Sector',\n",
       " 'VOC|Industrial Sector',\n",
       " 'VOC|International Shipping',\n",
       " 'VOC|Residential Commercial Other',\n",
       " 'VOC|Solvents Production and Application',\n",
       " 'VOC|Transportation Sector',\n",
       " 'VOC|Waste']"
      ]
     },
     "execution_count": 179,
     "metadata": {},
     "output_type": "execute_result"
    }
   ],
   "source": [
    "# Check FFI variables\n",
    "chk(df_ffi).tolist()"
   ]
  },
  {
   "cell_type": "code",
   "execution_count": 180,
   "id": "4c343787-b16a-452b-9c64-18684d4b12e9",
   "metadata": {},
   "outputs": [
    {
     "data": {
      "text/plain": [
       "['CO2', 'BC', 'CH4', 'CO', 'N2O', 'NH3', 'NOx', 'OC', 'Sulfur', 'VOC']"
      ]
     },
     "execution_count": 180,
     "metadata": {},
     "output_type": "execute_result"
    }
   ],
   "source": [
    "pd.unique([x.split('|')[0] for x in chk(df_ffi)]).tolist()"
   ]
  },
  {
   "cell_type": "code",
   "execution_count": 181,
   "id": "dc84eac2-da32-4e6d-8bde-6b6dc3cd95a1",
   "metadata": {},
   "outputs": [
    {
     "data": {
      "text/plain": [
       "[('BC', 'Mt BC yr-1'),\n",
       " ('C2F6', 'kt C2F6 yr-1'),\n",
       " ('C3F8', 'kt C3F8 yr-1'),\n",
       " ('C7F16', 'kt C7F16 yr-1'),\n",
       " ('C8F18', 'kt C8F18 yr-1'),\n",
       " ('CCl4', 'kt CCl4 yr-1'),\n",
       " ('CF4', 'kt CF4 yr-1'),\n",
       " ('CFC-11', 'kt CFC-11 yr-1'),\n",
       " ('CFC-113', 'kt CFC-113 yr-1'),\n",
       " ('CFC-114', 'kt CFC-114 yr-1'),\n",
       " ('CFC-115', 'kt CFC-115 yr-1'),\n",
       " ('CFC-12', 'kt CFC-12 yr-1'),\n",
       " ('CH2Cl2', 'kt CH2Cl2 yr-1'),\n",
       " ('CH3Br', 'kt CH3Br yr-1'),\n",
       " ('CH3CCl3', 'kt CH3CCl3 yr-1'),\n",
       " ('CH3Cl', 'kt CH3Cl yr-1'),\n",
       " ('CH4', 'Mt CH4 yr-1'),\n",
       " ('CHCl3', 'kt CHCl3 yr-1'),\n",
       " ('CO', 'Mt CO yr-1'),\n",
       " ('CO2', 'Mt CO2 yr-1'),\n",
       " ('HCFC-141b', 'kt HCFC-141b yr-1'),\n",
       " ('HCFC-142b', 'kt HCFC-142b yr-1'),\n",
       " ('HCFC-22', 'kt HCFC-22 yr-1'),\n",
       " ('HFC-125', 'kt HFC-125 yr-1'),\n",
       " ('HFC-134a', 'kt HFC-134a yr-1'),\n",
       " ('HFC-143a', 'kt HFC-143a yr-1'),\n",
       " ('HFC-152a', 'kt HFC-152a yr-1'),\n",
       " ('HFC-227ea', 'kt HFC-227ea yr-1'),\n",
       " ('HFC-23', 'kt HFC-23 yr-1'),\n",
       " ('HFC-236fa', 'kt HFC-236fa yr-1'),\n",
       " ('HFC-245fa', 'kt HFC-245fa yr-1'),\n",
       " ('HFC-32', 'kt HFC-32 yr-1'),\n",
       " ('HFC-365mfc', 'kt HFC-365mfc yr-1'),\n",
       " ('HFC-43-10mee', 'kt HFC-43-10mee yr-1'),\n",
       " ('Halon-1202', 'kt Halon-1202 yr-1'),\n",
       " ('Halon-1211', 'kt Halon-1211 yr-1'),\n",
       " ('Halon-1301', 'kt Halon-1301 yr-1'),\n",
       " ('Halon-2402', 'kt Halon-2402 yr-1'),\n",
       " ('N2O', 'kt N2O yr-1'),\n",
       " ('NF3', 'kt NF3 yr-1'),\n",
       " ('NH3', 'Mt NH3 yr-1'),\n",
       " ('NOx', 'Mt NOx yr-1'),\n",
       " ('OC', 'Mt OC yr-1'),\n",
       " ('SF6', 'kt SF6 yr-1'),\n",
       " ('SO2F2', 'kt SO2F2 yr-1'),\n",
       " ('Sulfur', 'Mt SO2 yr-1'),\n",
       " ('VOC', 'Mt VOC yr-1'),\n",
       " ('c-C4F8', 'kt c-C4F8 yr-1'),\n",
       " ('n-C4F10', 'kt n-C4F10 yr-1'),\n",
       " ('n-C5F12', 'kt n-C5F12 yr-1'),\n",
       " ('n-C6F14', 'kt n-C6F14 yr-1')]"
      ]
     },
     "execution_count": 181,
     "metadata": {},
     "output_type": "execute_result"
    }
   ],
   "source": [
    "# Check variable-units pairs\n",
    "list(df.groupby(['Variable', 'Unit']).groups)"
   ]
  },
  {
   "cell_type": "code",
   "execution_count": 182,
   "id": "2a8ced79-a4e4-4743-9029-91c6ba8dec47",
   "metadata": {},
   "outputs": [],
   "source": [
    "dfin['emis'] = df\n",
    "dfin['emis_afolu'] = df_afolu\n",
    "dfin['emis_ffi'] = df_ffi"
   ]
  },
  {
   "cell_type": "code",
   "execution_count": 186,
   "id": "9debea09-0d99-47ca-8c90-1e61e376cdc0",
   "metadata": {},
   "outputs": [],
   "source": [
    "# Rename concentration variable as well\n",
    "df = (\n",
    "    dfin['conc']\n",
    "    .rename(lambda x: x.replace('Atmospheric Concentrations|', ''), level='Variable')\n",
    "    .rename(conv_ghg, level='Variable')\n",
    ")"
   ]
  },
  {
   "cell_type": "code",
   "execution_count": 187,
   "id": "c4c237eb-54a5-423e-8a28-031500f5334e",
   "metadata": {},
   "outputs": [
    {
     "data": {
      "text/plain": [
       "[]"
      ]
     },
     "execution_count": 187,
     "metadata": {},
     "output_type": "execute_result"
    }
   ],
   "source": [
    "# Ensure all species are supported in MCE\n",
    "[x for x in chk(df) if x not in forcing.ghgs]"
   ]
  },
  {
   "cell_type": "code",
   "execution_count": 188,
   "id": "50082ee6-78e0-4723-9de3-c3e60860e246",
   "metadata": {},
   "outputs": [
    {
     "data": {
      "text/plain": [
       "[('C2F6', 'ppt'),\n",
       " ('C3F8', 'ppt'),\n",
       " ('C7F16', 'ppt'),\n",
       " ('C8F18', 'ppt'),\n",
       " ('CCl4', 'ppt'),\n",
       " ('CF4', 'ppt'),\n",
       " ('CFC-11', 'ppt'),\n",
       " ('CFC-113', 'ppt'),\n",
       " ('CFC-114', 'ppt'),\n",
       " ('CFC-115', 'ppt'),\n",
       " ('CFC-12', 'ppt'),\n",
       " ('CH2Cl2', 'ppt'),\n",
       " ('CH3Br', 'ppt'),\n",
       " ('CH3CCl3', 'ppt'),\n",
       " ('CH3Cl', 'ppt'),\n",
       " ('CH4', 'ppb'),\n",
       " ('CHCl3', 'ppt'),\n",
       " ('CO2', 'ppm'),\n",
       " ('HCFC-141b', 'ppt'),\n",
       " ('HCFC-142b', 'ppt'),\n",
       " ('HCFC-22', 'ppt'),\n",
       " ('HFC-125', 'ppt'),\n",
       " ('HFC-134a', 'ppt'),\n",
       " ('HFC-143a', 'ppt'),\n",
       " ('HFC-152a', 'ppt'),\n",
       " ('HFC-227ea', 'ppt'),\n",
       " ('HFC-23', 'ppt'),\n",
       " ('HFC-236fa', 'ppt'),\n",
       " ('HFC-245fa', 'ppt'),\n",
       " ('HFC-32', 'ppt'),\n",
       " ('HFC-365mfc', 'ppt'),\n",
       " ('HFC-43-10mee', 'ppt'),\n",
       " ('Halon-1202', 'ppt'),\n",
       " ('Halon-1211', 'ppt'),\n",
       " ('Halon-1301', 'ppt'),\n",
       " ('Halon-2402', 'ppt'),\n",
       " ('N2O', 'ppb'),\n",
       " ('NF3', 'ppt'),\n",
       " ('SF6', 'ppt'),\n",
       " ('SO2F2', 'ppt'),\n",
       " ('c-C4F8', 'ppt'),\n",
       " ('n-C4F10', 'ppt'),\n",
       " ('n-C5F12', 'ppt'),\n",
       " ('n-C6F14', 'ppt')]"
      ]
     },
     "execution_count": 188,
     "metadata": {},
     "output_type": "execute_result"
    }
   ],
   "source": [
    "list(df.groupby(['Variable', 'Unit']).groups)"
   ]
  },
  {
   "cell_type": "code",
   "execution_count": 189,
   "id": "4cf8b637-bfd0-4985-9ffe-9f0d96c099a5",
   "metadata": {},
   "outputs": [],
   "source": [
    "dfin['conc'] = df"
   ]
  },
  {
   "cell_type": "code",
   "execution_count": 191,
   "id": "62ca001d-32bd-45db-a45b-aaa8cc8e88ec",
   "metadata": {},
   "outputs": [],
   "source": [
    "# Rename forcing units\n",
    "dfin['rf'] = dfin['rf'].rename({'W/m^2': 'W m-2'}, level='Unit')"
   ]
  },
  {
   "cell_type": "code",
   "execution_count": 192,
   "id": "c848a489-c614-445d-99cf-47cc225b965e",
   "metadata": {},
   "outputs": [],
   "source": [
    "# Categorize forcing variables into radiative forcing and effective radiative forcing\n",
    "dfg = dfin['rf'].groupby([\n",
    "    x.split('|')[0]\n",
    "    for x in dfin['rf'].index.get_level_values('Variable')\n",
    "])"
   ]
  },
  {
   "cell_type": "code",
   "execution_count": 212,
   "id": "f5c67df1-4c94-4d67-aaa8-b1b39ccd164d",
   "metadata": {},
   "outputs": [
    {
     "data": {
      "text/plain": [
       "['Effective Radiative Forcing', 'Radiative Forcing']"
      ]
     },
     "execution_count": 212,
     "metadata": {},
     "output_type": "execute_result"
    }
   ],
   "source": [
    "list(dfg.groups)"
   ]
  },
  {
   "cell_type": "code",
   "execution_count": 231,
   "id": "8e0d993c-2cfd-4e51-a08d-4104875015ef",
   "metadata": {},
   "outputs": [],
   "source": [
    "df_rf = (\n",
    "    dfg.get_group('Radiative Forcing')\n",
    "    .rename({'Radiative Forcing': 'total'}, level='Variable')\n",
    "    .rename(lambda x: x.replace('Radiative Forcing|', ''), level='Variable')\n",
    ")"
   ]
  },
  {
   "cell_type": "code",
   "execution_count": 232,
   "id": "1280aaaa-fb82-42ca-a240-6f7b48ddfc37",
   "metadata": {},
   "outputs": [],
   "source": [
    "df_erf = (\n",
    "    dfg.get_group('Effective Radiative Forcing')\n",
    "    .rename({'Effective Radiative Forcing': 'total'}, level='Variable')\n",
    "    .rename(lambda x: x.replace('Effective Radiative Forcing|', ''), level='Variable')\n",
    ")"
   ]
  },
  {
   "cell_type": "code",
   "execution_count": 233,
   "id": "e38db600-be66-4e5c-9e90-96c13a09794d",
   "metadata": {},
   "outputs": [],
   "source": [
    "# Change GHG names\n",
    "df_rf = df_rf.rename(conv_ghg, level='Variable')"
   ]
  },
  {
   "cell_type": "code",
   "execution_count": 247,
   "id": "ea4c0d78-5b90-4137-86cb-8985b94a9bba",
   "metadata": {},
   "outputs": [],
   "source": [
    "# Delete redundant part and apply several conversions\n",
    "# Need check for \"Other\" category that appears to include BC_on_snow, H2O_stratospheric, halogens\n",
    "def conv_name(x):\n",
    "    return (\n",
    "        x\n",
    "        .replace('Anthropogenic|', '')\n",
    "        .replace('Anthropogenic', 'anthro')\n",
    "        .replace('Natural|', '')\n",
    "        .replace('Natural', 'natural')\n",
    "        .replace('Aerosols|', '')\n",
    "        .replace('Aerosols-cloud Interactions', 'aerosols-cloud_interactions')\n",
    "        .replace('Aerosols-radiation Interactions', 'aerosols-radiation_interactions')\n",
    "        .replace('Tropospheric Ozone', 'O3_trop')\n",
    "        .replace('Stratospheric Ozone', 'O3_strat')\n",
    "        .replace('BC on Snow', 'BC_on_snow')\n",
    "        .replace('Albedo Change', 'land_use')\n",
    "        .replace('Other|Contrails and Contrail-induced Cirrus', 'contrails')\n",
    "        .replace('CH4 Oxidation Stratospheric H2O', 'H2O_stratospheric')\n",
    "        .replace('Solar', 'solar')\n",
    "        .replace('Volcanic', 'volcanic')\n",
    "        .replace('Aerosol', 'aerosol')\n",
    "        .replace('Other WMGHGs', 'halogen')\n",
    "        .replace('Other|', '')\n",
    "        .replace('Other', 'other')\n",
    "        # nonco2wmghg,minor\n",
    "    )"
   ]
  },
  {
   "cell_type": "code",
   "execution_count": 248,
   "id": "2435b923-04c1-4c77-9391-b15f6f27c752",
   "metadata": {},
   "outputs": [],
   "source": [
    "df_rf = df_rf.rename(conv_name, level='Variable')\n",
    "df_erf = df_erf.rename(conv_name, level='Variable')"
   ]
  },
  {
   "cell_type": "code",
   "execution_count": 249,
   "id": "3c0fe870-0964-405d-b933-84ae46c32ea9",
   "metadata": {},
   "outputs": [
    {
     "data": {
      "text/plain": [
       "array(['total', 'anthro', 'aerosols', 'aerosols-cloud_interactions',\n",
       "       'aerosols-radiation_interactions',\n",
       "       'aerosols-radiation_interactions|Biomass Burning',\n",
       "       'aerosols-radiation_interactions|Fossil and Industrial',\n",
       "       'aerosols-radiation_interactions|Fossil and Industrial|BC and OC',\n",
       "       'aerosols-radiation_interactions|Fossil and Industrial|BC and OC|BC',\n",
       "       'aerosols-radiation_interactions|Fossil and Industrial|BC and OC|OC',\n",
       "       'aerosols-radiation_interactions|Fossil and Industrial|Nitrate',\n",
       "       'aerosols-radiation_interactions|Fossil and Industrial|Sulfate',\n",
       "       'aerosols-radiation_interactions|Mineral Dust', 'land_use', 'CH4',\n",
       "       'CO2', 'F-Gases', 'HFC', 'HFC-125', 'HFC-134a', 'HFC-143a',\n",
       "       'HFC-227ea', 'HFC-23', 'HFC-245fa', 'HFC-32', 'HFC-43-10mee',\n",
       "       'PFC', 'C2F6', 'n-C6F14', 'CF4', 'SF6', 'Montreal Gases', 'CCl4',\n",
       "       'CFC', 'CFC-11', 'CFC-113', 'CFC-114', 'CFC-115', 'CFC-12',\n",
       "       'CH3Br', 'CH3CCl3', 'CH3Cl', 'HCFC-141b', 'HCFC-142b', 'HCFC-22',\n",
       "       'Halon-1202', 'Halon-1211', 'Halon-1301', 'Halon-2402', 'N2O',\n",
       "       'other', 'BC_on_snow', 'H2O_stratospheric', 'O3_strat', 'O3_trop',\n",
       "       'natural', 'solar', 'volcanic'], dtype=object)"
      ]
     },
     "execution_count": 249,
     "metadata": {},
     "output_type": "execute_result"
    }
   ],
   "source": [
    "chk(df_rf)"
   ]
  },
  {
   "cell_type": "code",
   "execution_count": 250,
   "id": "777a6d4b-d0de-429a-a177-ceb814d589b3",
   "metadata": {},
   "outputs": [
    {
     "data": {
      "text/plain": [
       "array(['total', 'anthro', 'aerosols', 'aerosols-cloud_interactions',\n",
       "       'aerosols-radiation_interactions', 'land_use', 'CH4', 'CO2', 'N2O',\n",
       "       'other', 'BC_on_snow', 'H2O_stratospheric', 'contrails', 'halogen',\n",
       "       'O3_strat', 'O3_trop', 'natural', 'solar', 'volcanic'],\n",
       "      dtype=object)"
      ]
     },
     "execution_count": 250,
     "metadata": {},
     "output_type": "execute_result"
    }
   ],
   "source": [
    "chk(df_erf)"
   ]
  },
  {
   "cell_type": "code",
   "execution_count": 252,
   "id": "61294f44-06d2-4b71-85f8-1a10ac52b532",
   "metadata": {},
   "outputs": [],
   "source": [
    "dfin['rf'] = df_rf\n",
    "dfin['erf'] = df_erf"
   ]
  },
  {
   "cell_type": "markdown",
   "id": "f2b855c0-f055-43a0-8761-b38a47e2ab48",
   "metadata": {},
   "source": [
    "## Data conversion for MCE"
   ]
  },
  {
   "cell_type": "code",
   "execution_count": 6,
   "id": "c0ed098e-d3fb-436d-af36-f4af71de782a",
   "metadata": {},
   "outputs": [
    {
     "name": "stderr",
     "output_type": "stream",
     "text": [
      "[2025-04-09 16:09:21 mce.core] INFO:in-memory file opened\n"
     ]
    }
   ],
   "source": [
    "ds = ScenarioBase()"
   ]
  },
  {
   "cell_type": "markdown",
   "id": "226978c2-564d-4528-a27a-bcef75434083",
   "metadata": {},
   "source": [
    "### Concentrations"
   ]
  },
  {
   "cell_type": "code",
   "execution_count": 10,
   "id": "0eb3e4af-eb9e-4a51-84b5-8d398a25f54e",
   "metadata": {},
   "outputs": [],
   "source": [
    "def conv(x):\n",
    "    \"\"\"Variable name conversion\n",
    "    \"\"\"\n",
    "    return (\n",
    "        x\n",
    "        .replace('Atmospheric Concentrations|', '')\n",
    "        .replace('F-Gases|', '')\n",
    "        .replace('Montreal Gases|', '')\n",
    "        .replace('CFC|CFC', 'CFC-')\n",
    "        .replace('HFC|HFC', 'HFC-')\n",
    "        .replace('PFC|', '')\n",
    "        .replace('Halon', 'Halon-')\n",
    "        .replace('HCFC', 'HCFC-')\n",
    "        .replace('HFC-4310mee', 'HFC-43-10mee')\n",
    "        .replace('C4F10', 'n-C4F10')\n",
    "        .replace('C5F12', 'n-C5F12')\n",
    "        .replace('C6F14', 'n-C6F14')\n",
    "        .replace('cC4F8', 'c-C4F8')\n",
    "    )"
   ]
  },
  {
   "cell_type": "code",
   "execution_count": 11,
   "id": "e2d600d6-1738-4bb6-8c55-ebc304fceb29",
   "metadata": {},
   "outputs": [],
   "source": [
    "cat = 'conc'\n",
    "\n",
    "for k1, v1 in dfin[cat].groupby(id_vars_1):\n",
    "    kw1 = dict(zip(id_vars_1, k1))\n",
    "    if kw1['Region'] != 'World':\n",
    "        continue\n",
    "\n",
    "    k2, v2 = next(v1.droplevel(id_vars_1).groupby(id_vars_2).__iter__())\n",
    "    if len(v1) != len(v2):\n",
    "        raise ValueError('unexpected indexes')\n",
    "\n",
    "    kw2 = dict(zip(id_vars_2, k2))\n",
    "\n",
    "    df = (\n",
    "        v2.droplevel(id_vars_2)\n",
    "        .rename(conv, level='Variable')\n",
    "        .T\n",
    "        .dropna(how='all')\n",
    "    )\n",
    "\n",
    "    for x in df.columns.get_level_values(0):\n",
    "        if x not in forcing.ghgs:\n",
    "            raise ValueError('unsupported species: {}'.format(x))\n",
    "\n",
    "    grp = ds.file.create_group('{}/input/{}'.format(kw1['Scenario'], cat))\n",
    "    \n",
    "    for k, v in kw2.items():\n",
    "        grp.attrs[k] = v\n",
    "    \n",
    "    dset = grp.create_dataset('time', data=df.index.values)\n",
    "    dset.attrs['units'] = 'yr'\n",
    "    \n",
    "    for k, v in df.items():\n",
    "        dset = grp.create_dataset(k[0], data=v.values)\n",
    "        dset.attrs['units'] = k[1]"
   ]
  },
  {
   "cell_type": "markdown",
   "id": "e2a4bf77-b279-4bda-a5ab-8e019c6ccfee",
   "metadata": {},
   "source": [
    "## Check an example scenario"
   ]
  },
  {
   "cell_type": "code",
   "execution_count": 12,
   "id": "2dbb81f4-e04b-4c9f-9f6e-c1527df0b621",
   "metadata": {},
   "outputs": [
    {
     "data": {
      "text/plain": [
       "[('Activity_Id', 'input4MIPs'),\n",
       " ('Mip_Era', 'CMIP6'),\n",
       " ('Model', 'MESSAGE-GLOBIOM')]"
      ]
     },
     "execution_count": 12,
     "metadata": {},
     "output_type": "execute_result"
    }
   ],
   "source": [
    "grp = ds.file['ssp245/input/conc']\n",
    "list(grp.attrs.items())"
   ]
  },
  {
   "cell_type": "code",
   "execution_count": 13,
   "id": "f266d2af-593c-4e45-99d0-5c8c05312040",
   "metadata": {},
   "outputs": [
    {
     "data": {
      "text/html": [
       "<div>\n",
       "<style scoped>\n",
       "    .dataframe tbody tr th:only-of-type {\n",
       "        vertical-align: middle;\n",
       "    }\n",
       "\n",
       "    .dataframe tbody tr th {\n",
       "        vertical-align: top;\n",
       "    }\n",
       "\n",
       "    .dataframe thead th {\n",
       "        text-align: right;\n",
       "    }\n",
       "</style>\n",
       "<table border=\"1\" class=\"dataframe\">\n",
       "  <thead>\n",
       "    <tr style=\"text-align: right;\">\n",
       "      <th></th>\n",
       "      <th>C2F6</th>\n",
       "      <th>C3F8</th>\n",
       "      <th>C7F16</th>\n",
       "      <th>C8F18</th>\n",
       "      <th>CCl4</th>\n",
       "      <th>CF4</th>\n",
       "      <th>CFC-11</th>\n",
       "      <th>CFC-113</th>\n",
       "      <th>CFC-114</th>\n",
       "      <th>CFC-115</th>\n",
       "      <th>...</th>\n",
       "      <th>Halon-1301</th>\n",
       "      <th>Halon-2402</th>\n",
       "      <th>N2O</th>\n",
       "      <th>NF3</th>\n",
       "      <th>SF6</th>\n",
       "      <th>SO2F2</th>\n",
       "      <th>c-C4F8</th>\n",
       "      <th>n-C4F10</th>\n",
       "      <th>n-C5F12</th>\n",
       "      <th>n-C6F14</th>\n",
       "    </tr>\n",
       "    <tr>\n",
       "      <th>time</th>\n",
       "      <th></th>\n",
       "      <th></th>\n",
       "      <th></th>\n",
       "      <th></th>\n",
       "      <th></th>\n",
       "      <th></th>\n",
       "      <th></th>\n",
       "      <th></th>\n",
       "      <th></th>\n",
       "      <th></th>\n",
       "      <th></th>\n",
       "      <th></th>\n",
       "      <th></th>\n",
       "      <th></th>\n",
       "      <th></th>\n",
       "      <th></th>\n",
       "      <th></th>\n",
       "      <th></th>\n",
       "      <th></th>\n",
       "      <th></th>\n",
       "      <th></th>\n",
       "    </tr>\n",
       "  </thead>\n",
       "  <tbody>\n",
       "    <tr>\n",
       "      <th>1700</th>\n",
       "      <td>0.00000</td>\n",
       "      <td>0.00000</td>\n",
       "      <td>0.000000</td>\n",
       "      <td>0.000000</td>\n",
       "      <td>0.025</td>\n",
       "      <td>34.049999</td>\n",
       "      <td>0.000000</td>\n",
       "      <td>0.000000</td>\n",
       "      <td>0.00000</td>\n",
       "      <td>0.00000</td>\n",
       "      <td>...</td>\n",
       "      <td>0.000000</td>\n",
       "      <td>0.0</td>\n",
       "      <td>272.212049</td>\n",
       "      <td>0.00000</td>\n",
       "      <td>0.0000</td>\n",
       "      <td>0.000000</td>\n",
       "      <td>0.00000</td>\n",
       "      <td>0.000000</td>\n",
       "      <td>0.000000</td>\n",
       "      <td>0.000000</td>\n",
       "    </tr>\n",
       "    <tr>\n",
       "      <th>1701</th>\n",
       "      <td>0.00000</td>\n",
       "      <td>0.00000</td>\n",
       "      <td>0.000000</td>\n",
       "      <td>0.000000</td>\n",
       "      <td>0.025</td>\n",
       "      <td>34.049999</td>\n",
       "      <td>0.000000</td>\n",
       "      <td>0.000000</td>\n",
       "      <td>0.00000</td>\n",
       "      <td>0.00000</td>\n",
       "      <td>...</td>\n",
       "      <td>0.000000</td>\n",
       "      <td>0.0</td>\n",
       "      <td>272.243047</td>\n",
       "      <td>0.00000</td>\n",
       "      <td>0.0000</td>\n",
       "      <td>0.000000</td>\n",
       "      <td>0.00000</td>\n",
       "      <td>0.000000</td>\n",
       "      <td>0.000000</td>\n",
       "      <td>0.000000</td>\n",
       "    </tr>\n",
       "    <tr>\n",
       "      <th>1702</th>\n",
       "      <td>0.00000</td>\n",
       "      <td>0.00000</td>\n",
       "      <td>0.000000</td>\n",
       "      <td>0.000000</td>\n",
       "      <td>0.025</td>\n",
       "      <td>34.049999</td>\n",
       "      <td>0.000000</td>\n",
       "      <td>0.000000</td>\n",
       "      <td>0.00000</td>\n",
       "      <td>0.00000</td>\n",
       "      <td>...</td>\n",
       "      <td>0.000000</td>\n",
       "      <td>0.0</td>\n",
       "      <td>272.266047</td>\n",
       "      <td>0.00000</td>\n",
       "      <td>0.0000</td>\n",
       "      <td>0.000000</td>\n",
       "      <td>0.00000</td>\n",
       "      <td>0.000000</td>\n",
       "      <td>0.000000</td>\n",
       "      <td>0.000000</td>\n",
       "    </tr>\n",
       "    <tr>\n",
       "      <th>1703</th>\n",
       "      <td>0.00000</td>\n",
       "      <td>0.00000</td>\n",
       "      <td>0.000000</td>\n",
       "      <td>0.000000</td>\n",
       "      <td>0.025</td>\n",
       "      <td>34.049999</td>\n",
       "      <td>0.000000</td>\n",
       "      <td>0.000000</td>\n",
       "      <td>0.00000</td>\n",
       "      <td>0.00000</td>\n",
       "      <td>...</td>\n",
       "      <td>0.000000</td>\n",
       "      <td>0.0</td>\n",
       "      <td>272.298047</td>\n",
       "      <td>0.00000</td>\n",
       "      <td>0.0000</td>\n",
       "      <td>0.000000</td>\n",
       "      <td>0.00000</td>\n",
       "      <td>0.000000</td>\n",
       "      <td>0.000000</td>\n",
       "      <td>0.000000</td>\n",
       "    </tr>\n",
       "    <tr>\n",
       "      <th>1704</th>\n",
       "      <td>0.00000</td>\n",
       "      <td>0.00000</td>\n",
       "      <td>0.000000</td>\n",
       "      <td>0.000000</td>\n",
       "      <td>0.025</td>\n",
       "      <td>34.049999</td>\n",
       "      <td>0.000000</td>\n",
       "      <td>0.000000</td>\n",
       "      <td>0.00000</td>\n",
       "      <td>0.00000</td>\n",
       "      <td>...</td>\n",
       "      <td>0.000000</td>\n",
       "      <td>0.0</td>\n",
       "      <td>272.331052</td>\n",
       "      <td>0.00000</td>\n",
       "      <td>0.0000</td>\n",
       "      <td>0.000000</td>\n",
       "      <td>0.00000</td>\n",
       "      <td>0.000000</td>\n",
       "      <td>0.000000</td>\n",
       "      <td>0.000000</td>\n",
       "    </tr>\n",
       "    <tr>\n",
       "      <th>...</th>\n",
       "      <td>...</td>\n",
       "      <td>...</td>\n",
       "      <td>...</td>\n",
       "      <td>...</td>\n",
       "      <td>...</td>\n",
       "      <td>...</td>\n",
       "      <td>...</td>\n",
       "      <td>...</td>\n",
       "      <td>...</td>\n",
       "      <td>...</td>\n",
       "      <td>...</td>\n",
       "      <td>...</td>\n",
       "      <td>...</td>\n",
       "      <td>...</td>\n",
       "      <td>...</td>\n",
       "      <td>...</td>\n",
       "      <td>...</td>\n",
       "      <td>...</td>\n",
       "      <td>...</td>\n",
       "      <td>...</td>\n",
       "      <td>...</td>\n",
       "    </tr>\n",
       "    <tr>\n",
       "      <th>2496</th>\n",
       "      <td>9.59912</td>\n",
       "      <td>1.67188</td>\n",
       "      <td>0.366361</td>\n",
       "      <td>0.176951</td>\n",
       "      <td>0.000</td>\n",
       "      <td>140.825001</td>\n",
       "      <td>0.015106</td>\n",
       "      <td>0.251401</td>\n",
       "      <td>1.05305</td>\n",
       "      <td>3.93032</td>\n",
       "      <td>...</td>\n",
       "      <td>0.003763</td>\n",
       "      <td>0.0</td>\n",
       "      <td>359.840983</td>\n",
       "      <td>2.46639</td>\n",
       "      <td>18.1191</td>\n",
       "      <td>0.000344</td>\n",
       "      <td>3.90381</td>\n",
       "      <td>0.353267</td>\n",
       "      <td>0.179582</td>\n",
       "      <td>0.685107</td>\n",
       "    </tr>\n",
       "    <tr>\n",
       "      <th>2497</th>\n",
       "      <td>9.59816</td>\n",
       "      <td>1.67164</td>\n",
       "      <td>0.366239</td>\n",
       "      <td>0.176892</td>\n",
       "      <td>0.000</td>\n",
       "      <td>140.822000</td>\n",
       "      <td>0.014794</td>\n",
       "      <td>0.248462</td>\n",
       "      <td>1.04701</td>\n",
       "      <td>3.92252</td>\n",
       "      <td>...</td>\n",
       "      <td>0.003707</td>\n",
       "      <td>0.0</td>\n",
       "      <td>359.825979</td>\n",
       "      <td>2.46177</td>\n",
       "      <td>18.1134</td>\n",
       "      <td>0.000334</td>\n",
       "      <td>3.90259</td>\n",
       "      <td>0.353196</td>\n",
       "      <td>0.179538</td>\n",
       "      <td>0.684886</td>\n",
       "    </tr>\n",
       "    <tr>\n",
       "      <th>2498</th>\n",
       "      <td>9.59720</td>\n",
       "      <td>1.67140</td>\n",
       "      <td>0.366117</td>\n",
       "      <td>0.176833</td>\n",
       "      <td>0.000</td>\n",
       "      <td>140.818998</td>\n",
       "      <td>0.014489</td>\n",
       "      <td>0.245556</td>\n",
       "      <td>1.04100</td>\n",
       "      <td>3.91474</td>\n",
       "      <td>...</td>\n",
       "      <td>0.003651</td>\n",
       "      <td>0.0</td>\n",
       "      <td>359.811981</td>\n",
       "      <td>2.45715</td>\n",
       "      <td>18.1077</td>\n",
       "      <td>0.000325</td>\n",
       "      <td>3.90137</td>\n",
       "      <td>0.353126</td>\n",
       "      <td>0.179494</td>\n",
       "      <td>0.684665</td>\n",
       "    </tr>\n",
       "    <tr>\n",
       "      <th>2499</th>\n",
       "      <td>9.59624</td>\n",
       "      <td>1.67116</td>\n",
       "      <td>0.365995</td>\n",
       "      <td>0.176774</td>\n",
       "      <td>0.000</td>\n",
       "      <td>140.815999</td>\n",
       "      <td>0.014190</td>\n",
       "      <td>0.242685</td>\n",
       "      <td>1.03502</td>\n",
       "      <td>3.90697</td>\n",
       "      <td>...</td>\n",
       "      <td>0.003597</td>\n",
       "      <td>0.0</td>\n",
       "      <td>359.797984</td>\n",
       "      <td>2.45254</td>\n",
       "      <td>18.1021</td>\n",
       "      <td>0.000316</td>\n",
       "      <td>3.90015</td>\n",
       "      <td>0.353055</td>\n",
       "      <td>0.179450</td>\n",
       "      <td>0.684444</td>\n",
       "    </tr>\n",
       "    <tr>\n",
       "      <th>2500</th>\n",
       "      <td>9.59576</td>\n",
       "      <td>1.67104</td>\n",
       "      <td>0.365934</td>\n",
       "      <td>0.176744</td>\n",
       "      <td>0.000</td>\n",
       "      <td>140.815004</td>\n",
       "      <td>0.014042</td>\n",
       "      <td>0.241258</td>\n",
       "      <td>1.03204</td>\n",
       "      <td>3.90309</td>\n",
       "      <td>...</td>\n",
       "      <td>0.003570</td>\n",
       "      <td>0.0</td>\n",
       "      <td>359.789983</td>\n",
       "      <td>2.45023</td>\n",
       "      <td>18.0993</td>\n",
       "      <td>0.000311</td>\n",
       "      <td>3.89954</td>\n",
       "      <td>0.353020</td>\n",
       "      <td>0.179428</td>\n",
       "      <td>0.684334</td>\n",
       "    </tr>\n",
       "  </tbody>\n",
       "</table>\n",
       "<p>801 rows × 43 columns</p>\n",
       "</div>"
      ],
      "text/plain": [
       "         C2F6     C3F8     C7F16     C8F18   CCl4         CF4    CFC-11  \\\n",
       "time                                                                      \n",
       "1700  0.00000  0.00000  0.000000  0.000000  0.025   34.049999  0.000000   \n",
       "1701  0.00000  0.00000  0.000000  0.000000  0.025   34.049999  0.000000   \n",
       "1702  0.00000  0.00000  0.000000  0.000000  0.025   34.049999  0.000000   \n",
       "1703  0.00000  0.00000  0.000000  0.000000  0.025   34.049999  0.000000   \n",
       "1704  0.00000  0.00000  0.000000  0.000000  0.025   34.049999  0.000000   \n",
       "...       ...      ...       ...       ...    ...         ...       ...   \n",
       "2496  9.59912  1.67188  0.366361  0.176951  0.000  140.825001  0.015106   \n",
       "2497  9.59816  1.67164  0.366239  0.176892  0.000  140.822000  0.014794   \n",
       "2498  9.59720  1.67140  0.366117  0.176833  0.000  140.818998  0.014489   \n",
       "2499  9.59624  1.67116  0.365995  0.176774  0.000  140.815999  0.014190   \n",
       "2500  9.59576  1.67104  0.365934  0.176744  0.000  140.815004  0.014042   \n",
       "\n",
       "       CFC-113  CFC-114  CFC-115  ...  Halon-1301  Halon-2402         N2O  \\\n",
       "time                              ...                                       \n",
       "1700  0.000000  0.00000  0.00000  ...    0.000000         0.0  272.212049   \n",
       "1701  0.000000  0.00000  0.00000  ...    0.000000         0.0  272.243047   \n",
       "1702  0.000000  0.00000  0.00000  ...    0.000000         0.0  272.266047   \n",
       "1703  0.000000  0.00000  0.00000  ...    0.000000         0.0  272.298047   \n",
       "1704  0.000000  0.00000  0.00000  ...    0.000000         0.0  272.331052   \n",
       "...        ...      ...      ...  ...         ...         ...         ...   \n",
       "2496  0.251401  1.05305  3.93032  ...    0.003763         0.0  359.840983   \n",
       "2497  0.248462  1.04701  3.92252  ...    0.003707         0.0  359.825979   \n",
       "2498  0.245556  1.04100  3.91474  ...    0.003651         0.0  359.811981   \n",
       "2499  0.242685  1.03502  3.90697  ...    0.003597         0.0  359.797984   \n",
       "2500  0.241258  1.03204  3.90309  ...    0.003570         0.0  359.789983   \n",
       "\n",
       "          NF3      SF6     SO2F2   c-C4F8   n-C4F10   n-C5F12   n-C6F14  \n",
       "time                                                                     \n",
       "1700  0.00000   0.0000  0.000000  0.00000  0.000000  0.000000  0.000000  \n",
       "1701  0.00000   0.0000  0.000000  0.00000  0.000000  0.000000  0.000000  \n",
       "1702  0.00000   0.0000  0.000000  0.00000  0.000000  0.000000  0.000000  \n",
       "1703  0.00000   0.0000  0.000000  0.00000  0.000000  0.000000  0.000000  \n",
       "1704  0.00000   0.0000  0.000000  0.00000  0.000000  0.000000  0.000000  \n",
       "...       ...      ...       ...      ...       ...       ...       ...  \n",
       "2496  2.46639  18.1191  0.000344  3.90381  0.353267  0.179582  0.685107  \n",
       "2497  2.46177  18.1134  0.000334  3.90259  0.353196  0.179538  0.684886  \n",
       "2498  2.45715  18.1077  0.000325  3.90137  0.353126  0.179494  0.684665  \n",
       "2499  2.45254  18.1021  0.000316  3.90015  0.353055  0.179450  0.684444  \n",
       "2500  2.45023  18.0993  0.000311  3.89954  0.353020  0.179428  0.684334  \n",
       "\n",
       "[801 rows x 43 columns]"
      ]
     },
     "execution_count": 13,
     "metadata": {},
     "output_type": "execute_result"
    }
   ],
   "source": [
    "pd.DataFrame({k: v for k, v in grp.items()}).set_index('time')"
   ]
  },
  {
   "cell_type": "code",
   "execution_count": 14,
   "id": "dbc90841-e7bd-40f7-a4f3-779059feeef1",
   "metadata": {},
   "outputs": [
    {
     "data": {
      "text/plain": [
       "{'C2F6': 'ppt',\n",
       " 'C3F8': 'ppt',\n",
       " 'C7F16': 'ppt',\n",
       " 'C8F18': 'ppt',\n",
       " 'CCl4': 'ppt',\n",
       " 'CF4': 'ppt',\n",
       " 'CFC-11': 'ppt',\n",
       " 'CFC-113': 'ppt',\n",
       " 'CFC-114': 'ppt',\n",
       " 'CFC-115': 'ppt',\n",
       " 'CFC-12': 'ppt',\n",
       " 'CH2Cl2': 'ppt',\n",
       " 'CH3Br': 'ppt',\n",
       " 'CH3CCl3': 'ppt',\n",
       " 'CH3Cl': 'ppt',\n",
       " 'CH4': 'ppb',\n",
       " 'CHCl3': 'ppt',\n",
       " 'CO2': 'ppm',\n",
       " 'HCFC-141b': 'ppt',\n",
       " 'HCFC-142b': 'ppt',\n",
       " 'HCFC-22': 'ppt',\n",
       " 'HFC-125': 'ppt',\n",
       " 'HFC-134a': 'ppt',\n",
       " 'HFC-143a': 'ppt',\n",
       " 'HFC-152a': 'ppt',\n",
       " 'HFC-227ea': 'ppt',\n",
       " 'HFC-23': 'ppt',\n",
       " 'HFC-236fa': 'ppt',\n",
       " 'HFC-245fa': 'ppt',\n",
       " 'HFC-32': 'ppt',\n",
       " 'HFC-365mfc': 'ppt',\n",
       " 'HFC-43-10mee': 'ppt',\n",
       " 'Halon-1211': 'ppt',\n",
       " 'Halon-1301': 'ppt',\n",
       " 'Halon-2402': 'ppt',\n",
       " 'N2O': 'ppb',\n",
       " 'NF3': 'ppt',\n",
       " 'SF6': 'ppt',\n",
       " 'SO2F2': 'ppt',\n",
       " 'c-C4F8': 'ppt',\n",
       " 'n-C4F10': 'ppt',\n",
       " 'n-C5F12': 'ppt',\n",
       " 'n-C6F14': 'ppt',\n",
       " 'time': 'yr'}"
      ]
     },
     "execution_count": 14,
     "metadata": {},
     "output_type": "execute_result"
    }
   ],
   "source": [
    "{k: v.attrs['units'] for k, v in grp.items()}"
   ]
  },
  {
   "cell_type": "code",
   "execution_count": 15,
   "id": "2592daf2-2aa5-408d-9528-6cfccc9edfa1",
   "metadata": {},
   "outputs": [
    {
     "name": "stderr",
     "output_type": "stream",
     "text": [
      "[2025-04-09 16:16:15 mce.core] INFO:in-memory file closed\n"
     ]
    }
   ],
   "source": [
    "ds.close()"
   ]
  }
 ],
 "metadata": {
  "kernelspec": {
   "display_name": "Python 3 (ipykernel)",
   "language": "python",
   "name": "python3"
  },
  "language_info": {
   "codemirror_mode": {
    "name": "ipython",
    "version": 3
   },
   "file_extension": ".py",
   "mimetype": "text/x-python",
   "name": "python",
   "nbconvert_exporter": "python",
   "pygments_lexer": "ipython3",
   "version": "3.12.8"
  }
 },
 "nbformat": 4,
 "nbformat_minor": 5
}
