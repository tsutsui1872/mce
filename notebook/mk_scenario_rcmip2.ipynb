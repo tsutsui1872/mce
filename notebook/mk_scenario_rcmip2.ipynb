{
 "cells": [
  {
   "cell_type": "markdown",
   "id": "b980c0e8-9142-42c9-9068-11672c49e6c7",
   "metadata": {},
   "source": [
    "# Import RCMIP2 scenarios"
   ]
  },
  {
   "cell_type": "code",
   "execution_count": null,
   "id": "3b4e8765-fc26-46f8-a060-a9cf471b78e2",
   "metadata": {},
   "outputs": [],
   "source": [
    "%cd .."
   ]
  },
  {
   "cell_type": "code",
   "execution_count": 2,
   "id": "cd29e813-57ad-4542-aeae-325b6d57f70d",
   "metadata": {},
   "outputs": [],
   "source": [
    "import re\n",
    "import numpy as np\n",
    "import pandas as pd\n",
    "from mce.core import ScenarioBase\n",
    "from mce.core.forcing import RfAll\n",
    "from mce.util.io import retrieve_url"
   ]
  },
  {
   "cell_type": "code",
   "execution_count": 3,
   "id": "ac4ca87a-279a-453b-8683-29985aa52fe9",
   "metadata": {},
   "outputs": [],
   "source": [
    "forcing = RfAll()"
   ]
  },
  {
   "cell_type": "markdown",
   "id": "467bac2c-6596-469d-bc5f-ed9decbb0038",
   "metadata": {},
   "source": [
    "## Read RCMIP2 data"
   ]
  },
  {
   "cell_type": "code",
   "execution_count": 4,
   "id": "1c23c4d3-9fd6-43d2-ac33-c5ab3b22d8f9",
   "metadata": {},
   "outputs": [
    {
     "name": "stderr",
     "output_type": "stream",
     "text": [
      "[2025-04-23 14:14:18 mce.util.io] INFO:Use local file datain/rcmip/rcmip-emissions-annual-means-v5-1-0.csv retrieved from https://rcmip-protocols-au.s3-ap-southeast-2.amazonaws.com/v5.1.0/rcmip-emissions-annual-means-v5-1-0.csv on 2025-02-08\n",
      "[2025-04-23 14:14:18 mce.util.io] INFO:Use local file datain/rcmip/rcmip-concentrations-annual-means-v5-1-0.csv retrieved from https://rcmip-protocols-au.s3-ap-southeast-2.amazonaws.com/v5.1.0/rcmip-concentrations-annual-means-v5-1-0.csv on 2025-02-09\n",
      "[2025-04-23 14:14:19 mce.util.io] INFO:Use local file datain/rcmip/rcmip-radiative-forcing-annual-means-v5-1-0.csv retrieved from https://rcmip-protocols-au.s3-ap-southeast-2.amazonaws.com/v5.1.0/rcmip-radiative-forcing-annual-means-v5-1-0.csv on 2025-04-09\n"
     ]
    }
   ],
   "source": [
    "fmt = 'rcmip-{}-annual-means-v5-1-0.csv'.format\n",
    "dfin = {}\n",
    "for cat, cat_full in {\n",
    "    'emis': 'emissions',\n",
    "    'conc': 'concentrations',\n",
    "    'rf': 'radiative-forcing',\n",
    "}.items():\n",
    "    fn = fmt(cat_full)\n",
    "    path = retrieve_url(\n",
    "        f'datain/rcmip/{fn}',\n",
    "        f'https://rcmip-protocols-au.s3-ap-southeast-2.amazonaws.com/v5.1.0/{fn}',\n",
    "    )\n",
    "    dfin[cat] = (\n",
    "        pd.read_csv(path, index_col=list(range(7)))\n",
    "        .rename(columns=int)\n",
    "        .groupby('Region')\n",
    "        .get_group('World') # Keep World only\n",
    "    )"
   ]
  },
  {
   "cell_type": "code",
   "execution_count": 5,
   "id": "688b862d-6278-472f-826c-3c6d3fc11c5d",
   "metadata": {},
   "outputs": [
    {
     "data": {
      "text/plain": [
       "FrozenList(['Model', 'Scenario', 'Region', 'Variable', 'Unit', 'Mip_Era', 'Activity_Id'])"
      ]
     },
     "execution_count": 5,
     "metadata": {},
     "output_type": "execute_result"
    }
   ],
   "source": [
    "id_vars = dfin['emis'].index.names\n",
    "id_vars"
   ]
  },
  {
   "cell_type": "markdown",
   "id": "c6324cec-ba3c-41eb-a62d-ee8a0ac7d38c",
   "metadata": {},
   "source": [
    "## Data processing"
   ]
  },
  {
   "cell_type": "markdown",
   "id": "28af9fb5-7689-4283-ba15-e7d23be8de34",
   "metadata": {},
   "source": [
    "### Emissions"
   ]
  },
  {
   "cell_type": "code",
   "execution_count": 6,
   "id": "89b5d5fc-af51-48b0-b500-2afd405b924d",
   "metadata": {},
   "outputs": [],
   "source": [
    "# Delete the header part in variable names, change '/yr' to 'yr-1' in units,\n",
    "# and isoloate MAGICC variables\n",
    "df = (\n",
    "    dfin['emis']\n",
    "    .rename(lambda x: x.replace('Emissions|', ''), level='Variable')\n",
    "    .rename(lambda x: x.replace('/yr', ' yr-1'), level='Unit')\n",
    ")\n",
    "dfg = df.groupby([\n",
    "    'main' if x.find('MAGICC') == -1 else 'magicc'\n",
    "    for x in df.index.get_level_values('Variable')\n",
    "])"
   ]
  },
  {
   "cell_type": "code",
   "execution_count": 7,
   "id": "493bfcea-368c-43ee-b600-b9f1873add82",
   "metadata": {},
   "outputs": [],
   "source": [
    "# Rename variables and units\n",
    "\n",
    "def f_ren(x):\n",
    "    x = re.sub(r'(F-|Montreal )Gases\\|', '', x)\n",
    "    x = re.sub(r'( ?)(CFC|HFC|PFC)\\|', r'\\1', x)\n",
    "    x = re.sub(r'( ?)(CFC|HFC|PFC|HCFC|Halon)(.)', r'\\1\\2-\\3', x)\n",
    "    x = re.sub('(C4F10|C5F12|C6F14)', r'n-\\1', x)\n",
    "    x = (\n",
    "        x\n",
    "        .replace('HFC-4310mee', 'HFC-43-10mee')\n",
    "        .replace('cC4F8', 'c-C4F8')\n",
    "        .replace('Sulfur', 'SO2')\n",
    "        .replace('VOC', 'NMVOC')\n",
    "    )\n",
    "    return x\n",
    "\n",
    "df = (\n",
    "    dfg.get_group('main')\n",
    "    .rename(f_ren, level='Variable')\n",
    "    .rename(f_ren, level='Unit')\n",
    ")"
   ]
  },
  {
   "cell_type": "code",
   "execution_count": 8,
   "id": "a16cee43-2216-4ab4-b848-80d7d4be8c46",
   "metadata": {},
   "outputs": [],
   "source": [
    "def f_var_unique(df):\n",
    "    \"\"\"Return unique variables\n",
    "    \"\"\"\n",
    "    return sorted(set(df.index.get_level_values('Variable')))"
   ]
  },
  {
   "cell_type": "code",
   "execution_count": 9,
   "id": "19a575b5-e341-4a31-b104-657f1bbca11a",
   "metadata": {},
   "outputs": [
    {
     "data": {
      "text/plain": [
       "['BC', 'CO', 'NH3', 'NMVOC', 'NOx', 'OC', 'SO2']"
      ]
     },
     "execution_count": 9,
     "metadata": {},
     "output_type": "execute_result"
    }
   ],
   "source": [
    "# Check non-GHGs variables\n",
    "[x for x in f_var_unique(df) if x not in forcing.ghgs]"
   ]
  },
  {
   "cell_type": "code",
   "execution_count": 10,
   "id": "367dc424-4aa6-4f22-bf79-e832d3571bbc",
   "metadata": {},
   "outputs": [],
   "source": [
    "# Categorize variables into GHG and SLCF\n",
    "dfout = {\n",
    "    f'emis_{cat}': df\n",
    "    for cat, df in df.groupby([\n",
    "        'ghg' if x in forcing.ghgs else 'slcf'\n",
    "        for x in df.index.get_level_values('Variable')\n",
    "    ])\n",
    "}"
   ]
  },
  {
   "cell_type": "code",
   "execution_count": 11,
   "id": "2611ae59-9de2-41a3-bdb4-ad417423b1b6",
   "metadata": {},
   "outputs": [
    {
     "data": {
      "text/plain": [
       "['BC', 'CH4', 'CO', 'CO2', 'N2O', 'NH3', 'NOx', 'OC', 'Sulfur', 'VOC']"
      ]
     },
     "execution_count": 11,
     "metadata": {},
     "output_type": "execute_result"
    }
   ],
   "source": [
    "# Check variables by MAGICC\n",
    "df = dfg.get_group('magicc')\n",
    "dfg = df.groupby([\n",
    "    x.split('|')[0] for x in df.index.get_level_values('Variable')\n",
    "])\n",
    "list(dfg.groups)"
   ]
  },
  {
   "cell_type": "code",
   "execution_count": 12,
   "id": "dfc29890-71e2-49d6-bdda-40222bdbeafc",
   "metadata": {},
   "outputs": [
    {
     "data": {
      "text/plain": [
       "['CO2|MAGICC AFOLU',\n",
       " 'CO2|MAGICC Fossil and Industrial',\n",
       " 'CO2|MAGICC Fossil and Industrial|Aircraft',\n",
       " 'CO2|MAGICC Fossil and Industrial|Energy Sector',\n",
       " 'CO2|MAGICC Fossil and Industrial|Industrial Sector',\n",
       " 'CO2|MAGICC Fossil and Industrial|International Shipping',\n",
       " 'CO2|MAGICC Fossil and Industrial|Residential Commercial Other',\n",
       " 'CO2|MAGICC Fossil and Industrial|Solvents Production and Application',\n",
       " 'CO2|MAGICC Fossil and Industrial|Transportation Sector',\n",
       " 'CO2|MAGICC Fossil and Industrial|Waste']"
      ]
     },
     "execution_count": 12,
     "metadata": {},
     "output_type": "execute_result"
    }
   ],
   "source": [
    "# Select CO2 and apply unit conversion\n",
    "df = dfg.get_group('CO2').mul(12e-3/44.).rename({'Mt CO2 yr-1': 'Gt C yr-1'}, level='Unit')\n",
    "dfg = df.groupby('Variable')\n",
    "list(dfg.groups)"
   ]
  },
  {
   "cell_type": "code",
   "execution_count": 13,
   "id": "b80d8731-7465-49fa-a64c-93ea603f01dd",
   "metadata": {},
   "outputs": [],
   "source": [
    "# Select aggregated AFOLU and FFI\n",
    "d_ren_magicc = {\n",
    "    'CO2|MAGICC AFOLU': 'AFOLU',\n",
    "    'CO2|MAGICC Fossil and Industrial': 'FFI',\n",
    "}\n",
    "dfout['emis_co2'] = pd.concat([\n",
    "    dfg.get_group(k).rename(lambda x: v, level='Variable')\n",
    "    for k, v in d_ren_magicc.items()\n",
    "]).sort_index()"
   ]
  },
  {
   "cell_type": "code",
   "execution_count": 14,
   "id": "da643a22-f239-40c8-8ad8-fd3282a7048d",
   "metadata": {},
   "outputs": [
    {
     "data": {
      "text/plain": [
       "True"
      ]
     },
     "execution_count": 14,
     "metadata": {},
     "output_type": "execute_result"
    }
   ],
   "source": [
    "# Check additivity\n",
    "df1 = (\n",
    "    dfout['emis_co2']\n",
    "    .groupby([x for x in id_vars if x != 'Variable'])\n",
    "    .sum()\n",
    ")\n",
    "df2 = (\n",
    "    dfout['emis_ghg']\n",
    "    .groupby('Variable').get_group('CO2')\n",
    "    .droplevel('Variable')\n",
    "    .mul(12e-3/44.)\n",
    "    .rename({'Mt CO2 yr-1': 'Gt C yr-1'}, level='Unit')\n",
    ")\n",
    "np.allclose(df1 - df2.fillna(0.), 0.)"
   ]
  },
  {
   "cell_type": "code",
   "execution_count": 15,
   "id": "096bed69-9320-4c47-8c77-65a111ebfe36",
   "metadata": {},
   "outputs": [],
   "source": [
    "# Drop CO2 from emis_ghg\n",
    "dfout['emis_ghg'] = dfout['emis_ghg'].drop('CO2', level='Variable')"
   ]
  },
  {
   "cell_type": "markdown",
   "id": "f112501f-24e4-4fbc-90ce-14221766a34c",
   "metadata": {},
   "source": [
    "### Concentrations"
   ]
  },
  {
   "cell_type": "code",
   "execution_count": 16,
   "id": "9debea09-0d99-47ca-8c90-1e61e376cdc0",
   "metadata": {},
   "outputs": [],
   "source": [
    "# Rename concentration variable as well\n",
    "df = (\n",
    "    dfin['conc']\n",
    "    .rename(lambda x: x.replace('Atmospheric Concentrations|', ''), level='Variable')\n",
    "    .rename(f_ren, level='Variable')\n",
    ")"
   ]
  },
  {
   "cell_type": "code",
   "execution_count": 17,
   "id": "c4c237eb-54a5-423e-8a28-031500f5334e",
   "metadata": {},
   "outputs": [
    {
     "data": {
      "text/plain": [
       "[]"
      ]
     },
     "execution_count": 17,
     "metadata": {},
     "output_type": "execute_result"
    }
   ],
   "source": [
    "# Ensure all species are supported in MCE\n",
    "[x for x in set(df.index.get_level_values('Variable')) if x not in forcing.ghgs]"
   ]
  },
  {
   "cell_type": "code",
   "execution_count": 18,
   "id": "4cf8b637-bfd0-4985-9ffe-9f0d96c099a5",
   "metadata": {},
   "outputs": [],
   "source": [
    "dfout['conc'] = df"
   ]
  },
  {
   "cell_type": "markdown",
   "id": "67c010ef-80de-4e5d-af89-ce4aaf478e11",
   "metadata": {},
   "source": [
    "### Forcing"
   ]
  },
  {
   "cell_type": "code",
   "execution_count": 19,
   "id": "62ca001d-32bd-45db-a45b-aaa8cc8e88ec",
   "metadata": {},
   "outputs": [],
   "source": [
    "# Rename forcing units\n",
    "df = dfin['rf'].rename({'W/m^2': 'W m-2'}, level='Unit')"
   ]
  },
  {
   "cell_type": "code",
   "execution_count": 20,
   "id": "c848a489-c614-445d-99cf-47cc225b965e",
   "metadata": {},
   "outputs": [],
   "source": [
    "# Categorize forcing variables into radiative forcing and effective radiative forcing\n",
    "dfg = df.groupby([\n",
    "    x.split('|')[0] for x in df.index.get_level_values('Variable')\n",
    "])"
   ]
  },
  {
   "cell_type": "code",
   "execution_count": 21,
   "id": "f5c67df1-4c94-4d67-aaa8-b1b39ccd164d",
   "metadata": {},
   "outputs": [
    {
     "data": {
      "text/plain": [
       "['Effective Radiative Forcing', 'Radiative Forcing']"
      ]
     },
     "execution_count": 21,
     "metadata": {},
     "output_type": "execute_result"
    }
   ],
   "source": [
    "list(dfg.groups)"
   ]
  },
  {
   "cell_type": "code",
   "execution_count": 22,
   "id": "1698431b-4745-45de-9b19-7ca9311e10d5",
   "metadata": {},
   "outputs": [],
   "source": [
    "d_ren = {\n",
    "    'Radiative Forcing': 'rf',\n",
    "    'Effective Radiative Forcing': 'erf',\n",
    "}\n",
    "\n",
    "# Delete redundant part and apply several conversions\n",
    "# Need check for \"Other\" category that appears to include BC_on_snow, H2O_stratospheric, halogens\n",
    "def f_ren_forcing(x):\n",
    "    return (\n",
    "        x\n",
    "        .replace('Anthropogenic|', '')\n",
    "        .replace('Anthropogenic', 'anthro')\n",
    "        .replace('Natural|', '')\n",
    "        .replace('Natural', 'natural')\n",
    "        .replace('Aerosols|', '')\n",
    "        .replace('Aerosols-cloud Interactions', 'aerosols-cloud_interactions')\n",
    "        .replace('Aerosols-radiation Interactions', 'aerosols-radiation_interactions')\n",
    "        .replace('Tropospheric Ozone', 'O3_trop')\n",
    "        .replace('Stratospheric Ozone', 'O3_strat')\n",
    "        .replace('BC on Snow', 'BC_on_snow')\n",
    "        .replace('Albedo Change', 'land_use')\n",
    "        .replace('Other|Contrails and Contrail-induced Cirrus', 'contrails')\n",
    "        .replace('CH4 Oxidation Stratospheric H2O', 'H2O_stratospheric')\n",
    "        .replace('Solar', 'solar')\n",
    "        .replace('Volcanic', 'volcanic')\n",
    "        .replace('Aerosol', 'aerosol')\n",
    "        .replace('Other WMGHGs', 'halogen')\n",
    "        .replace('Other|', '')\n",
    "        .replace('Other', 'other')\n",
    "        # nonco2wmghg,minor\n",
    "    )"
   ]
  },
  {
   "cell_type": "code",
   "execution_count": 23,
   "id": "fe2e0a16-3c49-48ac-8c83-8303b22e2566",
   "metadata": {},
   "outputs": [],
   "source": [
    "dfset = {\n",
    "    v:\n",
    "    dfg\n",
    "    .get_group(k)\n",
    "    .rename({k: 'total'}, level='Variable')\n",
    "    .rename(lambda x: x.replace(f'{k}|', ''), level='Variable')\n",
    "    .rename(f_ren_forcing)\n",
    "    for k, v in d_ren.items()\n",
    "}"
   ]
  },
  {
   "cell_type": "code",
   "execution_count": 24,
   "id": "e38db600-be66-4e5c-9e90-96c13a09794d",
   "metadata": {},
   "outputs": [],
   "source": [
    "dfout['rf'] = dfset['rf'] .rename(f_ren, level='Variable')\n",
    "dfout['erf'] = dfset['erf']"
   ]
  },
  {
   "cell_type": "markdown",
   "id": "b5176f5f-ca24-469e-adec-c28bf30bc379",
   "metadata": {},
   "source": [
    "## Save data for MCE use"
   ]
  },
  {
   "cell_type": "code",
   "execution_count": 25,
   "id": "ff1ba2f5-36a9-438d-b5f4-c606ae9caf4a",
   "metadata": {},
   "outputs": [
    {
     "data": {
      "text/plain": [
       "['emis_ghg', 'emis_slcf', 'emis_co2', 'conc', 'rf', 'erf']"
      ]
     },
     "execution_count": 25,
     "metadata": {},
     "output_type": "execute_result"
    }
   ],
   "source": [
    "list(dfout)"
   ]
  },
  {
   "cell_type": "code",
   "execution_count": 26,
   "id": "28ed0bd1-9e73-486b-b0c3-2db4d0315204",
   "metadata": {},
   "outputs": [],
   "source": [
    "def f_var_units(df):\n",
    "    \"\"\"Return unique pairs of variable and units\n",
    "    \"\"\"\n",
    "    return sorted(set(zip(\n",
    "        df.index.get_level_values('Variable'),\n",
    "        df.index.get_level_values('Unit'),\n",
    "    )))"
   ]
  },
  {
   "cell_type": "code",
   "execution_count": 27,
   "id": "d3331215-6901-4e22-8650-548636a820e3",
   "metadata": {},
   "outputs": [
    {
     "data": {
      "text/plain": [
       "[('AFOLU', 'Gt C yr-1'), ('FFI', 'Gt C yr-1')]"
      ]
     },
     "execution_count": 27,
     "metadata": {},
     "output_type": "execute_result"
    }
   ],
   "source": [
    "f_var_units(dfout['emis_co2'])"
   ]
  },
  {
   "cell_type": "code",
   "execution_count": 28,
   "id": "791c50e9-2824-4e01-a2a4-44df8c78763b",
   "metadata": {},
   "outputs": [
    {
     "data": {
      "text/plain": [
       "[('C2F6', 'kt C2F6 yr-1'),\n",
       " ('C3F8', 'kt C3F8 yr-1'),\n",
       " ('C7F16', 'kt C7F16 yr-1'),\n",
       " ('C8F18', 'kt C8F18 yr-1'),\n",
       " ('CCl4', 'kt CCl4 yr-1'),\n",
       " ('CF4', 'kt CF4 yr-1'),\n",
       " ('CFC-11', 'kt CFC-11 yr-1'),\n",
       " ('CFC-113', 'kt CFC-113 yr-1'),\n",
       " ('CFC-114', 'kt CFC-114 yr-1'),\n",
       " ('CFC-115', 'kt CFC-115 yr-1'),\n",
       " ('CFC-12', 'kt CFC-12 yr-1'),\n",
       " ('CH2Cl2', 'kt CH2Cl2 yr-1'),\n",
       " ('CH3Br', 'kt CH3Br yr-1'),\n",
       " ('CH3CCl3', 'kt CH3CCl3 yr-1'),\n",
       " ('CH3Cl', 'kt CH3Cl yr-1'),\n",
       " ('CH4', 'Mt CH4 yr-1'),\n",
       " ('CHCl3', 'kt CHCl3 yr-1'),\n",
       " ('HCFC-141b', 'kt HCFC-141b yr-1'),\n",
       " ('HCFC-142b', 'kt HCFC-142b yr-1'),\n",
       " ('HCFC-22', 'kt HCFC-22 yr-1'),\n",
       " ('HFC-125', 'kt HFC-125 yr-1'),\n",
       " ('HFC-134a', 'kt HFC-134a yr-1'),\n",
       " ('HFC-143a', 'kt HFC-143a yr-1'),\n",
       " ('HFC-152a', 'kt HFC-152a yr-1'),\n",
       " ('HFC-227ea', 'kt HFC-227ea yr-1'),\n",
       " ('HFC-23', 'kt HFC-23 yr-1'),\n",
       " ('HFC-236fa', 'kt HFC-236fa yr-1'),\n",
       " ('HFC-245fa', 'kt HFC-245fa yr-1'),\n",
       " ('HFC-32', 'kt HFC-32 yr-1'),\n",
       " ('HFC-365mfc', 'kt HFC-365mfc yr-1'),\n",
       " ('HFC-43-10mee', 'kt HFC-43-10mee yr-1'),\n",
       " ('Halon-1202', 'kt Halon-1202 yr-1'),\n",
       " ('Halon-1211', 'kt Halon-1211 yr-1'),\n",
       " ('Halon-1301', 'kt Halon-1301 yr-1'),\n",
       " ('Halon-2402', 'kt Halon-2402 yr-1'),\n",
       " ('N2O', 'kt N2O yr-1'),\n",
       " ('NF3', 'kt NF3 yr-1'),\n",
       " ('SF6', 'kt SF6 yr-1'),\n",
       " ('SO2F2', 'kt SO2F2 yr-1'),\n",
       " ('c-C4F8', 'kt c-C4F8 yr-1'),\n",
       " ('n-C4F10', 'kt n-C4F10 yr-1'),\n",
       " ('n-C5F12', 'kt n-C5F12 yr-1'),\n",
       " ('n-C6F14', 'kt n-C6F14 yr-1')]"
      ]
     },
     "execution_count": 28,
     "metadata": {},
     "output_type": "execute_result"
    }
   ],
   "source": [
    "f_var_units(dfout['emis_ghg'])"
   ]
  },
  {
   "cell_type": "code",
   "execution_count": 29,
   "id": "1d03309e-4f72-4359-8922-70a05fe119f9",
   "metadata": {},
   "outputs": [
    {
     "data": {
      "text/plain": [
       "43"
      ]
     },
     "execution_count": 29,
     "metadata": {},
     "output_type": "execute_result"
    }
   ],
   "source": [
    "len(f_var_units(dfout['emis_ghg']))"
   ]
  },
  {
   "cell_type": "code",
   "execution_count": 30,
   "id": "57915e07-878a-4384-aafd-66cb9551e696",
   "metadata": {},
   "outputs": [
    {
     "data": {
      "text/plain": [
       "[('BC', 'Mt BC yr-1'),\n",
       " ('CO', 'Mt CO yr-1'),\n",
       " ('NH3', 'Mt NH3 yr-1'),\n",
       " ('NMVOC', 'Mt NMVOC yr-1'),\n",
       " ('NOx', 'Mt NOx yr-1'),\n",
       " ('OC', 'Mt OC yr-1'),\n",
       " ('SO2', 'Mt SO2 yr-1')]"
      ]
     },
     "execution_count": 30,
     "metadata": {},
     "output_type": "execute_result"
    }
   ],
   "source": [
    "f_var_units(dfout['emis_slcf'])"
   ]
  },
  {
   "cell_type": "code",
   "execution_count": 31,
   "id": "67dff4e1-8278-454a-919d-9ee0f1dab6c4",
   "metadata": {},
   "outputs": [
    {
     "data": {
      "text/plain": [
       "[('C2F6', 'ppt'),\n",
       " ('C3F8', 'ppt'),\n",
       " ('C7F16', 'ppt'),\n",
       " ('C8F18', 'ppt'),\n",
       " ('CCl4', 'ppt'),\n",
       " ('CF4', 'ppt'),\n",
       " ('CFC-11', 'ppt'),\n",
       " ('CFC-113', 'ppt'),\n",
       " ('CFC-114', 'ppt'),\n",
       " ('CFC-115', 'ppt'),\n",
       " ('CFC-12', 'ppt'),\n",
       " ('CH2Cl2', 'ppt'),\n",
       " ('CH3Br', 'ppt'),\n",
       " ('CH3CCl3', 'ppt'),\n",
       " ('CH3Cl', 'ppt'),\n",
       " ('CH4', 'ppb'),\n",
       " ('CHCl3', 'ppt'),\n",
       " ('CO2', 'ppm'),\n",
       " ('HCFC-141b', 'ppt'),\n",
       " ('HCFC-142b', 'ppt'),\n",
       " ('HCFC-22', 'ppt'),\n",
       " ('HFC-125', 'ppt'),\n",
       " ('HFC-134a', 'ppt'),\n",
       " ('HFC-143a', 'ppt'),\n",
       " ('HFC-152a', 'ppt'),\n",
       " ('HFC-227ea', 'ppt'),\n",
       " ('HFC-23', 'ppt'),\n",
       " ('HFC-236fa', 'ppt'),\n",
       " ('HFC-245fa', 'ppt'),\n",
       " ('HFC-32', 'ppt'),\n",
       " ('HFC-365mfc', 'ppt'),\n",
       " ('HFC-43-10mee', 'ppt'),\n",
       " ('Halon-1202', 'ppt'),\n",
       " ('Halon-1211', 'ppt'),\n",
       " ('Halon-1301', 'ppt'),\n",
       " ('Halon-2402', 'ppt'),\n",
       " ('N2O', 'ppb'),\n",
       " ('NF3', 'ppt'),\n",
       " ('SF6', 'ppt'),\n",
       " ('SO2F2', 'ppt'),\n",
       " ('c-C4F8', 'ppt'),\n",
       " ('n-C4F10', 'ppt'),\n",
       " ('n-C5F12', 'ppt'),\n",
       " ('n-C6F14', 'ppt')]"
      ]
     },
     "execution_count": 31,
     "metadata": {},
     "output_type": "execute_result"
    }
   ],
   "source": [
    "f_var_units(dfout['conc'])"
   ]
  },
  {
   "cell_type": "code",
   "execution_count": 32,
   "id": "df995ba0-dada-48eb-bbbf-81200ff00a35",
   "metadata": {},
   "outputs": [
    {
     "data": {
      "text/plain": [
       "44"
      ]
     },
     "execution_count": 32,
     "metadata": {},
     "output_type": "execute_result"
    }
   ],
   "source": [
    "len(f_var_units(dfout['conc']))"
   ]
  },
  {
   "cell_type": "code",
   "execution_count": 33,
   "id": "ee668cd3-8520-4dd2-93f9-65f147752d12",
   "metadata": {},
   "outputs": [
    {
     "data": {
      "text/plain": [
       "[('BC_on_snow', 'W m-2'),\n",
       " ('C2F6', 'W m-2'),\n",
       " ('CCl4', 'W m-2'),\n",
       " ('CF4', 'W m-2'),\n",
       " ('CFC', 'W m-2'),\n",
       " ('CFC-11', 'W m-2'),\n",
       " ('CFC-113', 'W m-2'),\n",
       " ('CFC-114', 'W m-2'),\n",
       " ('CFC-115', 'W m-2'),\n",
       " ('CFC-12', 'W m-2'),\n",
       " ('CH3Br', 'W m-2'),\n",
       " ('CH3CCl3', 'W m-2'),\n",
       " ('CH3Cl', 'W m-2'),\n",
       " ('CH4', 'W m-2'),\n",
       " ('CO2', 'W m-2'),\n",
       " ('F-Gases', 'W m-2'),\n",
       " ('H2O_stratospheric', 'W m-2'),\n",
       " ('HCFC-141b', 'W m-2'),\n",
       " ('HCFC-142b', 'W m-2'),\n",
       " ('HCFC-22', 'W m-2'),\n",
       " ('HFC', 'W m-2'),\n",
       " ('HFC-125', 'W m-2'),\n",
       " ('HFC-134a', 'W m-2'),\n",
       " ('HFC-143a', 'W m-2'),\n",
       " ('HFC-227ea', 'W m-2'),\n",
       " ('HFC-23', 'W m-2'),\n",
       " ('HFC-245fa', 'W m-2'),\n",
       " ('HFC-32', 'W m-2'),\n",
       " ('HFC-43-10mee', 'W m-2'),\n",
       " ('Halon-1202', 'W m-2'),\n",
       " ('Halon-1211', 'W m-2'),\n",
       " ('Halon-1301', 'W m-2'),\n",
       " ('Halon-2402', 'W m-2'),\n",
       " ('Montreal Gases', 'W m-2'),\n",
       " ('N2O', 'W m-2'),\n",
       " ('O3_strat', 'W m-2'),\n",
       " ('O3_trop', 'W m-2'),\n",
       " ('PFC', 'W m-2'),\n",
       " ('SF6', 'W m-2'),\n",
       " ('aerosols', 'W m-2'),\n",
       " ('aerosols-cloud_interactions', 'W m-2'),\n",
       " ('aerosols-radiation_interactions', 'W m-2'),\n",
       " ('aerosols-radiation_interactions|Biomass Burning', 'W m-2'),\n",
       " ('aerosols-radiation_interactions|Fossil and Industrial', 'W m-2'),\n",
       " ('aerosols-radiation_interactions|Fossil and Industrial|BC and OC', 'W m-2'),\n",
       " ('aerosols-radiation_interactions|Fossil and Industrial|BC and OC|BC',\n",
       "  'W m-2'),\n",
       " ('aerosols-radiation_interactions|Fossil and Industrial|BC and OC|OC',\n",
       "  'W m-2'),\n",
       " ('aerosols-radiation_interactions|Fossil and Industrial|Nitrate', 'W m-2'),\n",
       " ('aerosols-radiation_interactions|Fossil and Industrial|Sulfate', 'W m-2'),\n",
       " ('aerosols-radiation_interactions|Mineral Dust', 'W m-2'),\n",
       " ('anthro', 'W m-2'),\n",
       " ('land_use', 'W m-2'),\n",
       " ('n-C6F14', 'W m-2'),\n",
       " ('natural', 'W m-2'),\n",
       " ('other', 'W m-2'),\n",
       " ('solar', 'W m-2'),\n",
       " ('total', 'W m-2'),\n",
       " ('volcanic', 'W m-2')]"
      ]
     },
     "execution_count": 33,
     "metadata": {},
     "output_type": "execute_result"
    }
   ],
   "source": [
    "f_var_units(dfout['rf'])"
   ]
  },
  {
   "cell_type": "code",
   "execution_count": 34,
   "id": "b29a76e7-7a5f-41b3-b4fc-fd838632a0c3",
   "metadata": {},
   "outputs": [
    {
     "data": {
      "text/plain": [
       "[('BC_on_snow', 'W m-2'),\n",
       " ('CH4', 'W m-2'),\n",
       " ('CO2', 'W m-2'),\n",
       " ('H2O_stratospheric', 'W m-2'),\n",
       " ('N2O', 'W m-2'),\n",
       " ('O3_strat', 'W m-2'),\n",
       " ('O3_trop', 'W m-2'),\n",
       " ('aerosols', 'W m-2'),\n",
       " ('aerosols-cloud_interactions', 'W m-2'),\n",
       " ('aerosols-radiation_interactions', 'W m-2'),\n",
       " ('anthro', 'W m-2'),\n",
       " ('contrails', 'W m-2'),\n",
       " ('halogen', 'W m-2'),\n",
       " ('land_use', 'W m-2'),\n",
       " ('natural', 'W m-2'),\n",
       " ('other', 'W m-2'),\n",
       " ('solar', 'W m-2'),\n",
       " ('total', 'W m-2'),\n",
       " ('volcanic', 'W m-2')]"
      ]
     },
     "execution_count": 34,
     "metadata": {},
     "output_type": "execute_result"
    }
   ],
   "source": [
    "f_var_units(dfout['erf'])"
   ]
  },
  {
   "cell_type": "code",
   "execution_count": 35,
   "id": "c0ed098e-d3fb-436d-af36-f4af71de782a",
   "metadata": {},
   "outputs": [
    {
     "name": "stderr",
     "output_type": "stream",
     "text": [
      "[2025-04-23 14:16:26 mce.core] INFO:datain/ds_rcmip2.h5 already exists\n",
      "[2025-04-23 14:16:26 mce.core] INFO:file datain/ds_rcmip2.h5 opened with mode=w\n"
     ]
    }
   ],
   "source": [
    "outpath = 'datain/ds_rcmip2.h5'\n",
    "ds = ScenarioBase(outpath=outpath, mode='w')"
   ]
  },
  {
   "cell_type": "code",
   "execution_count": 36,
   "id": "853105f2-8f02-403c-b63b-c671cb8788e6",
   "metadata": {},
   "outputs": [],
   "source": [
    "id_vars_sub = [\n",
    "    x for x in  id_vars if x not in ['Variable', 'Unit']\n",
    "]"
   ]
  },
  {
   "cell_type": "code",
   "execution_count": 46,
   "id": "065c541a-63f6-43f0-b60c-51dc9f613d7f",
   "metadata": {},
   "outputs": [],
   "source": [
    "for cat, df in dfout.items():\n",
    "    for k, df1 in df.groupby(id_vars_sub):\n",
    "        attrs = dict(zip(id_vars_sub, k))\n",
    "        scen = attrs.pop('Scenario')\n",
    "\n",
    "        # exception raised if a certain scenario has different sets of attributes\n",
    "        g = ds.file.create_group(f'{scen}/input/{cat}')\n",
    "        for k1, v1 in attrs.items():\n",
    "            g.attrs[k1] = v1\n",
    "\n",
    "        for (vname, units), v1 in (\n",
    "            df1\n",
    "            .droplevel(id_vars_sub)\n",
    "            .T\n",
    "            .dropna(how='all')\n",
    "            .rename_axis('time')\n",
    "            .reset_index(col_fill='yr')\n",
    "            .items()\n",
    "        ):\n",
    "            d = g.create_dataset(vname, data=v1.dropna().values)\n",
    "            d.attrs['units'] = units"
   ]
  },
  {
   "cell_type": "code",
   "execution_count": 47,
   "id": "99ba4046-6b16-4123-8303-001c486be284",
   "metadata": {},
   "outputs": [
    {
     "name": "stderr",
     "output_type": "stream",
     "text": [
      "[2025-04-23 14:24:26 mce.core] INFO:file datain/ds_rcmip2.h5 closed\n"
     ]
    }
   ],
   "source": [
    "ds.close()"
   ]
  }
 ],
 "metadata": {
  "kernelspec": {
   "display_name": "Python 3 (ipykernel)",
   "language": "python",
   "name": "python3"
  },
  "language_info": {
   "codemirror_mode": {
    "name": "ipython",
    "version": 3
   },
   "file_extension": ".py",
   "mimetype": "text/x-python",
   "name": "python",
   "nbconvert_exporter": "python",
   "pygments_lexer": "ipython3",
   "version": "3.12.8"
  }
 },
 "nbformat": 4,
 "nbformat_minor": 5
}
