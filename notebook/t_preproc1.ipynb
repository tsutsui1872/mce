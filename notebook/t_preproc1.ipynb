{
 "cells": [
  {
   "cell_type": "markdown",
   "metadata": {},
   "source": [
    "# Example of preproc1\n",
    "\n",
    "Fetch netcdf files for a specified dataset from a local CMIP archive and process global averaging and yealy aggregation for `rtnt` and `tas`, where `rtnt` is derived by `rsdt` &minus;`rsut` &minus; `rlut`."
   ]
  },
  {
   "cell_type": "code",
   "execution_count": 1,
   "metadata": {},
   "outputs": [],
   "source": [
    "import yaml\n",
    "import iris\n",
    "from mce.script.preproc1 import CmipData\n",
    "# preproc1.py can be used as a stand-alone script"
   ]
  },
  {
   "cell_type": "code",
   "execution_count": 2,
   "metadata": {},
   "outputs": [],
   "source": [
    "with open('../mce/data/dataset.yml', 'r') as infile:\n",
    "    cfg = yaml.safe_load(infile)"
   ]
  },
  {
   "cell_type": "code",
   "execution_count": 3,
   "metadata": {},
   "outputs": [
    {
     "data": {
      "text/plain": [
       "'ACCESS1-0, ACCESS1-3, bcc-csm1-1, BNU-ESM, CCSM4, CNRM-CM5, CSIRO-Mk3-6-0, CanESM2, FGOALS-s2, GFDL-CM3, GFDL-ESM2G, GFDL-ESM2M, GISS-E2-H, GISS-E2-R, HadGEM2-ES, inmcm4, IPSL-CM5A-LR, IPSL-CM5B-LR, MIROC-ESM, MIROC5, MPI-ESM-LR, MPI-ESM-MR, MPI-ESM-P, MRI-CGCM3, NorESM1-M'"
      ]
     },
     "execution_count": 3,
     "metadata": {},
     "output_type": "execute_result"
    }
   ],
   "source": [
    "# CMIP5 models\n",
    "', '.join(list(cfg['CMIP5']['source']))"
   ]
  },
  {
   "cell_type": "code",
   "execution_count": 4,
   "metadata": {},
   "outputs": [
    {
     "data": {
      "text/plain": [
       "'BCC-CSM2-MR, BCC-ESM1, CAMS-CSM1-0, CESM2, CESM2-WACCM, CNRM-CM6-1, CNRM-ESM2-1, CanESM5, E3SM-1-0, EC-Earth3-Veg, GFDL-CM4, GISS-E2-1-G, GISS-E2-1-H, HadGEM3-GC31-LL, IPSL-CM6A-LR, MIROC-ES2L, MIROC6, MRI-ESM2-0, NESM3, NorESM2-LM, SAM0-UNICON, UKESM1-0-LL'"
      ]
     },
     "execution_count": 4,
     "metadata": {},
     "output_type": "execute_result"
    }
   ],
   "source": [
    "# CMIP6 models\n",
    "', '.join(list(cfg['CMIP6']['source']))"
   ]
  },
  {
   "cell_type": "code",
   "execution_count": 5,
   "metadata": {},
   "outputs": [],
   "source": [
    "project, dataset = 'CMIP6', 'IPSL-CM6A-LR'\n",
    "cmip = CmipData(\n",
    "    cfg['rootpath'][project],\n",
    "    cfg[project]['input_dir'],\n",
    "    cfg[project]['input_file'])\n",
    "\n",
    "cfg1 = cfg[project]['source'][dataset]"
   ]
  },
  {
   "cell_type": "code",
   "execution_count": 6,
   "metadata": {},
   "outputs": [
    {
     "data": {
      "text/plain": [
       "{'piControl': {'ensemble': 'r1i1p1f1'},\n",
       " 'abrupt-4xCO2': {'ensemble': 'r1i1p1f1', 'branch_year': 1870},\n",
       " '1pctCO2': {'ensemble': 'r1i1p1f1', 'branch_year': 1870}}"
      ]
     },
     "execution_count": 6,
     "metadata": {},
     "output_type": "execute_result"
    }
   ],
   "source": [
    "cfg1"
   ]
  },
  {
   "cell_type": "code",
   "execution_count": 7,
   "metadata": {},
   "outputs": [
    {
     "name": "stderr",
     "output_type": "stream",
     "text": [
      "[2020-04-06 11:38:09 mce] INFO:Loading /home/tsutsui/data/CMIP6/IPSL-CM6A-LR/piControl/rsdt_Amon_IPSL-CM6A-LR_piControl_r1i1p1f1_gr_185001-234912.nc\n",
      "/home/tsutsui/miniconda2/envs/esm/lib/python3.7/site-packages/iris/fileformats/cf.py:798: UserWarning: Missing CF-netCDF measure variable 'areacella', referenced by netCDF variable 'rsdt'\n",
      "  warnings.warn(message % (variable_name, nc_var_name))\n",
      "[2020-04-06 11:38:09 mce] INFO:Loading /home/tsutsui/data/CMIP6/IPSL-CM6A-LR/piControl/rsdt_Amon_IPSL-CM6A-LR_piControl_r1i1p1f1_gr_235001-284912.nc\n",
      "/home/tsutsui/miniconda2/envs/esm/lib/python3.7/site-packages/iris/fileformats/cf.py:798: UserWarning: Missing CF-netCDF measure variable 'areacella', referenced by netCDF variable 'rsdt'\n",
      "  warnings.warn(message % (variable_name, nc_var_name))\n",
      "[2020-04-06 11:38:09 mce] INFO:Loading /home/tsutsui/data/CMIP6/IPSL-CM6A-LR/piControl/rsdt_Amon_IPSL-CM6A-LR_piControl_r1i1p1f1_gr_285001-304912.nc\n",
      "/home/tsutsui/miniconda2/envs/esm/lib/python3.7/site-packages/iris/fileformats/cf.py:798: UserWarning: Missing CF-netCDF measure variable 'areacella', referenced by netCDF variable 'rsdt'\n",
      "  warnings.warn(message % (variable_name, nc_var_name))\n",
      "[2020-04-06 11:38:11 mce] INFO:Loading /home/tsutsui/data/CMIP6/IPSL-CM6A-LR/piControl/rsut_Amon_IPSL-CM6A-LR_piControl_r1i1p1f1_gr_185001-234912.nc\n",
      "/home/tsutsui/miniconda2/envs/esm/lib/python3.7/site-packages/iris/fileformats/cf.py:798: UserWarning: Missing CF-netCDF measure variable 'areacella', referenced by netCDF variable 'rsut'\n",
      "  warnings.warn(message % (variable_name, nc_var_name))\n",
      "[2020-04-06 11:38:11 mce] INFO:Loading /home/tsutsui/data/CMIP6/IPSL-CM6A-LR/piControl/rsut_Amon_IPSL-CM6A-LR_piControl_r1i1p1f1_gr_235001-284912.nc\n",
      "/home/tsutsui/miniconda2/envs/esm/lib/python3.7/site-packages/iris/fileformats/cf.py:798: UserWarning: Missing CF-netCDF measure variable 'areacella', referenced by netCDF variable 'rsut'\n",
      "  warnings.warn(message % (variable_name, nc_var_name))\n",
      "[2020-04-06 11:38:12 mce] INFO:Loading /home/tsutsui/data/CMIP6/IPSL-CM6A-LR/piControl/rsut_Amon_IPSL-CM6A-LR_piControl_r1i1p1f1_gr_285001-304912.nc\n",
      "/home/tsutsui/miniconda2/envs/esm/lib/python3.7/site-packages/iris/fileformats/cf.py:798: UserWarning: Missing CF-netCDF measure variable 'areacella', referenced by netCDF variable 'rsut'\n",
      "  warnings.warn(message % (variable_name, nc_var_name))\n",
      "[2020-04-06 11:38:13 mce] INFO:Loading /home/tsutsui/data/CMIP6/IPSL-CM6A-LR/piControl/rlut_Amon_IPSL-CM6A-LR_piControl_r1i1p1f1_gr_185001-234912.nc\n",
      "/home/tsutsui/miniconda2/envs/esm/lib/python3.7/site-packages/iris/fileformats/cf.py:798: UserWarning: Missing CF-netCDF measure variable 'areacella', referenced by netCDF variable 'rlut'\n",
      "  warnings.warn(message % (variable_name, nc_var_name))\n",
      "[2020-04-06 11:38:13 mce] INFO:Loading /home/tsutsui/data/CMIP6/IPSL-CM6A-LR/piControl/rlut_Amon_IPSL-CM6A-LR_piControl_r1i1p1f1_gr_235001-284912.nc\n",
      "/home/tsutsui/miniconda2/envs/esm/lib/python3.7/site-packages/iris/fileformats/cf.py:798: UserWarning: Missing CF-netCDF measure variable 'areacella', referenced by netCDF variable 'rlut'\n",
      "  warnings.warn(message % (variable_name, nc_var_name))\n",
      "[2020-04-06 11:38:14 mce] INFO:Loading /home/tsutsui/data/CMIP6/IPSL-CM6A-LR/piControl/rlut_Amon_IPSL-CM6A-LR_piControl_r1i1p1f1_gr_285001-304912.nc\n",
      "/home/tsutsui/miniconda2/envs/esm/lib/python3.7/site-packages/iris/fileformats/cf.py:798: UserWarning: Missing CF-netCDF measure variable 'areacella', referenced by netCDF variable 'rlut'\n",
      "  warnings.warn(message % (variable_name, nc_var_name))\n",
      "/home/tsutsui/miniconda2/envs/esm/lib/python3.7/site-packages/iris/analysis/cartography.py:394: UserWarning: Using DEFAULT_SPHERICAL_EARTH_RADIUS.\n",
      "  warnings.warn(\"Using DEFAULT_SPHERICAL_EARTH_RADIUS.\")\n",
      "[2020-04-06 11:40:18 mce] INFO:Loading /home/tsutsui/data/CMIP6/IPSL-CM6A-LR/piControl/tas_Amon_IPSL-CM6A-LR_piControl_r1i1p1f1_gr_185001-234912.nc\n",
      "/home/tsutsui/miniconda2/envs/esm/lib/python3.7/site-packages/iris/fileformats/cf.py:798: UserWarning: Missing CF-netCDF measure variable 'areacella', referenced by netCDF variable 'tas'\n",
      "  warnings.warn(message % (variable_name, nc_var_name))\n",
      "[2020-04-06 11:40:19 mce] INFO:Loading /home/tsutsui/data/CMIP6/IPSL-CM6A-LR/piControl/tas_Amon_IPSL-CM6A-LR_piControl_r1i1p1f1_gr_235001-284912.nc\n",
      "/home/tsutsui/miniconda2/envs/esm/lib/python3.7/site-packages/iris/fileformats/cf.py:798: UserWarning: Missing CF-netCDF measure variable 'areacella', referenced by netCDF variable 'tas'\n",
      "  warnings.warn(message % (variable_name, nc_var_name))\n",
      "[2020-04-06 11:40:19 mce] INFO:Loading /home/tsutsui/data/CMIP6/IPSL-CM6A-LR/piControl/tas_Amon_IPSL-CM6A-LR_piControl_r1i1p1f1_gr_285001-304912.nc\n",
      "/home/tsutsui/miniconda2/envs/esm/lib/python3.7/site-packages/iris/fileformats/cf.py:798: UserWarning: Missing CF-netCDF measure variable 'areacella', referenced by netCDF variable 'tas'\n",
      "  warnings.warn(message % (variable_name, nc_var_name))\n",
      "/home/tsutsui/miniconda2/envs/esm/lib/python3.7/site-packages/iris/analysis/cartography.py:394: UserWarning: Using DEFAULT_SPHERICAL_EARTH_RADIUS.\n",
      "  warnings.warn(\"Using DEFAULT_SPHERICAL_EARTH_RADIUS.\")\n",
      "/home/tsutsui/miniconda2/envs/esm/lib/python3.7/site-packages/iris/analysis/cartography.py:394: UserWarning: Using DEFAULT_SPHERICAL_EARTH_RADIUS.\n",
      "  warnings.warn(\"Using DEFAULT_SPHERICAL_EARTH_RADIUS.\")\n",
      "/home/tsutsui/miniconda2/envs/esm/lib/python3.7/site-packages/iris/analysis/cartography.py:394: UserWarning: Using DEFAULT_SPHERICAL_EARTH_RADIUS.\n",
      "  warnings.warn(\"Using DEFAULT_SPHERICAL_EARTH_RADIUS.\")\n",
      "[2020-04-06 11:41:12 mce] INFO:Loading /home/tsutsui/data/CMIP6/IPSL-CM6A-LR/abrupt-4xCO2/rsdt_Amon_IPSL-CM6A-LR_abrupt-4xCO2_r1i1p1f1_gr_185001-214912.nc\n",
      "/home/tsutsui/miniconda2/envs/esm/lib/python3.7/site-packages/iris/fileformats/cf.py:798: UserWarning: Missing CF-netCDF measure variable 'areacella', referenced by netCDF variable 'rsdt'\n",
      "  warnings.warn(message % (variable_name, nc_var_name))\n",
      "[2020-04-06 11:41:12 mce] INFO:Loading /home/tsutsui/data/CMIP6/IPSL-CM6A-LR/abrupt-4xCO2/rsdt_Amon_IPSL-CM6A-LR_abrupt-4xCO2_r1i1p1f1_gr_215001-244912.nc\n",
      "/home/tsutsui/miniconda2/envs/esm/lib/python3.7/site-packages/iris/fileformats/cf.py:798: UserWarning: Missing CF-netCDF measure variable 'areacella', referenced by netCDF variable 'rsdt'\n",
      "  warnings.warn(message % (variable_name, nc_var_name))\n",
      "[2020-04-06 11:41:12 mce] INFO:Loading /home/tsutsui/data/CMIP6/IPSL-CM6A-LR/abrupt-4xCO2/rsdt_Amon_IPSL-CM6A-LR_abrupt-4xCO2_r1i1p1f1_gr_245001-274912.nc\n",
      "/home/tsutsui/miniconda2/envs/esm/lib/python3.7/site-packages/iris/fileformats/cf.py:798: UserWarning: Missing CF-netCDF measure variable 'areacella', referenced by netCDF variable 'rsdt'\n",
      "  warnings.warn(message % (variable_name, nc_var_name))\n",
      "[2020-04-06 11:41:13 mce] INFO:Loading /home/tsutsui/data/CMIP6/IPSL-CM6A-LR/abrupt-4xCO2/rsut_Amon_IPSL-CM6A-LR_abrupt-4xCO2_r1i1p1f1_gr_185001-214912.nc\n",
      "/home/tsutsui/miniconda2/envs/esm/lib/python3.7/site-packages/iris/fileformats/cf.py:798: UserWarning: Missing CF-netCDF measure variable 'areacella', referenced by netCDF variable 'rsut'\n",
      "  warnings.warn(message % (variable_name, nc_var_name))\n",
      "[2020-04-06 11:41:13 mce] INFO:Loading /home/tsutsui/data/CMIP6/IPSL-CM6A-LR/abrupt-4xCO2/rsut_Amon_IPSL-CM6A-LR_abrupt-4xCO2_r1i1p1f1_gr_215001-244912.nc\n",
      "/home/tsutsui/miniconda2/envs/esm/lib/python3.7/site-packages/iris/fileformats/cf.py:798: UserWarning: Missing CF-netCDF measure variable 'areacella', referenced by netCDF variable 'rsut'\n",
      "  warnings.warn(message % (variable_name, nc_var_name))\n",
      "[2020-04-06 11:41:13 mce] INFO:Loading /home/tsutsui/data/CMIP6/IPSL-CM6A-LR/abrupt-4xCO2/rsut_Amon_IPSL-CM6A-LR_abrupt-4xCO2_r1i1p1f1_gr_245001-274912.nc\n",
      "/home/tsutsui/miniconda2/envs/esm/lib/python3.7/site-packages/iris/fileformats/cf.py:798: UserWarning: Missing CF-netCDF measure variable 'areacella', referenced by netCDF variable 'rsut'\n",
      "  warnings.warn(message % (variable_name, nc_var_name))\n",
      "[2020-04-06 11:41:15 mce] INFO:Loading /home/tsutsui/data/CMIP6/IPSL-CM6A-LR/abrupt-4xCO2/rlut_Amon_IPSL-CM6A-LR_abrupt-4xCO2_r1i1p1f1_gr_185001-214912.nc\n",
      "/home/tsutsui/miniconda2/envs/esm/lib/python3.7/site-packages/iris/fileformats/cf.py:798: UserWarning: Missing CF-netCDF measure variable 'areacella', referenced by netCDF variable 'rlut'\n",
      "  warnings.warn(message % (variable_name, nc_var_name))\n",
      "[2020-04-06 11:41:15 mce] INFO:Loading /home/tsutsui/data/CMIP6/IPSL-CM6A-LR/abrupt-4xCO2/rlut_Amon_IPSL-CM6A-LR_abrupt-4xCO2_r1i1p1f1_gr_215001-244912.nc\n"
     ]
    },
    {
     "name": "stderr",
     "output_type": "stream",
     "text": [
      "/home/tsutsui/miniconda2/envs/esm/lib/python3.7/site-packages/iris/fileformats/cf.py:798: UserWarning: Missing CF-netCDF measure variable 'areacella', referenced by netCDF variable 'rlut'\n",
      "  warnings.warn(message % (variable_name, nc_var_name))\n",
      "[2020-04-06 11:41:15 mce] INFO:Loading /home/tsutsui/data/CMIP6/IPSL-CM6A-LR/abrupt-4xCO2/rlut_Amon_IPSL-CM6A-LR_abrupt-4xCO2_r1i1p1f1_gr_245001-274912.nc\n",
      "/home/tsutsui/miniconda2/envs/esm/lib/python3.7/site-packages/iris/fileformats/cf.py:798: UserWarning: Missing CF-netCDF measure variable 'areacella', referenced by netCDF variable 'rlut'\n",
      "  warnings.warn(message % (variable_name, nc_var_name))\n",
      "/home/tsutsui/miniconda2/envs/esm/lib/python3.7/site-packages/iris/analysis/cartography.py:394: UserWarning: Using DEFAULT_SPHERICAL_EARTH_RADIUS.\n",
      "  warnings.warn(\"Using DEFAULT_SPHERICAL_EARTH_RADIUS.\")\n",
      "[2020-04-06 11:42:50 mce] INFO:Loading /home/tsutsui/data/CMIP6/IPSL-CM6A-LR/abrupt-4xCO2/tas_Amon_IPSL-CM6A-LR_abrupt-4xCO2_r1i1p1f1_gr_185001-214912.nc\n",
      "/home/tsutsui/miniconda2/envs/esm/lib/python3.7/site-packages/iris/fileformats/cf.py:798: UserWarning: Missing CF-netCDF measure variable 'areacella', referenced by netCDF variable 'tas'\n",
      "  warnings.warn(message % (variable_name, nc_var_name))\n",
      "[2020-04-06 11:42:50 mce] INFO:Loading /home/tsutsui/data/CMIP6/IPSL-CM6A-LR/abrupt-4xCO2/tas_Amon_IPSL-CM6A-LR_abrupt-4xCO2_r1i1p1f1_gr_215001-244912.nc\n",
      "/home/tsutsui/miniconda2/envs/esm/lib/python3.7/site-packages/iris/fileformats/cf.py:798: UserWarning: Missing CF-netCDF measure variable 'areacella', referenced by netCDF variable 'tas'\n",
      "  warnings.warn(message % (variable_name, nc_var_name))\n",
      "[2020-04-06 11:42:50 mce] INFO:Loading /home/tsutsui/data/CMIP6/IPSL-CM6A-LR/abrupt-4xCO2/tas_Amon_IPSL-CM6A-LR_abrupt-4xCO2_r1i1p1f1_gr_245001-274912.nc\n",
      "/home/tsutsui/miniconda2/envs/esm/lib/python3.7/site-packages/iris/fileformats/cf.py:798: UserWarning: Missing CF-netCDF measure variable 'areacella', referenced by netCDF variable 'tas'\n",
      "  warnings.warn(message % (variable_name, nc_var_name))\n",
      "/home/tsutsui/miniconda2/envs/esm/lib/python3.7/site-packages/iris/analysis/cartography.py:394: UserWarning: Using DEFAULT_SPHERICAL_EARTH_RADIUS.\n",
      "  warnings.warn(\"Using DEFAULT_SPHERICAL_EARTH_RADIUS.\")\n",
      "/home/tsutsui/miniconda2/envs/esm/lib/python3.7/site-packages/iris/analysis/cartography.py:394: UserWarning: Using DEFAULT_SPHERICAL_EARTH_RADIUS.\n",
      "  warnings.warn(\"Using DEFAULT_SPHERICAL_EARTH_RADIUS.\")\n",
      "/home/tsutsui/miniconda2/envs/esm/lib/python3.7/site-packages/iris/analysis/cartography.py:394: UserWarning: Using DEFAULT_SPHERICAL_EARTH_RADIUS.\n",
      "  warnings.warn(\"Using DEFAULT_SPHERICAL_EARTH_RADIUS.\")\n",
      "[2020-04-06 11:43:31 mce] INFO:Loading /home/tsutsui/data/CMIP6/IPSL-CM6A-LR/1pctCO2/rsdt_Amon_IPSL-CM6A-LR_1pctCO2_r1i1p1f1_gr_185001-199912.nc\n",
      "/home/tsutsui/miniconda2/envs/esm/lib/python3.7/site-packages/iris/fileformats/cf.py:798: UserWarning: Missing CF-netCDF measure variable 'areacella', referenced by netCDF variable 'rsdt'\n",
      "  warnings.warn(message % (variable_name, nc_var_name))\n",
      "[2020-04-06 11:43:31 mce] INFO:Loading /home/tsutsui/data/CMIP6/IPSL-CM6A-LR/1pctCO2/rsut_Amon_IPSL-CM6A-LR_1pctCO2_r1i1p1f1_gr_185001-199912.nc\n",
      "/home/tsutsui/miniconda2/envs/esm/lib/python3.7/site-packages/iris/fileformats/cf.py:798: UserWarning: Missing CF-netCDF measure variable 'areacella', referenced by netCDF variable 'rsut'\n",
      "  warnings.warn(message % (variable_name, nc_var_name))\n",
      "[2020-04-06 11:43:31 mce] INFO:Loading /home/tsutsui/data/CMIP6/IPSL-CM6A-LR/1pctCO2/rlut_Amon_IPSL-CM6A-LR_1pctCO2_r1i1p1f1_gr_185001-199912.nc\n",
      "/home/tsutsui/miniconda2/envs/esm/lib/python3.7/site-packages/iris/fileformats/cf.py:798: UserWarning: Missing CF-netCDF measure variable 'areacella', referenced by netCDF variable 'rlut'\n",
      "  warnings.warn(message % (variable_name, nc_var_name))\n",
      "/home/tsutsui/miniconda2/envs/esm/lib/python3.7/site-packages/iris/analysis/cartography.py:394: UserWarning: Using DEFAULT_SPHERICAL_EARTH_RADIUS.\n",
      "  warnings.warn(\"Using DEFAULT_SPHERICAL_EARTH_RADIUS.\")\n",
      "[2020-04-06 11:43:47 mce] INFO:Loading /home/tsutsui/data/CMIP6/IPSL-CM6A-LR/1pctCO2/tas_Amon_IPSL-CM6A-LR_1pctCO2_r1i1p1f1_gr_185001-199912.nc\n",
      "/home/tsutsui/miniconda2/envs/esm/lib/python3.7/site-packages/iris/fileformats/cf.py:798: UserWarning: Missing CF-netCDF measure variable 'areacella', referenced by netCDF variable 'tas'\n",
      "  warnings.warn(message % (variable_name, nc_var_name))\n",
      "/home/tsutsui/miniconda2/envs/esm/lib/python3.7/site-packages/iris/analysis/cartography.py:394: UserWarning: Using DEFAULT_SPHERICAL_EARTH_RADIUS.\n",
      "  warnings.warn(\"Using DEFAULT_SPHERICAL_EARTH_RADIUS.\")\n"
     ]
    }
   ],
   "source": [
    "for expname in cfg1:\n",
    "    for varname in ['rtnt', 'tas']:\n",
    "        outpath = './{}_{}_{}.nc'.format(varname, dataset, expname)\n",
    "        ensemble = cfg1[expname]['ensemble']\n",
    "        cube = cmip.preproc1(dataset, expname, varname, ensemble)\n",
    "        iris.save(cube, outpath)"
   ]
  }
 ],
 "metadata": {
  "kernelspec": {
   "display_name": "Python 3",
   "language": "python",
   "name": "python3"
  },
  "language_info": {
   "codemirror_mode": {
    "name": "ipython",
    "version": 3
   },
   "file_extension": ".py",
   "mimetype": "text/x-python",
   "name": "python",
   "nbconvert_exporter": "python",
   "pygments_lexer": "ipython3",
   "version": "3.7.3"
  }
 },
 "nbformat": 4,
 "nbformat_minor": 2
}
