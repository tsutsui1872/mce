{
 "cells": [
  {
   "cell_type": "markdown",
   "id": "a5cd2b7b-275b-4643-b4e5-a13ed5acbf92",
   "metadata": {},
   "source": [
    "# WG3 AR6 scenario database"
   ]
  },
  {
   "cell_type": "code",
   "execution_count": 1,
   "id": "ca0e932a-6d42-43da-8e41-121a97163807",
   "metadata": {},
   "outputs": [
    {
     "name": "stdout",
     "output_type": "stream",
     "text": [
      "/home/rocky/project/mce\n"
     ]
    }
   ],
   "source": [
    "%cd .."
   ]
  },
  {
   "cell_type": "code",
   "execution_count": 6,
   "id": "868529df-da7f-4d74-a90a-d15e69e5bcae",
   "metadata": {},
   "outputs": [],
   "source": [
    "import pathlib\n",
    "import json"
   ]
  },
  {
   "cell_type": "code",
   "execution_count": 4,
   "id": "a8693c79-5035-4c6f-a740-9171aabeb87c",
   "metadata": {},
   "outputs": [],
   "source": [
    "path = pathlib.Path('../iamc/datain/ar6')"
   ]
  },
  {
   "cell_type": "code",
   "execution_count": 5,
   "id": "c27a6417-b07f-43f0-85ad-4b96c19c3378",
   "metadata": {},
   "outputs": [
    {
     "data": {
      "text/plain": [
       "[PosixPath('../iamc/datain/ar6/AR6_Scenarios_Database_World_v1.1.csv'),\n",
       " PosixPath('../iamc/datain/ar6/README_historical.txt'),\n",
       " PosixPath('../iamc/datain/ar6/AR6_Scenarios_Database_metadata_indicators_v1.1.xlsx'),\n",
       " PosixPath('../iamc/datain/ar6/License_sheet.xlsx'),\n",
       " PosixPath('../iamc/datain/ar6/AR6_historical_emissions.csv'),\n",
       " PosixPath('../iamc/datain/ar6/reference.json')]"
      ]
     },
     "execution_count": 5,
     "metadata": {},
     "output_type": "execute_result"
    }
   ],
   "source": [
    "list(path.glob('*'))"
   ]
  },
  {
   "cell_type": "code",
   "execution_count": 7,
   "id": "fb288e9b-9f45-4f97-80bc-01e9ffdfbbce",
   "metadata": {},
   "outputs": [
    {
     "data": {
      "text/plain": [
       "['models', 'scenarios', 'regions', 'variables']"
      ]
     },
     "execution_count": 7,
     "metadata": {},
     "output_type": "execute_result"
    }
   ],
   "source": [
    "# with open(f'{ddir}/ar6/reference.json', 'r') as f1:\n",
    "with open(path.joinpath('reference.json'), 'r') as f1:\n",
    "    refs = json.loads(f1.read())\n",
    "\n",
    "list(refs)"
   ]
  },
  {
   "cell_type": "code",
   "execution_count": 13,
   "id": "4ba73752-e92f-4d94-9267-67cfcbdd9b1e",
   "metadata": {},
   "outputs": [],
   "source": [
    "map_model = dict(refs['models'][1:])\n",
    "map_model_rev = {v: k for k, v in map_model.items()}"
   ]
  },
  {
   "cell_type": "code",
   "execution_count": 15,
   "id": "74dfb1c9-139c-4099-bd48-895322986682",
   "metadata": {},
   "outputs": [],
   "source": [
    "map_scenario = dict(refs['scenarios'][1:])\n",
    "map_scenario_rev = {v: k for k, v in map_scenario.items()}"
   ]
  }
 ],
 "metadata": {
  "kernelspec": {
   "display_name": "Python 3 (ipykernel)",
   "language": "python",
   "name": "python3"
  },
  "language_info": {
   "codemirror_mode": {
    "name": "ipython",
    "version": 3
   },
   "file_extension": ".py",
   "mimetype": "text/x-python",
   "name": "python",
   "nbconvert_exporter": "python",
   "pygments_lexer": "ipython3",
   "version": "3.12.8"
  }
 },
 "nbformat": 4,
 "nbformat_minor": 5
}
