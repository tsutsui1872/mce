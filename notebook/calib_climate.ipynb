{
 "cells": [
  {
   "cell_type": "code",
   "execution_count": 1,
   "metadata": {},
   "outputs": [],
   "source": [
    "import numpy as np\n",
    "import pandas as pd\n",
    "from scipy.stats import linregress\n",
    "from mce.core.climate_parms import ParmEstimate"
   ]
  },
  {
   "cell_type": "code",
   "execution_count": 2,
   "metadata": {},
   "outputs": [],
   "source": [
    "# csv output introduces slight differences and affects optimization results\n",
    "\n",
    "# df_cmip_norm = (\n",
    "#     pd.read_csv('data/cmip5_normalized_1.csv', index_col=[0, 1, 2])\n",
    "#     .rename(columns=float)\n",
    "# )\n",
    "df_cmip_norm = pd.read_pickle('data/cmip5_normalized_1.pkl')"
   ]
  },
  {
   "cell_type": "code",
   "execution_count": 3,
   "metadata": {},
   "outputs": [],
   "source": [
    "nl = 3\n",
    "\n",
    "if nl == 3:\n",
    "    args = ([1., 1.], [1., 10., 20.])\n",
    "elif nl == 2:\n",
    "    args = ([1.], [2., 100.])\n",
    "\n",
    "kw = {'lamb': 1., 'ts4xeq': 7., 'beta': 1.}\n",
    "\n",
    "df_parms = {}\n",
    "\n",
    "for source_id, v in df_cmip_norm.groupby(level=0):\n",
    "    df = v.droplevel(0)\n",
    "    time = np.arange(150) + 0.5\n",
    "    data_gcm = [\n",
    "            df.loc[('rtnt', 'abrupt4xCO2')].dropna().values,\n",
    "            df.loc[('tas', 'abrupt4xCO2')].dropna().values,\n",
    "            df.loc[('rtnt', '1pctCO2')].dropna().values,\n",
    "            df.loc[('tas', '1pctCO2')].dropna().values,\n",
    "        ]\n",
    "    if [len(d1) for d1 in data_gcm] != [150, 150, 140, 140]:\n",
    "        raise ValueError('Invalid data length')\n",
    "\n",
    "    data_std = [\n",
    "        df.loc[('rtnt', 'piControl')].dropna().std(ddof=0),\n",
    "        df.loc[('tas', 'piControl')].dropna().std(ddof=0),\n",
    "    ]\n",
    "\n",
    "    obj = ParmEstimate(nl=nl)\n",
    "    px = obj.initpars(*args, **kw)\n",
    "    alpha, beta, lamb, asj, tauj = obj.minimize_wrap(time, data_gcm, data_std)\n",
    "\n",
    "    ecs = obj.forcing.x2erf(2.) / lamb\n",
    "    t70 = np.log(2.) / np.log(1.01)\n",
    "    tcr = ecs * (1 - (asj * tauj * (1 - np.exp(-t70/tauj))).sum() / t70)\n",
    "\n",
    "    regress = linregress(data_gcm[1], data_gcm[0])\n",
    "    lambda_reg = -regress.slope\n",
    "    ecs_reg = 0.5 * regress.intercept / lambda_reg\n",
    "    tcr_gcm = data_gcm[3][70-10:70+10].mean()\n",
    "\n",
    "    df_parms[source_id] = pd.Series({\n",
    "        'ecs': ecs,\n",
    "        'ecs_reg': ecs_reg,\n",
    "        'tcr': tcr,\n",
    "        'tcr_gcm': tcr_gcm,\n",
    "        'co2_alpha': alpha,\n",
    "        'co2_beta': beta,\n",
    "        'lambda': lamb,\n",
    "        'lambda_reg': lambda_reg,\n",
    "        **{\n",
    "            f'tau{i}': value\n",
    "            for i, value in enumerate(tauj)\n",
    "        },\n",
    "        **{\n",
    "            f'a{i}': value\n",
    "            for i, value in enumerate(asj)\n",
    "        },\n",
    "    })\n",
    "\n",
    "df_parms = pd.DataFrame(df_parms).T"
   ]
  }
 ],
 "metadata": {
  "kernelspec": {
   "display_name": "Python 3 (ipykernel)",
   "language": "python",
   "name": "python3"
  }
 },
 "nbformat": 4,
 "nbformat_minor": 2
}
