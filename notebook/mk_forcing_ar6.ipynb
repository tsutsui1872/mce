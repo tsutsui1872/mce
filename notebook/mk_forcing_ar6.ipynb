{
 "cells": [
  {
   "cell_type": "markdown",
   "metadata": {},
   "source": [
    "# AR6-based forcing\n",
    "\n",
    "Based on `notebooks/make-forcing.ipynb`\n",
    "at https://github.com/ClimateIndicator/forcing-timeseries"
   ]
  },
  {
   "cell_type": "code",
   "execution_count": 1,
   "metadata": {},
   "outputs": [],
   "source": [
    "import warnings\n",
    "import numpy as np\n",
    "import pandas as pd\n",
    "from scipy import stats, optimize\n",
    "import h5py\n",
    "from tables import NaturalNameWarning\n",
    "from mce.util.io import RetrieveGitHub\n",
    "from mce.core.forcing_ar6 import InputSeries, RfAllAR6"
   ]
  },
  {
   "cell_type": "code",
   "execution_count": 2,
   "metadata": {},
   "outputs": [],
   "source": [
    "warnings.simplefilter('ignore', NaturalNameWarning)"
   ]
  },
  {
   "cell_type": "code",
   "execution_count": 3,
   "metadata": {},
   "outputs": [],
   "source": [
    "repo = RetrieveGitHub('ClimateIndicator', 'forcing-timeseries', 'datain')"
   ]
  },
  {
   "cell_type": "code",
   "execution_count": 4,
   "metadata": {},
   "outputs": [],
   "source": [
    "outpath = 'untracked/datain_2024.h5'\n",
    "dname = 'ClimateIndicator-2024/forcing-timeseries'"
   ]
  },
  {
   "cell_type": "markdown",
   "metadata": {},
   "source": [
    "## Uncertainty ranges"
   ]
  },
  {
   "cell_type": "code",
   "execution_count": 5,
   "metadata": {},
   "outputs": [],
   "source": [
    "SAMPLES = 100000\n",
    "NINETY_TO_ONESIGMA = stats.norm.ppf(0.95)\n",
    "# Required adjustment to each species to ensure overall halogenated gas ERF uncertainty is around 19%\n",
    "HALOGEN_SCALING = 2.05"
   ]
  },
  {
   "cell_type": "code",
   "execution_count": 6,
   "metadata": {},
   "outputs": [
    {
     "data": {
      "text/plain": [
       "49"
      ]
     },
     "execution_count": 6,
     "metadata": {},
     "output_type": "execute_result"
    }
   ],
   "source": [
    "species_halogen = [\n",
    "    # hydrofluorocarbons (HFC) and fully fluorinated species including perfluorocarbons (PFCs)\n",
    "    'HFC-125', 'HFC-134a', 'HFC-143a', 'HFC-152a', 'HFC-227ea', 'HFC-23',\n",
    "    'HFC-236fa', 'HFC-245fa', 'HFC-32', 'HFC-365mfc', 'HFC-43-10mee',\n",
    "    'NF3', 'C2F6', 'C3F8', 'n-C4F10', 'n-C5F12', 'n-C6F14', 'i-C6F14',\n",
    "    'C7F16', 'C8F18', 'CF4', 'c-C4F8', 'SF6', 'SO2F2', 'CCl4',\n",
    "    # chlorofluorocarbons (CFC), hydrofluorochlorocarbons (HCFC),\n",
    "    # chlorocarbons, hydrochlorocarbons,\n",
    "    # bromocarbons, hydrobromocarbons, and halons\n",
    "    'CFC-11', 'CFC-112', 'CFC-112a', 'CFC-113', 'CFC-113a', 'CFC-114',\n",
    "    'CFC-114a', 'CFC-115', 'CFC-12', 'CFC-13', 'CH2Cl2',\n",
    "    'CH3Br', 'CH3CCl3', 'CH3Cl', 'CHCl3',\n",
    "    'HCFC-124', 'HCFC-133a', 'HCFC-141b', 'HCFC-142b', 'HCFC-22', 'HCFC-31',\n",
    "    'Halon-1211', 'Halon-1301', 'Halon-2402',\n",
    "]\n",
    "len(species_halogen)"
   ]
  },
  {
   "cell_type": "code",
   "execution_count": 7,
   "metadata": {},
   "outputs": [],
   "source": [
    "# uncertainties from IPCC\n",
    "uncertainty_seed = 38572\n",
    "\n",
    "unc_ranges = pd.Series({\n",
    "    k: v / NINETY_TO_ONESIGMA\n",
    "    for k, v in {\n",
    "        'CO2': 0.12,\n",
    "        'CH4': 0.20,\n",
    "        'N2O': 0.14,\n",
    "        'O3': 0.50, # total ozone\n",
    "        'H2O_stratospheric': 1.00, # stratospheric WV from CH4\n",
    "        'contrails': 0.70, # contrails approx - half-normal\n",
    "        'BC_on_snow': 1.25, # bc on snow - half-normal\n",
    "        'land_use': 0.50, # land use change\n",
    "        'volcanic': 0.25,\n",
    "        'solar': 0.5, # solar (amplitude)\n",
    "        **{\n",
    "            k1: 0.26 * HALOGEN_SCALING if k1 in [\n",
    "                'HFC-152a', 'CH2Cl2', 'CH3Cl', 'CHCl3',\n",
    "                'HCFC-133a', 'HCFC-31',\n",
    "            ] else 0.19 * HALOGEN_SCALING\n",
    "            for k1 in species_halogen\n",
    "        },\n",
    "    }.items()\n",
    "})"
   ]
  },
  {
   "cell_type": "code",
   "execution_count": 8,
   "metadata": {},
   "outputs": [],
   "source": [
    "unc_ranges = unc_ranges.reindex(\n",
    "    ['CO2', 'CH4', 'N2O']\n",
    "    + species_halogen\n",
    "    + [\n",
    "        'O3', 'H2O_stratospheric', 'contrails', 'BC_on_snow', 'land_use',\n",
    "        'volcanic', 'solar',\n",
    "    ]\n",
    ")"
   ]
  },
  {
   "cell_type": "code",
   "execution_count": 9,
   "metadata": {},
   "outputs": [],
   "source": [
    "n = len(unc_ranges)\n",
    "scale_df = pd.DataFrame(\n",
    "    stats.norm.rvs(\n",
    "        size=(SAMPLES, n), \n",
    "        loc=np.ones((SAMPLES, n)), \n",
    "        scale=unc_ranges.values, \n",
    "        random_state=uncertainty_seed,\n",
    "    ),\n",
    "    columns=unc_ranges.index,\n",
    ")"
   ]
  },
  {
   "cell_type": "code",
   "execution_count": 10,
   "metadata": {},
   "outputs": [],
   "source": [
    "def f_opt(x, q05_desired, q50_desired, q95_desired):\n",
    "    \"x is (a, loc, scale) in that order.\"\n",
    "    q05, q50, q95 = stats.skewnorm.ppf(\n",
    "        (0.05, 0.50, 0.95), x[0], loc=x[1], scale=x[2]\n",
    "    )\n",
    "    return (q05 - q05_desired, q50 - q50_desired, q95 - q95_desired)\n",
    "\n",
    "lapsi_params = optimize.root(f_opt, [1, 1, 1], args=(0, 1, 2.25)).x\n",
    "contrails_params = optimize.root(f_opt, [1, 1, 1], args=(19/57, 1, 98/57)).x"
   ]
  },
  {
   "cell_type": "code",
   "execution_count": 11,
   "metadata": {},
   "outputs": [],
   "source": [
    "# skewnormal for asymmetric distributions\n",
    "scale_df['BC_on_snow'] = stats.skewnorm.rvs(\n",
    "    lapsi_params[0],\n",
    "    loc=lapsi_params[1],\n",
    "    scale=lapsi_params[2],\n",
    "    size=SAMPLES,\n",
    "    random_state=3701584,\n",
    ")\n",
    "\n",
    "scale_df['contrails'] = stats.skewnorm.rvs(\n",
    "    contrails_params[0],\n",
    "    loc=contrails_params[1],\n",
    "    scale=contrails_params[2],\n",
    "    size=SAMPLES,\n",
    "    random_state=3701585,\n",
    ")"
   ]
  },
  {
   "cell_type": "code",
   "execution_count": 12,
   "metadata": {},
   "outputs": [],
   "source": [
    "trend_solar = pd.Series(stats.norm.rvs(\n",
    "    size=SAMPLES, \n",
    "    loc=0., \n",
    "    scale=0.07/NINETY_TO_ONESIGMA, \n",
    "    random_state=uncertainty_seed,\n",
    "))"
   ]
  },
  {
   "cell_type": "code",
   "execution_count": 13,
   "metadata": {},
   "outputs": [],
   "source": [
    "scale_df.to_hdf(outpath, key=f'{dname}/scale_df')\n",
    "trend_solar.to_hdf(outpath, key=f'{dname}/trend_solar')"
   ]
  },
  {
   "cell_type": "code",
   "execution_count": 14,
   "metadata": {},
   "outputs": [],
   "source": [
    "with h5py.File(outpath, 'r+') as f1:\n",
    "    dset = f1[f'{dname}/scale_df']\n",
    "    dset.attrs['description'] = 'Forcing uncertainty ensemble of scale factors by agent'\n",
    "\n",
    "    dset = f1[f'{dname}/trend_solar']\n",
    "    dset.attrs['description'] = 'Forcing uncertainty ensemble of solar trend'"
   ]
  },
  {
   "cell_type": "markdown",
   "metadata": {},
   "source": [
    "## Input data"
   ]
  },
  {
   "cell_type": "code",
   "execution_count": 13,
   "metadata": {},
   "outputs": [],
   "source": [
    "datain = {}"
   ]
  },
  {
   "cell_type": "code",
   "execution_count": 14,
   "metadata": {},
   "outputs": [
    {
     "name": "stderr",
     "output_type": "stream",
     "text": [
      "[2024-12-12 15:52:07 mce.util.io] INFO:Use local file datain/ClimateIndicator/forcing-timeseries/data/gcp_emissions/gcp_2023.csv retrieved from https://github.com/ClimateIndicator/forcing-timeseries/raw/main/data/gcp_emissions/gcp_2023.csv on 2024-10-30\n"
     ]
    }
   ],
   "source": [
    "path = repo.retrieve('data/gcp_emissions/gcp_2023.csv')\n",
    "df = pd.read_csv(path, index_col=0)\n",
    "df.columns = pd.MultiIndex.from_tuples([\n",
    "    (f'CO2 {x}', 'Gt C/yr') for x in df.columns\n",
    "])\n",
    "datain['emis_co2'] = df.rename_axis(None)"
   ]
  },
  {
   "cell_type": "code",
   "execution_count": 15,
   "metadata": {},
   "outputs": [
    {
     "name": "stderr",
     "output_type": "stream",
     "text": [
      "[2024-12-12 15:52:08 mce.util.io] INFO:Use local file datain/ClimateIndicator/forcing-timeseries/output/ghg_concentrations_1750-2023.csv retrieved from https://github.com/ClimateIndicator/forcing-timeseries/raw/main/output/ghg_concentrations_1750-2023.csv on 2024-10-30\n"
     ]
    }
   ],
   "source": [
    "# notebooks/trace-gas-global-mean.ipynb\n",
    "path = repo.retrieve('output/ghg_concentrations_1750-2023.csv')\n",
    "df = pd.read_csv(path, index_col=0)\n",
    "\n",
    "# Linear interpolation between 1750 and 1850\n",
    "df = df.reindex(np.arange(df.index[0], df.index[-1]+1)).interpolate()\n",
    "df.columns = pd.MultiIndex.from_tuples([\n",
    "    (gas, {'CO2': 'ppm', 'CH4': 'ppb', 'N2O': 'ppb'}.get(gas, 'ppt'))\n",
    "    for gas in df.columns\n",
    "])\n",
    "datain['conc_ghg'] = df.rename_axis(None)"
   ]
  },
  {
   "cell_type": "code",
   "execution_count": 16,
   "metadata": {},
   "outputs": [
    {
     "name": "stderr",
     "output_type": "stream",
     "text": [
      "[2024-12-12 15:52:10 mce.util.io] INFO:Use local file datain/ClimateIndicator/forcing-timeseries/output/slcf_emissions_1750-2023.csv retrieved from https://github.com/ClimateIndicator/forcing-timeseries/raw/main/output/slcf_emissions_1750-2023.csv on 2024-10-31\n"
     ]
    }
   ],
   "source": [
    "# slcf-emissions.ipynb\n",
    "path = repo.retrieve('output/slcf_emissions_1750-2023.csv')\n",
    "df = pd.read_csv(path, index_col=0)\n",
    "\n",
    "# NOx is scaled to NO2\n",
    "df.columns = pd.MultiIndex.from_tuples([\n",
    "    (x, f'Mt {x}/yr') for x in df.columns\n",
    "])\n",
    "datain['emis_slcf'] = df"
   ]
  },
  {
   "cell_type": "code",
   "execution_count": 17,
   "metadata": {},
   "outputs": [
    {
     "name": "stderr",
     "output_type": "stream",
     "text": [
      "[2024-12-12 15:52:11 mce.util.io] INFO:Use local file datain/ClimateIndicator/forcing-timeseries/data/ar6/solar_erf.csv retrieved from https://github.com/ClimateIndicator/forcing-timeseries/raw/main/data/ar6/solar_erf.csv on 2024-10-31\n"
     ]
    }
   ],
   "source": [
    "path = repo.retrieve('data/ar6/solar_erf.csv')\n",
    "datain['erf_solar'] = (\n",
    "    pd.read_csv(path, index_col=0)\n",
    "    .squeeze()\n",
    "    .rename_axis(None)\n",
    "    .rename(None)\n",
    "    .loc[1750:2023]\n",
    ")"
   ]
  },
  {
   "cell_type": "code",
   "execution_count": 18,
   "metadata": {},
   "outputs": [
    {
     "name": "stderr",
     "output_type": "stream",
     "text": [
      "[2024-12-12 15:52:12 mce.util.io] INFO:Use local file datain/ClimateIndicator/forcing-timeseries/output/volcanic_sAOD_ERF_annual_-9500-2023.csv retrieved from https://github.com/ClimateIndicator/forcing-timeseries/raw/main/output/volcanic_sAOD_ERF_annual_-9500-2023.csv on 2024-10-31\n"
     ]
    }
   ],
   "source": [
    "path = repo.retrieve('output/volcanic_sAOD_ERF_annual_-9500-2023.csv')\n",
    "datain['erf_volcanic'] = (\n",
    "    pd.read_csv(path, index_col=0)\n",
    "    .loc[1750.0:2023.5, 'volcanic_ERF']\n",
    "    .rename(int)\n",
    "    .rename(None)\n",
    "    .rename_axis(None)\n",
    ")"
   ]
  },
  {
   "cell_type": "code",
   "execution_count": 19,
   "metadata": {},
   "outputs": [
    {
     "name": "stderr",
     "output_type": "stream",
     "text": [
      "[2024-12-12 15:52:16 mce.util.io] INFO:Use local file datain/ClimateIndicator/forcing-timeseries/output/contrails_ERF_1930-2023.csv retrieved from https://github.com/ClimateIndicator/forcing-timeseries/raw/main/output/contrails_ERF_1930-2023.csv on 2024-11-21\n"
     ]
    }
   ],
   "source": [
    "# contrails\n",
    "# depends on IEA Word Oil Statistics 2023\n",
    "path = repo.retrieve('output/contrails_ERF_1930-2023.csv')\n",
    "d1 = pd.read_csv(path, index_col=0).squeeze().rename_axis(None).rename(None)\n",
    "datain['erf_contrails'] = d1.reindex(np.arange(1750, 2024), fill_value=0.)"
   ]
  },
  {
   "cell_type": "code",
   "execution_count": 20,
   "metadata": {},
   "outputs": [
    {
     "name": "stderr",
     "output_type": "stream",
     "text": [
      "[2024-12-12 15:52:18 mce.util.io] INFO:Use local file datain/ClimateIndicator/forcing-timeseries/data/ar6/table_mean_thornhill_collins_orignames.csv retrieved from https://github.com/ClimateIndicator/forcing-timeseries/raw/main/data/ar6/table_mean_thornhill_collins_orignames.csv on 2024-10-31\n"
     ]
    }
   ],
   "source": [
    "# aerosols calibration results\n",
    "path = repo.retrieve('data/ar6/table_mean_thornhill_collins_orignames.csv')\n",
    "df = pd.read_csv(path, index_col=0)\n",
    "# map_name = {'HC': 'EESC', 'VOC': 'NMVOC'}\n",
    "map_name = {'HC': 'ODS', 'VOC': 'NMVOC'}\n",
    "datain['ari_emitted'] = (\n",
    "    df['Aerosol']\n",
    "    .rename(map_name)\n",
    "    .rename(None)\n",
    "    .rename_axis(None)\n",
    ")"
   ]
  },
  {
   "cell_type": "code",
   "execution_count": 21,
   "metadata": {},
   "outputs": [
    {
     "name": "stderr",
     "output_type": "stream",
     "text": [
      "[2024-12-12 15:52:21 mce.util.io] INFO:Use local file datain/ClimateIndicator/forcing-timeseries/data/ar6/table_std_thornhill_collins_orignames.csv retrieved from https://github.com/ClimateIndicator/forcing-timeseries/raw/main/data/ar6/table_std_thornhill_collins_orignames.csv on 2024-10-31\n"
     ]
    }
   ],
   "source": [
    "path = repo.retrieve('data/ar6/table_std_thornhill_collins_orignames.csv')\n",
    "df = pd.read_csv(path, index_col=0)\n",
    "datain['ari_emitted_std'] = (\n",
    "    df['Aerosol_sd']\n",
    "    .rename(map_name)\n",
    "    .rename(None)\n",
    "    .rename_axis(None)\n",
    ")"
   ]
  },
  {
   "cell_type": "code",
   "execution_count": 22,
   "metadata": {},
   "outputs": [
    {
     "name": "stderr",
     "output_type": "stream",
     "text": [
      "[2024-12-12 15:52:23 mce.util.io] INFO:Use local file datain/ClimateIndicator/forcing-timeseries/data/fair-calibrate-1.4.1/aerosol_cloud.csv retrieved from https://github.com/ClimateIndicator/forcing-timeseries/raw/main/data/fair-calibrate-1.4.1/aerosol_cloud.csv on 2024-10-31\n"
     ]
    }
   ],
   "source": [
    "path = repo.retrieve('data/fair-calibrate-1.4.1/aerosol_cloud.csv')\n",
    "datain['aci_cal'] = pd.read_csv(path, index_col=0)"
   ]
  },
  {
   "cell_type": "code",
   "execution_count": 23,
   "metadata": {},
   "outputs": [
    {
     "name": "stderr",
     "output_type": "stream",
     "text": [
      "[2024-12-12 15:52:24 mce.util.io] INFO:Use local file datain/ClimateIndicator/forcing-timeseries/data/gmst/IGCC_GMST_1850-2022.csv retrieved from https://github.com/ClimateIndicator/forcing-timeseries/raw/main/data/gmst/IGCC_GMST_1850-2022.csv on 2024-11-21\n"
     ]
    }
   ],
   "source": [
    "# observed GMST\n",
    "path = repo.retrieve('data/gmst/IGCC_GMST_1850-2022.csv')\n",
    "datain['temp_obs'] = (\n",
    "    pd.read_csv(path, index_col=0)\n",
    "    .squeeze()\n",
    "    .rename(int)\n",
    "    .rename(None)\n",
    "    .rename_axis(None)\n",
    ")"
   ]
  },
  {
   "cell_type": "code",
   "execution_count": 24,
   "metadata": {},
   "outputs": [
    {
     "name": "stderr",
     "output_type": "stream",
     "text": [
      "[2024-12-12 15:52:26 mce.util.io] INFO:Use local file datain/ClimateIndicator/forcing-timeseries/data/ozone/skeie_ozone_trop.csv retrieved from https://github.com/ClimateIndicator/forcing-timeseries/raw/main/data/ozone/skeie_ozone_trop.csv on 2024-11-21\n",
      "[2024-12-12 15:52:26 mce.util.io] INFO:Use local file datain/ClimateIndicator/forcing-timeseries/data/ozone/skeie_ozone_strat.csv retrieved from https://github.com/ClimateIndicator/forcing-timeseries/raw/main/data/ozone/skeie_ozone_strat.csv on 2024-11-21\n"
     ]
    }
   ],
   "source": [
    "# ozone calibration results\n",
    "for k in ['trop', 'strat']:\n",
    "    path = repo.retrieve(f'data/ozone/skeie_ozone_{k}.csv')\n",
    "    datain[f'skeie_ozone_{k}'] = (\n",
    "        pd.read_csv(path, index_col=0)\n",
    "        .rename(int, axis=1)\n",
    "        .rename_axis(None)\n",
    "    )"
   ]
  },
  {
   "cell_type": "code",
   "execution_count": 27,
   "metadata": {},
   "outputs": [],
   "source": [
    "for k, v in datain.items():\n",
    "    v.to_hdf(outpath, key=f'{dname}/{k}')"
   ]
  },
  {
   "cell_type": "code",
   "execution_count": 28,
   "metadata": {},
   "outputs": [],
   "source": [
    "with h5py.File(outpath, 'r+') as f1:\n",
    "    for k, v in {\n",
    "        'emis_co2': 'Emissions of CO2 in 1750-2023',\n",
    "        'conc_ghg': 'Concentrations of GHGs in 1750-2023',\n",
    "        'emis_slcf': 'Emissions of SLCFs in 1750-2023',\n",
    "        'erf_solar': 'Effective radiative forcing of solar irradiance in 1750-2023',\n",
    "        'erf_volcanic': 'Effective radiative forcing of volcanic activity in 1750-2023',\n",
    "        'erf_contrails': 'Effective radiative forcing of contrails and contrail-induced cirrus in 1750-2023',\n",
    "        'ari_emitted': 'Reference radiative forcing by SLCF species',\n",
    "        'ari_emitted_std': 'Standard deviations of reference radiative forcing by SLCF species',\n",
    "        'aci_cal': 'Forcing uncertainty ensemble related to aerosol-cloud interactions',\n",
    "        'temp_obs': 'Temperature time series used for temperature feedback of ozone forcing',\n",
    "        'skeie_ozone_trop': 'Reference radiative forcing of tropospheric ozone',\n",
    "        'skeie_ozone_strat': 'Reference radiative forcing of stratospheric ozone',\n",
    "        }.items():\n",
    "        grp = f1[f'{dname}/{k}']\n",
    "        grp.attrs['description'] = v"
   ]
  },
  {
   "cell_type": "markdown",
   "metadata": {},
   "source": [
    "## Forcing assessment"
   ]
  },
  {
   "cell_type": "code",
   "execution_count": 25,
   "metadata": {},
   "outputs": [],
   "source": [
    "def df_concat(datain, *args, **kw):\n",
    "    map_name = kw.get('map_name', {})\n",
    "    ret_slice = kw.get('ret_slice', False)\n",
    "\n",
    "    data = [\n",
    "        (\n",
    "            datain[k].to_frame(map_name.get(k, k))\n",
    "            if isinstance(datain[k], pd.Series)\n",
    "            else datain[k]\n",
    "        )\n",
    "        for k in args\n",
    "    ]\n",
    "    df = pd.concat(data, axis=1)\n",
    "\n",
    "    if ret_slice:\n",
    "        jn = np.hstack([0, [df.shape[1] for df in data]]).cumsum()\n",
    "        map_slc = dict(zip(\n",
    "            args, [slice(jn[i-1], jn[i]) for i in range(1, len(jn))],\n",
    "        ))\n",
    "        return df, map_slc\n",
    "    else:\n",
    "        return df"
   ]
  },
  {
   "cell_type": "code",
   "execution_count": 26,
   "metadata": {},
   "outputs": [],
   "source": [
    "df_emis = df_concat(datain, 'emis_co2', 'emis_slcf')"
   ]
  },
  {
   "cell_type": "code",
   "execution_count": 27,
   "metadata": {},
   "outputs": [],
   "source": [
    "df_emis_co2__cumsum = (\n",
    "    datain['emis_co2']\n",
    "    .cumsum(axis=0)\n",
    "    .rename(lambda x: x.replace('/yr', ''), axis=1, level=1)\n",
    ")"
   ]
  },
  {
   "cell_type": "code",
   "execution_count": 28,
   "metadata": {},
   "outputs": [],
   "source": [
    "map_erf_name = {\n",
    "    f'erf_{x}': x for x in ['contrails', 'solar', 'volcanic']\n",
    "}\n",
    "df_erf = df_concat(datain, *list(map_erf_name), map_name=map_erf_name)"
   ]
  },
  {
   "cell_type": "code",
   "execution_count": 29,
   "metadata": {},
   "outputs": [],
   "source": [
    "years = np.arange(1750, 2020)\n",
    "dfin_ref = pd.concat({\n",
    "    k:\n",
    "    df.loc[years].T\n",
    "    .rename_axis(['name', 'unit'])\n",
    "    .reset_index()\n",
    "    .set_index('name')\n",
    "    for k, df in zip(\n",
    "        ['emis', 'emis_co2__cumsum', 'conc'],\n",
    "        [df_emis, df_emis_co2__cumsum, datain['conc_ghg']],\n",
    "    )\n",
    "}).rename_axis((None, None))"
   ]
  },
  {
   "cell_type": "code",
   "execution_count": 30,
   "metadata": {},
   "outputs": [],
   "source": [
    "year_pi = 1750\n",
    "din = InputSeries(erf=df_erf)\n",
    "obj = RfAllAR6(dfin_ref, din)"
   ]
  },
  {
   "cell_type": "code",
   "execution_count": 31,
   "metadata": {},
   "outputs": [],
   "source": [
    "obj.init__ari(datain['ari_emitted'], datain['ari_emitted_std'])\n",
    "obj.init__aci(datain['aci_cal'])\n",
    "obj.init__o3(\n",
    "    datain['temp_obs'],\n",
    "    datain['skeie_ozone_trop'],\n",
    "    datain['skeie_ozone_strat'],\n",
    ")"
   ]
  },
  {
   "cell_type": "code",
   "execution_count": 32,
   "metadata": {},
   "outputs": [],
   "source": [
    "df_conc_ghg = datain['conc_ghg'].droplevel(1, axis=1)\n",
    "df_emis_slcf = datain['emis_slcf'].droplevel(1, axis=1)\n",
    "df_emis_co2 = datain['emis_co2'].droplevel(1, axis=1)"
   ]
  },
  {
   "cell_type": "code",
   "execution_count": 33,
   "metadata": {},
   "outputs": [],
   "source": [
    "idx_time = df_conc_ghg.index"
   ]
  },
  {
   "cell_type": "code",
   "execution_count": 34,
   "metadata": {},
   "outputs": [],
   "source": [
    "forcing = {}\n",
    "forcing_ens = {}"
   ]
  },
  {
   "cell_type": "code",
   "execution_count": 35,
   "metadata": {},
   "outputs": [],
   "source": [
    "# contrails, solar, and volcanics\n",
    "for k, v in obj.erf__others().items():\n",
    "    forcing[k] = v.rename(None).values"
   ]
  },
  {
   "cell_type": "code",
   "execution_count": 36,
   "metadata": {},
   "outputs": [],
   "source": [
    "cat = 'solar'\n",
    "# as AR6, trend extended to 2023, but with 2019 end\n",
    "d1 = pd.Series(np.nan, index=idx_time)\n",
    "d1.loc[1750] = 0.\n",
    "d1.loc[2019:] = 1.\n",
    "d1 = d1.interpolate()\n",
    "forcing_ens[cat] = (\n",
    "    d1.values[:, None] * trend_solar.values[None, :]\n",
    "    + forcing[cat][:, None] * scale_df[cat].values[None, :]\n",
    ")"
   ]
  },
  {
   "cell_type": "code",
   "execution_count": 37,
   "metadata": {},
   "outputs": [],
   "source": [
    "cat = 'aerosol-radiation_interactions'\n",
    "forcing[cat] = obj.erf__ari(df_emis_slcf, df_conc_ghg).values\n",
    "\n",
    "dfin = obj.save__ari_dfin\n",
    "radeff_ens = obj.ari__radeff_ens[dfin.keys()]\n",
    "forcing_ens[cat] = (\n",
    "    dfin.values[:, None, :] * radeff_ens.values[None, :, :]\n",
    ").sum(axis=2)"
   ]
  },
  {
   "cell_type": "code",
   "execution_count": 38,
   "metadata": {},
   "outputs": [],
   "source": [
    "cat = 'aerosol-cloud_interactions'\n",
    "forcing[cat] = obj.erf__aci(df_emis_slcf).values\n",
    "forcing_ens[cat] = obj.save__aci_ens.values"
   ]
  },
  {
   "cell_type": "code",
   "execution_count": 39,
   "metadata": {},
   "outputs": [],
   "source": [
    "cat = 'land_use'\n",
    "forcing[cat] = obj.erf__land_use(df_emis_co2).values"
   ]
  },
  {
   "cell_type": "code",
   "execution_count": 40,
   "metadata": {},
   "outputs": [],
   "source": [
    "cat = 'BC_on_snow'\n",
    "forcing[cat] = obj.erf__bc_on_snow(df_emis_slcf).values"
   ]
  },
  {
   "cell_type": "code",
   "execution_count": 41,
   "metadata": {},
   "outputs": [],
   "source": [
    "# Greenhouse gas concentrations\n",
    "df_erf_ghgs = obj.erf__ghg(df_conc_ghg, agg_minor=False)\n",
    "df_erf_ghgs_agg = obj.erf__ghg(df_conc_ghg, agg_minor='halogen')\n",
    "\n",
    "for k, v in df_erf_ghgs.iteritems():\n",
    "    forcing[k] = v.rename(None).values"
   ]
  },
  {
   "cell_type": "code",
   "execution_count": 42,
   "metadata": {},
   "outputs": [],
   "source": [
    "cat = 'O3'\n",
    "forcing[cat] = obj.erf__o3(df_emis_slcf, df_conc_ghg).values"
   ]
  },
  {
   "cell_type": "code",
   "execution_count": 43,
   "metadata": {},
   "outputs": [],
   "source": [
    "cat = 'H2O_stratospheric'\n",
    "forcing[cat] = obj.erf__h2o_strat(df_erf_ghgs).values"
   ]
  },
  {
   "cell_type": "markdown",
   "metadata": {},
   "source": [
    "## Comparison with original output"
   ]
  },
  {
   "cell_type": "code",
   "execution_count": 44,
   "metadata": {},
   "outputs": [
    {
     "name": "stderr",
     "output_type": "stream",
     "text": [
      "[2024-12-12 15:54:39 mce.util.io] INFO:Use local file datain/ClimateIndicator/forcing-timeseries/output/ERF_best_1750-2023.csv retrieved from https://github.com/ClimateIndicator/forcing-timeseries/raw/main/output/ERF_best_1750-2023.csv on 2024-10-31\n",
      "[2024-12-12 15:54:39 mce.util.io] INFO:Use local file datain/ClimateIndicator/forcing-timeseries/output/ERF_best_aggregates_1750-2023.csv retrieved from https://github.com/ClimateIndicator/forcing-timeseries/raw/main/output/ERF_best_aggregates_1750-2023.csv on 2024-10-11\n",
      "[2024-12-12 15:54:39 mce.util.io] INFO:Use local file datain/ClimateIndicator/forcing-timeseries/output/ERF_p05_aggregates_1750-2023.csv retrieved from https://github.com/ClimateIndicator/forcing-timeseries/raw/main/output/ERF_p05_aggregates_1750-2023.csv on 2024-12-02\n",
      "[2024-12-12 15:54:39 mce.util.io] INFO:Use local file datain/ClimateIndicator/forcing-timeseries/output/ERF_p95_aggregates_1750-2023.csv retrieved from https://github.com/ClimateIndicator/forcing-timeseries/raw/main/output/ERF_p95_aggregates_1750-2023.csv on 2024-12-02\n"
     ]
    }
   ],
   "source": [
    "path = repo.retrieve('output/ERF_best_1750-2023.csv')\n",
    "df_erf_ref = pd.read_csv(path, index_col=0)\n",
    "\n",
    "df = {}\n",
    "for x in ['best', 'p05', 'p95']:\n",
    "    path = repo.retrieve(f'output/ERF_{x}_aggregates_1750-2023.csv')\n",
    "    df[x] = pd.read_csv(path, index_col=0)\n",
    "\n",
    "df_erf_agg_ref = pd.concat(df, axis=1)"
   ]
  },
  {
   "cell_type": "code",
   "execution_count": 45,
   "metadata": {},
   "outputs": [
    {
     "data": {
      "text/plain": [
       "True"
      ]
     },
     "execution_count": 45,
     "metadata": {},
     "output_type": "execute_result"
    }
   ],
   "source": [
    "df = pd.DataFrame(forcing, index=idx_time)\n",
    "np.allclose(df, df_erf_ref[df.columns])"
   ]
  },
  {
   "cell_type": "code",
   "execution_count": 46,
   "metadata": {},
   "outputs": [
    {
     "data": {
      "text/html": [
       "<div>\n",
       "<style scoped>\n",
       "    .dataframe tbody tr th:only-of-type {\n",
       "        vertical-align: middle;\n",
       "    }\n",
       "\n",
       "    .dataframe tbody tr th {\n",
       "        vertical-align: top;\n",
       "    }\n",
       "\n",
       "    .dataframe thead th {\n",
       "        text-align: right;\n",
       "    }\n",
       "</style>\n",
       "<table border=\"1\" class=\"dataframe\">\n",
       "  <thead>\n",
       "    <tr style=\"text-align: right;\">\n",
       "      <th></th>\n",
       "      <th>CO2</th>\n",
       "      <th>CH4</th>\n",
       "      <th>N2O</th>\n",
       "      <th>halogen</th>\n",
       "      <th>O3</th>\n",
       "      <th>aerosol-radiation_interactions</th>\n",
       "      <th>aerosol-cloud_interactions</th>\n",
       "      <th>land_use</th>\n",
       "      <th>BC_on_snow</th>\n",
       "      <th>H2O_stratospheric</th>\n",
       "      <th>contrails</th>\n",
       "      <th>solar</th>\n",
       "      <th>volcanic</th>\n",
       "    </tr>\n",
       "  </thead>\n",
       "  <tbody>\n",
       "    <tr>\n",
       "      <th>1750</th>\n",
       "      <td>0.000000</td>\n",
       "      <td>0.000000</td>\n",
       "      <td>0.000000</td>\n",
       "      <td>0.000000e+00</td>\n",
       "      <td>0.000000</td>\n",
       "      <td>0.000000</td>\n",
       "      <td>0.000000</td>\n",
       "      <td>-0.000000</td>\n",
       "      <td>0.000000</td>\n",
       "      <td>0.000000</td>\n",
       "      <td>0.000000</td>\n",
       "      <td>0.097590</td>\n",
       "      <td>0.246412</td>\n",
       "    </tr>\n",
       "    <tr>\n",
       "      <th>1751</th>\n",
       "      <td>0.001417</td>\n",
       "      <td>0.000508</td>\n",
       "      <td>0.000074</td>\n",
       "      <td>7.958010e-10</td>\n",
       "      <td>-0.000383</td>\n",
       "      <td>0.000312</td>\n",
       "      <td>0.003303</td>\n",
       "      <td>-0.000007</td>\n",
       "      <td>-0.000366</td>\n",
       "      <td>0.000047</td>\n",
       "      <td>0.000000</td>\n",
       "      <td>0.079244</td>\n",
       "      <td>0.246420</td>\n",
       "    </tr>\n",
       "    <tr>\n",
       "      <th>1752</th>\n",
       "      <td>0.002833</td>\n",
       "      <td>0.001016</td>\n",
       "      <td>0.000148</td>\n",
       "      <td>1.591602e-09</td>\n",
       "      <td>-0.000318</td>\n",
       "      <td>0.000621</td>\n",
       "      <td>0.004770</td>\n",
       "      <td>-0.000020</td>\n",
       "      <td>-0.000493</td>\n",
       "      <td>0.000093</td>\n",
       "      <td>0.000000</td>\n",
       "      <td>0.049166</td>\n",
       "      <td>0.246422</td>\n",
       "    </tr>\n",
       "    <tr>\n",
       "      <th>1753</th>\n",
       "      <td>0.004249</td>\n",
       "      <td>0.001524</td>\n",
       "      <td>0.000222</td>\n",
       "      <td>2.387403e-09</td>\n",
       "      <td>-0.000089</td>\n",
       "      <td>0.000006</td>\n",
       "      <td>0.002776</td>\n",
       "      <td>-0.000037</td>\n",
       "      <td>-0.000379</td>\n",
       "      <td>0.000140</td>\n",
       "      <td>0.000000</td>\n",
       "      <td>0.012988</td>\n",
       "      <td>0.246423</td>\n",
       "    </tr>\n",
       "    <tr>\n",
       "      <th>1754</th>\n",
       "      <td>0.005665</td>\n",
       "      <td>0.002031</td>\n",
       "      <td>0.000296</td>\n",
       "      <td>3.183204e-09</td>\n",
       "      <td>0.000722</td>\n",
       "      <td>-0.001207</td>\n",
       "      <td>-0.002953</td>\n",
       "      <td>-0.000059</td>\n",
       "      <td>0.000028</td>\n",
       "      <td>0.000187</td>\n",
       "      <td>0.000000</td>\n",
       "      <td>-0.021427</td>\n",
       "      <td>-0.116729</td>\n",
       "    </tr>\n",
       "    <tr>\n",
       "      <th>...</th>\n",
       "      <td>...</td>\n",
       "      <td>...</td>\n",
       "      <td>...</td>\n",
       "      <td>...</td>\n",
       "      <td>...</td>\n",
       "      <td>...</td>\n",
       "      <td>...</td>\n",
       "      <td>...</td>\n",
       "      <td>...</td>\n",
       "      <td>...</td>\n",
       "      <td>...</td>\n",
       "      <td>...</td>\n",
       "      <td>...</td>\n",
       "    </tr>\n",
       "    <tr>\n",
       "      <th>2019</th>\n",
       "      <td>2.157749</td>\n",
       "      <td>0.543972</td>\n",
       "      <td>0.208488</td>\n",
       "      <td>4.081485e-01</td>\n",
       "      <td>0.483879</td>\n",
       "      <td>-0.242714</td>\n",
       "      <td>-0.903946</td>\n",
       "      <td>-0.200000</td>\n",
       "      <td>0.080000</td>\n",
       "      <td>0.050000</td>\n",
       "      <td>0.061541</td>\n",
       "      <td>-0.022173</td>\n",
       "      <td>0.133221</td>\n",
       "    </tr>\n",
       "    <tr>\n",
       "      <th>2020</th>\n",
       "      <td>2.190500</td>\n",
       "      <td>0.548546</td>\n",
       "      <td>0.212231</td>\n",
       "      <td>4.087011e-01</td>\n",
       "      <td>0.466118</td>\n",
       "      <td>-0.194643</td>\n",
       "      <td>-0.791027</td>\n",
       "      <td>-0.200956</td>\n",
       "      <td>0.073532</td>\n",
       "      <td>0.050420</td>\n",
       "      <td>0.030676</td>\n",
       "      <td>-0.016969</td>\n",
       "      <td>0.096304</td>\n",
       "    </tr>\n",
       "    <tr>\n",
       "      <th>2021</th>\n",
       "      <td>2.221573</td>\n",
       "      <td>0.554765</td>\n",
       "      <td>0.216261</td>\n",
       "      <td>4.096640e-01</td>\n",
       "      <td>0.483894</td>\n",
       "      <td>-0.228537</td>\n",
       "      <td>-0.873016</td>\n",
       "      <td>-0.201917</td>\n",
       "      <td>0.079076</td>\n",
       "      <td>0.050992</td>\n",
       "      <td>0.036909</td>\n",
       "      <td>0.019557</td>\n",
       "      <td>0.153448</td>\n",
       "    </tr>\n",
       "    <tr>\n",
       "      <th>2022</th>\n",
       "      <td>2.253999</td>\n",
       "      <td>0.560691</td>\n",
       "      <td>0.220281</td>\n",
       "      <td>4.106025e-01</td>\n",
       "      <td>0.475106</td>\n",
       "      <td>-0.198474</td>\n",
       "      <td>-0.766242</td>\n",
       "      <td>-0.202876</td>\n",
       "      <td>0.069397</td>\n",
       "      <td>0.051537</td>\n",
       "      <td>0.040946</td>\n",
       "      <td>0.059393</td>\n",
       "      <td>0.095918</td>\n",
       "    </tr>\n",
       "    <tr>\n",
       "      <th>2023</th>\n",
       "      <td>2.284367</td>\n",
       "      <td>0.564581</td>\n",
       "      <td>0.223368</td>\n",
       "      <td>4.107258e-01</td>\n",
       "      <td>0.505961</td>\n",
       "      <td>-0.261172</td>\n",
       "      <td>-0.910830</td>\n",
       "      <td>-0.203773</td>\n",
       "      <td>0.077565</td>\n",
       "      <td>0.051894</td>\n",
       "      <td>0.050060</td>\n",
       "      <td>0.081982</td>\n",
       "      <td>0.207454</td>\n",
       "    </tr>\n",
       "  </tbody>\n",
       "</table>\n",
       "<p>274 rows × 13 columns</p>\n",
       "</div>"
      ],
      "text/plain": [
       "           CO2       CH4       N2O       halogen        O3  \\\n",
       "1750  0.000000  0.000000  0.000000  0.000000e+00  0.000000   \n",
       "1751  0.001417  0.000508  0.000074  7.958010e-10 -0.000383   \n",
       "1752  0.002833  0.001016  0.000148  1.591602e-09 -0.000318   \n",
       "1753  0.004249  0.001524  0.000222  2.387403e-09 -0.000089   \n",
       "1754  0.005665  0.002031  0.000296  3.183204e-09  0.000722   \n",
       "...        ...       ...       ...           ...       ...   \n",
       "2019  2.157749  0.543972  0.208488  4.081485e-01  0.483879   \n",
       "2020  2.190500  0.548546  0.212231  4.087011e-01  0.466118   \n",
       "2021  2.221573  0.554765  0.216261  4.096640e-01  0.483894   \n",
       "2022  2.253999  0.560691  0.220281  4.106025e-01  0.475106   \n",
       "2023  2.284367  0.564581  0.223368  4.107258e-01  0.505961   \n",
       "\n",
       "      aerosol-radiation_interactions  aerosol-cloud_interactions  land_use  \\\n",
       "1750                        0.000000                    0.000000 -0.000000   \n",
       "1751                        0.000312                    0.003303 -0.000007   \n",
       "1752                        0.000621                    0.004770 -0.000020   \n",
       "1753                        0.000006                    0.002776 -0.000037   \n",
       "1754                       -0.001207                   -0.002953 -0.000059   \n",
       "...                              ...                         ...       ...   \n",
       "2019                       -0.242714                   -0.903946 -0.200000   \n",
       "2020                       -0.194643                   -0.791027 -0.200956   \n",
       "2021                       -0.228537                   -0.873016 -0.201917   \n",
       "2022                       -0.198474                   -0.766242 -0.202876   \n",
       "2023                       -0.261172                   -0.910830 -0.203773   \n",
       "\n",
       "      BC_on_snow  H2O_stratospheric  contrails     solar  volcanic  \n",
       "1750    0.000000           0.000000   0.000000  0.097590  0.246412  \n",
       "1751   -0.000366           0.000047   0.000000  0.079244  0.246420  \n",
       "1752   -0.000493           0.000093   0.000000  0.049166  0.246422  \n",
       "1753   -0.000379           0.000140   0.000000  0.012988  0.246423  \n",
       "1754    0.000028           0.000187   0.000000 -0.021427 -0.116729  \n",
       "...          ...                ...        ...       ...       ...  \n",
       "2019    0.080000           0.050000   0.061541 -0.022173  0.133221  \n",
       "2020    0.073532           0.050420   0.030676 -0.016969  0.096304  \n",
       "2021    0.079076           0.050992   0.036909  0.019557  0.153448  \n",
       "2022    0.069397           0.051537   0.040946  0.059393  0.095918  \n",
       "2023    0.077565           0.051894   0.050060  0.081982  0.207454  \n",
       "\n",
       "[274 rows x 13 columns]"
      ]
     },
     "execution_count": 46,
     "metadata": {},
     "output_type": "execute_result"
    }
   ],
   "source": [
    "cats = [\n",
    "    'CO2',\n",
    "    'CH4',\n",
    "    'N2O',\n",
    "    'halogen',\n",
    "    'O3',\n",
    "    'aerosol-radiation_interactions',\n",
    "    'aerosol-cloud_interactions',\n",
    "    'land_use',\n",
    "    'BC_on_snow',\n",
    "    'H2O_stratospheric',\n",
    "    'contrails',\n",
    "    'solar',\n",
    "    'volcanic',\n",
    "]\n",
    "pd.concat([\n",
    "    df.drop(species_halogen, axis=1),\n",
    "    df_erf_ghgs_agg[['halogen']],\n",
    "], axis=1)[cats]"
   ]
  },
  {
   "cell_type": "code",
   "execution_count": 47,
   "metadata": {},
   "outputs": [
    {
     "name": "stdout",
     "output_type": "stream",
     "text": [
      "solar True\n",
      "aerosol-radiation_interactions True\n",
      "aerosol-cloud_interactions True\n"
     ]
    }
   ],
   "source": [
    "for cat, ens in forcing_ens.items():\n",
    "    print(\n",
    "        cat,\n",
    "        np.allclose(\n",
    "            np.percentile(ens, [5, 95], axis=1).T,\n",
    "            df_erf_agg_ref[[('p05', cat), ('p95', cat)]]\n",
    "        ),\n",
    "    )"
   ]
  },
  {
   "cell_type": "code",
   "execution_count": 48,
   "metadata": {},
   "outputs": [
    {
     "name": "stdout",
     "output_type": "stream",
     "text": [
      "contrails True\n",
      "volcanic True\n",
      "land_use True\n",
      "BC_on_snow True\n",
      "CO2 True\n",
      "CH4 True\n",
      "N2O True\n",
      "O3 True\n",
      "H2O_stratospheric True\n"
     ]
    }
   ],
   "source": [
    "for cat, d1 in forcing.items():\n",
    "    if cat in list(forcing_ens) + species_halogen:\n",
    "        continue\n",
    "\n",
    "    ens = d1[:, None] * scale_df[cat].values[None, :]\n",
    "    print(\n",
    "        cat,\n",
    "        np.allclose(\n",
    "            np.percentile(ens, [5, 95], axis=1).T,\n",
    "            df_erf_agg_ref[[('p05', cat), ('p95', cat)]]\n",
    "        ),\n",
    "    )"
   ]
  },
  {
   "cell_type": "code",
   "execution_count": 49,
   "metadata": {},
   "outputs": [
    {
     "data": {
      "text/plain": [
       "True"
      ]
     },
     "execution_count": 49,
     "metadata": {},
     "output_type": "execute_result"
    }
   ],
   "source": [
    "ens = 0.\n",
    "\n",
    "for cat, d1 in forcing.items():\n",
    "    if cat not in species_halogen:\n",
    "        continue\n",
    "\n",
    "    ens += d1[:, None] * scale_df[cat].values[None, :]\n",
    "\n",
    "cat = 'halogen'\n",
    "np.allclose(\n",
    "    np.percentile(ens, [5, 95], axis=1).T,\n",
    "    df_erf_agg_ref[[('p05', cat), ('p95', cat)]]\n",
    ")"
   ]
  },
  {
   "cell_type": "markdown",
   "metadata": {},
   "source": [
    "## Saved data"
   ]
  },
  {
   "cell_type": "code",
   "execution_count": 55,
   "metadata": {},
   "outputs": [
    {
     "name": "stdout",
     "output_type": "stream",
     "text": [
      "aci_cal: Forcing uncertainty ensemble related to aerosol-cloud interactions\n",
      "ari_emitted: Reference radiative forcing by SLCF species\n",
      "ari_emitted_std: Standard deviations of reference radiative forcing by SLCF species\n",
      "conc_ghg: Concentrations of GHGs in 1750-2023\n",
      "emis_co2: Emissions of CO2 in 1750-2023\n",
      "emis_slcf: Emissions of SLCFs in 1750-2023\n",
      "erf_contrails: Effective radiative forcing of contrails and contrail-induced cirrus in 1750-2023\n",
      "erf_solar: Effective radiative forcing of solar irradiance in 1750-2023\n",
      "erf_volcanic: Effective radiative forcing of volcanic activity in 1750-2023\n",
      "scale_df: Forcing uncertainty ensemble of scale factors by agent\n",
      "skeie_ozone_strat: Reference radiative forcing of stratospheric ozone\n",
      "skeie_ozone_trop: Reference radiative forcing of tropospheric ozone\n",
      "temp_obs: Temperature time series used for temperature feedback of ozone forcing\n",
      "trend_solar: Forcing uncertainty ensemble of solar trend\n"
     ]
    }
   ],
   "source": [
    "with h5py.File(outpath, 'r') as f1:\n",
    "    grp = f1[dname]\n",
    "    grp.visititems(\n",
    "        lambda name, obj:\n",
    "        print('{}: {}'.format(name, obj.attrs['description']))\n",
    "        if isinstance(obj, h5py.Group) else None\n",
    "    )"
   ]
  }
 ],
 "metadata": {
  "kernelspec": {
   "display_name": "Python 3 (ipykernel)",
   "language": "python",
   "name": "python3"
  },
  "language_info": {
   "codemirror_mode": {
    "name": "ipython",
    "version": 3
   },
   "file_extension": ".py",
   "mimetype": "text/x-python",
   "name": "python",
   "nbconvert_exporter": "python",
   "pygments_lexer": "ipython3",
   "version": "3.12.3"
  }
 },
 "nbformat": 4,
 "nbformat_minor": 2
}
