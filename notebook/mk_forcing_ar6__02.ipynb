{
 "cells": [
  {
   "cell_type": "markdown",
   "metadata": {},
   "source": [
    "# AR6-based forcing. Part 2\n",
    "\n",
    "Based on `12_make-forcing.py` and `13_radiative-forcing-barchart.py`\n",
    "in https://github.com/ClimateIndicator/forcing-timeseries/notebooks"
   ]
  },
  {
   "cell_type": "code",
   "execution_count": 1,
   "metadata": {},
   "outputs": [],
   "source": [
    "import numpy as np\n",
    "import pandas as pd\n",
    "import h5py\n",
    "from scipy.stats import linregress\n",
    "from mce import MCEExecError\n",
    "from mce.core import ScenarioBase\n",
    "from mce.core.forcing_ar6 import RfAllAR6\n",
    "from mce.util.io import RetrieveGitHub"
   ]
  },
  {
   "cell_type": "markdown",
   "metadata": {},
   "source": [
    "## Reference data"
   ]
  },
  {
   "cell_type": "code",
   "execution_count": 2,
   "metadata": {},
   "outputs": [],
   "source": [
    "repo = RetrieveGitHub('ClimateIndicator', 'forcing-timeseries', 'datain')"
   ]
  },
  {
   "cell_type": "code",
   "execution_count": 3,
   "metadata": {},
   "outputs": [
    {
     "name": "stderr",
     "output_type": "stream",
     "text": [
      "[2025-03-18 10:57:33 mce.util.io] INFO:Use local file datain/ClimateIndicator/forcing-timeseries/output/ERF_best_1750-2024.csv retrieved from https://github.com/ClimateIndicator/forcing-timeseries/raw/main/output/ERF_best_1750-2024.csv on 2025-03-11\n",
      "[2025-03-18 10:57:33 mce.util.io] INFO:Use local file datain/ClimateIndicator/forcing-timeseries/output/ERF_best_aggregates_1750-2024.csv retrieved from https://github.com/ClimateIndicator/forcing-timeseries/raw/main/output/ERF_best_aggregates_1750-2024.csv on 2025-03-11\n",
      "[2025-03-18 10:57:33 mce.util.io] INFO:Use local file datain/ClimateIndicator/forcing-timeseries/output/ERF_p05_aggregates_1750-2024.csv retrieved from https://github.com/ClimateIndicator/forcing-timeseries/raw/main/output/ERF_p05_aggregates_1750-2024.csv on 2025-03-11\n",
      "[2025-03-18 10:57:33 mce.util.io] INFO:Use local file datain/ClimateIndicator/forcing-timeseries/output/ERF_p95_aggregates_1750-2024.csv retrieved from https://github.com/ClimateIndicator/forcing-timeseries/raw/main/output/ERF_p95_aggregates_1750-2024.csv on 2025-03-11\n"
     ]
    }
   ],
   "source": [
    "dfref = {}\n",
    "path = repo.retrieve('output/ERF_best_1750-2024.csv')\n",
    "dfref['erf_best'] = pd.read_csv(path, index_col=0)\n",
    "path = repo.retrieve('output/ERF_best_aggregates_1750-2024.csv')\n",
    "dfref['erf_best_agg'] = pd.read_csv(path, index_col=0).rename(int)\n",
    "path = repo.retrieve('output/ERF_p05_aggregates_1750-2024.csv')\n",
    "dfref['erf_p05_agg'] = pd.read_csv(path, index_col=0).rename(int)\n",
    "path = repo.retrieve('output/ERF_p95_aggregates_1750-2024.csv')\n",
    "dfref['erf_p95_agg'] = pd.read_csv(path, index_col=0).rename(int)"
   ]
  },
  {
   "cell_type": "markdown",
   "metadata": {},
   "source": [
    "## Input data\n",
    "\n",
    "### Indicators of Global Climate Change"
   ]
  },
  {
   "cell_type": "code",
   "execution_count": 4,
   "metadata": {},
   "outputs": [],
   "source": [
    "h5f = h5py.File('untracked/datain.h5', 'r')\n",
    "dgrp = h5f['ClimateIndicator-2024/forcing-timeseries']"
   ]
  },
  {
   "cell_type": "code",
   "execution_count": 5,
   "metadata": {},
   "outputs": [
    {
     "name": "stdout",
     "output_type": "stream",
     "text": [
      "aci_cal: Forcing uncertainty ensemble related to aerosol-cloud interactions\n",
      "ari_emitted: Reference radiative forcing by SLCF species\n",
      "skeie_ozone_strat: Reference radiative forcing of stratospheric ozone\n",
      "skeie_ozone_trop: Reference radiative forcing of tropospheric ozone\n",
      "timeseries/erf_contrails: Effective radiative forcing of contrails and contrail-induced cirrus from 1930 to 2024\n",
      "timeseries/erf_irrigation: Land use forcing due to irrigation\n",
      "timeseries/erf_solar: Effective radiative forcing of solar irradiance from -6755 to 2299\n",
      "timeseries/erf_volcanic: Effective radiative forcing of volcanic activity from -9499 to 2024\n",
      "timeseries/gcp_emissions: Emissions of CO2 from 1750 to 2024\n",
      "timeseries/ghg_concentrations: Concentrations of GHGs from 1750 to 2024\n",
      "timeseries/sarf_landuse: Land use forcing due to albedo change\n",
      "timeseries/slcf_emissions: Emissions of SLCF species from 1750 to 2024\n",
      "timeseries/temp_obs: Temperature time series used for temperature feedback of ozone forcing from 1850 to 2023\n",
      "unc/scale: Forcing uncertainty ensemble of scale factors by agent\n",
      "unc/trend_solar: Forcing uncertainty ensemble of solar trend\n"
     ]
    }
   ],
   "source": [
    "def func(name, obj):\n",
    "    desc = obj.attrs.get('description')\n",
    "    if desc is not None:\n",
    "        print('{}: {}'.format(name, desc))\n",
    "\n",
    "dgrp.visititems(func)"
   ]
  },
  {
   "cell_type": "markdown",
   "metadata": {},
   "source": [
    "### Construct input timeseries"
   ]
  },
  {
   "cell_type": "code",
   "execution_count": 6,
   "metadata": {},
   "outputs": [],
   "source": [
    "class Scenario(ScenarioBase):\n",
    "    def init_process(self, name, dgrp_in, **kw):\n",
    "        year = np.arange(1750, 2024+1)\n",
    "\n",
    "        # GHG concentrations\n",
    "        gin = dgrp_in['timeseries/ghg_concentrations']\n",
    "        gout = self.file.create_group(f'{name}/input/conc')\n",
    "        dset = gout.create_dataset('time', data=year)\n",
    "        dset.attrs['units'] = 'yr'\n",
    "        df = pd.DataFrame({\n",
    "            k: v[:] for k, v in gin.items()\n",
    "        }).set_index('year').rename_axis(None)\n",
    "        df = df.reindex(year).interpolate()\n",
    "        for k, v in df.items():\n",
    "            dset = gout.create_dataset(k, data=v.values)\n",
    "            dset.attrs['units'] = gin[k].attrs['units']\n",
    "\n",
    "        # CO2 emissions\n",
    "        gin = dgrp_in['timeseries/gcp_emissions']\n",
    "        if not np.array_equal(year, gin['year'][:]):\n",
    "            raise MCEExecError('inconsistent year')\n",
    "\n",
    "        gout = self.file.create_group(f'{name}/input/emis_co2')\n",
    "        dset = gout.create_dataset('time', data=year)\n",
    "        dset.attrs['units'] = 'yr'\n",
    "        for k, v in gin.items():\n",
    "            if k == 'year':\n",
    "                continue\n",
    "\n",
    "            dset = gout.create_dataset(k, data=v[:])\n",
    "            dset.attrs['units'] = v.attrs['units']\n",
    "\n",
    "        # SLCF emissions\n",
    "        gin = dgrp_in['timeseries/slcf_emissions']\n",
    "        if not np.array_equal(year, gin['year'][:]):\n",
    "            raise MCEExecError('inconsistent year')\n",
    "\n",
    "        gout = self.file.create_group(f'{name}/input/emis_slcf')\n",
    "        dset = gout.create_dataset('time', data=year)\n",
    "        dset.attrs['units'] = 'yr'\n",
    "        for k, v in gin.items():\n",
    "            if k == 'year':\n",
    "                continue\n",
    "\n",
    "            dset = gout.create_dataset(k, data=v[:])\n",
    "            dset.attrs['units'] = v.attrs['units']\n",
    "\n",
    "        # ERF of land_use, contrails, solar, and volcanics\n",
    "        gout = self.file.create_group(f'{name}/input/erf_other')\n",
    "        dset = gout.create_dataset('time', data=year)\n",
    "        dset.attrs['units'] = 'yr'\n",
    "\n",
    "        gin = dgrp_in['timeseries/sarf_landuse']\n",
    "        d1 = pd.Series(gin['LUH2-GCB2024'][:], index=gin['year'][:])\n",
    "        d1 *= -0.15 / d1.loc[2004]\n",
    "        d1.loc[2024] = d1.loc[2023]\n",
    "        df = d1.to_frame('land_use')\n",
    "\n",
    "        gin = dgrp_in['timeseries/erf_irrigation']\n",
    "        d1 = pd.Series(gin['value'][:], index=gin['year'][:])\n",
    "        lr = linregress(d1.loc[2013:].index, d1.loc[2013:])\n",
    "        d1.loc[2023] = lr.slope * 2023 + lr.intercept\n",
    "        d1.loc[2024] = lr.slope * 2024 + lr.intercept\n",
    "        df['irrigation'] = d1.reindex(df.index)\n",
    "\n",
    "        for k, v in df.items():\n",
    "            dset = gout.create_dataset(k, data=v.loc[1750:].values)\n",
    "            dset.attrs['units'] = 'W m-2'\n",
    "\n",
    "        k = 'contrails'\n",
    "        gin = dgrp_in[f'timeseries/erf_{k}']\n",
    "        d1 = pd.Series(gin['value'][:], index=gin['year'][:])\n",
    "        d1 = d1.reindex(year, fill_value=0.)\n",
    "        dset = gout.create_dataset(k, data=d1.values)\n",
    "        dset.attrs['units'] = 'W m-2'\n",
    "\n",
    "        for k in ['solar', 'volcanic']:\n",
    "            gin = dgrp_in[f'timeseries/erf_{k}']\n",
    "            d1 = pd.Series(gin['value'][:], index=gin['year'][:])\n",
    "            d1 = d1.loc[year[0]:year[-1]]\n",
    "            if not np.array_equal(year, d1.index.values):\n",
    "                raise MCEExecError('inconsistent year')\n",
    "\n",
    "            dset = gout.create_dataset(k, data=d1.values)\n",
    "            dset.attrs['units'] = 'W m-2'"
   ]
  },
  {
   "cell_type": "code",
   "execution_count": 7,
   "metadata": {},
   "outputs": [
    {
     "name": "stderr",
     "output_type": "stream",
     "text": [
      "[2025-03-18 10:58:00 mce.core] INFO:untracked/scenarios.h5 already exists\n",
      "[2025-03-18 10:58:00 mce.core] INFO:file untracked/scenarios.h5 opened with mode=a\n"
     ]
    }
   ],
   "source": [
    "ds = Scenario('historical', dgrp, outpath='untracked/scenarios.h5', mode='a')"
   ]
  },
  {
   "cell_type": "code",
   "execution_count": 8,
   "metadata": {},
   "outputs": [
    {
     "data": {
      "text/plain": [
       "['conc', 'emis_co2', 'emis_slcf', 'erf_other']"
      ]
     },
     "execution_count": 8,
     "metadata": {},
     "output_type": "execute_result"
    }
   ],
   "source": [
    "ds_hist = ds.get_scenario('historical')\n",
    "list(ds_hist)"
   ]
  },
  {
   "cell_type": "code",
   "execution_count": 9,
   "metadata": {},
   "outputs": [
    {
     "name": "stderr",
     "output_type": "stream",
     "text": [
      "[2025-03-18 10:58:13 mce.core] INFO:file untracked/scenarios.h5 closed\n"
     ]
    }
   ],
   "source": [
    "ds.close()"
   ]
  },
  {
   "cell_type": "code",
   "execution_count": 10,
   "metadata": {},
   "outputs": [],
   "source": [
    "dcat = ds_hist['emis_slcf']\n",
    "df_emis_slcf = pd.DataFrame(\n",
    "    dcat['data'], index=dcat['time'], columns=dcat['variables'],\n",
    ")\n",
    "dcat = ds_hist['conc']\n",
    "df_conc = pd.DataFrame(\n",
    "    dcat['data'], index=dcat['time'], columns=dcat['variables'],\n",
    ")"
   ]
  },
  {
   "cell_type": "code",
   "execution_count": 11,
   "metadata": {},
   "outputs": [],
   "source": [
    "df_scale = pd.DataFrame({\n",
    "    k: v[:]\n",
    "    for k, v in dgrp['unc']['scale'].items()\n",
    "})\n",
    "trend_solar = pd.Series(dgrp['unc/trend_solar'][:])"
   ]
  },
  {
   "cell_type": "markdown",
   "metadata": {},
   "source": [
    "### Construct forcing instance"
   ]
  },
  {
   "cell_type": "code",
   "execution_count": 12,
   "metadata": {},
   "outputs": [],
   "source": [
    "forcing = RfAllAR6(df_emis_slcf, df_conc)"
   ]
  },
  {
   "cell_type": "code",
   "execution_count": 13,
   "metadata": {},
   "outputs": [],
   "source": [
    "gin = dgrp['ari_emitted']\n",
    "df = pd.DataFrame(\n",
    "    {k: v[:] for k, v in gin.items()},\n",
    "    index=gin.attrs['species'],\n",
    ")\n",
    "forcing.init__ari(df['mean'], df['sd'])\n",
    "\n",
    "gin = dgrp['aci_cal']\n",
    "df = pd.DataFrame(\n",
    "    {k: v[:] for k, v in gin.items()},\n",
    "    index=gin.attrs['models'],\n",
    ")\n",
    "forcing.init__aci(df)\n",
    "\n",
    "gin = dgrp['timeseries/temp_obs']\n",
    "args = [pd.Series(gin['value'][:], index=gin['year'][:])]\n",
    "\n",
    "for k in ['trop', 'strat']:\n",
    "    gin = dgrp[f'skeie_ozone_{k}']\n",
    "    args.append(\n",
    "        pd.DataFrame(\n",
    "            gin['value'][:],\n",
    "            index=gin.attrs['index_model'],\n",
    "            columns=gin.attrs['columns_year'],\n",
    "        )\n",
    "    )\n",
    "\n",
    "forcing.init__o3(*args)"
   ]
  },
  {
   "cell_type": "code",
   "execution_count": 14,
   "metadata": {},
   "outputs": [],
   "source": [
    "h5f.close()"
   ]
  },
  {
   "cell_type": "markdown",
   "metadata": {},
   "source": [
    "## Make ERF timeseries\n",
    "\n",
    "### Best estimate"
   ]
  },
  {
   "cell_type": "code",
   "execution_count": 15,
   "metadata": {},
   "outputs": [],
   "source": [
    "df = forcing.erf__ghg_minor(df_conc)\n",
    "ghgs_minor = df.columns.tolist()\n",
    "\n",
    "erf_best = pd.concat([\n",
    "    forcing.erf__ghg_major(df_conc),\n",
    "    df,\n",
    "], axis=1)"
   ]
  },
  {
   "cell_type": "code",
   "execution_count": 16,
   "metadata": {},
   "outputs": [],
   "source": [
    "cat = 'aerosol-radiation_interactions'\n",
    "erf_best[cat] = forcing.erf__ari(df_emis_slcf, df_conc)"
   ]
  },
  {
   "cell_type": "code",
   "execution_count": 17,
   "metadata": {},
   "outputs": [],
   "source": [
    "cat = 'aerosol-cloud_interactions'\n",
    "erf_best[cat] = forcing.erf__aci(df_emis_slcf)"
   ]
  },
  {
   "cell_type": "code",
   "execution_count": 18,
   "metadata": {},
   "outputs": [],
   "source": [
    "cat = 'O3'\n",
    "erf_best[cat] = forcing.erf__o3(df_emis_slcf, df_conc)"
   ]
  },
  {
   "cell_type": "code",
   "execution_count": 19,
   "metadata": {},
   "outputs": [],
   "source": [
    "cat = 'BC_on_snow'\n",
    "d1 = df_emis_slcf['BC']\n",
    "erf_best[cat] = forcing.bc_on_snow__factor * (d1 - d1.loc[1750])"
   ]
  },
  {
   "cell_type": "code",
   "execution_count": 20,
   "metadata": {},
   "outputs": [],
   "source": [
    "cat = 'H2O_stratospheric'\n",
    "d1 = df_conc['CH4']\n",
    "erf_best[cat] = forcing.h2o_strat__factor * (d1 - d1.loc[1750])"
   ]
  },
  {
   "cell_type": "code",
   "execution_count": 21,
   "metadata": {},
   "outputs": [],
   "source": [
    "din = ds_hist['erf_other']\n",
    "df = pd.DataFrame(din['data'], index=din['time'], columns=din['variables'])\n",
    "\n",
    "cats = ['irrigation', 'land_use']\n",
    "erf_best = pd.concat([\n",
    "    erf_best,\n",
    "    df.drop(cats, axis=1),\n",
    "    df[cats].sum(axis=1).to_frame('land_use'),\n",
    "], axis=1)\n",
    "\n",
    "df__erf_other = df"
   ]
  },
  {
   "cell_type": "code",
   "execution_count": 22,
   "metadata": {},
   "outputs": [
    {
     "data": {
      "text/plain": [
       "((275, 61), (275, 61))"
      ]
     },
     "execution_count": 22,
     "metadata": {},
     "output_type": "execute_result"
    }
   ],
   "source": [
    "erf_best.shape, dfref['erf_best'].shape"
   ]
  },
  {
   "cell_type": "code",
   "execution_count": 23,
   "metadata": {},
   "outputs": [
    {
     "data": {
      "text/plain": [
       "True"
      ]
     },
     "execution_count": 23,
     "metadata": {},
     "output_type": "execute_result"
    }
   ],
   "source": [
    "np.allclose(\n",
    "    erf_best,\n",
    "    dfref['erf_best'][erf_best.columns],\n",
    ")"
   ]
  },
  {
   "cell_type": "code",
   "execution_count": 24,
   "metadata": {},
   "outputs": [],
   "source": [
    "erf_best_agg = erf_best.drop(ghgs_minor, axis=1)"
   ]
  },
  {
   "cell_type": "code",
   "execution_count": 25,
   "metadata": {},
   "outputs": [],
   "source": [
    "cats = ['aerosol-radiation_interactions', 'aerosol-cloud_interactions']\n",
    "erf_best_agg['aerosol'] = erf_best[cats].sum(axis=1)\n",
    "\n",
    "erf_best_agg['halogen'] = erf_best[ghgs_minor].sum(axis=1)\n",
    "erf_best_agg['nonco2wmghg'] = erf_best[['CH4', 'N2O'] + ghgs_minor].sum(axis=1)\n",
    "\n",
    "cats = ['H2O_stratospheric', 'contrails', 'BC_on_snow', 'land_use']\n",
    "erf_best_agg['minor'] = erf_best[cats].sum(axis=1)\n",
    "\n",
    "cats = ['solar', 'volcanic']\n",
    "erf_best_agg['anthro'] = erf_best.drop(cats, axis=1).sum(axis=1)\n",
    "\n",
    "erf_best_agg['total'] = erf_best.sum(axis=1)"
   ]
  },
  {
   "cell_type": "code",
   "execution_count": 26,
   "metadata": {},
   "outputs": [
    {
     "data": {
      "text/plain": [
       "((275, 18), (275, 18))"
      ]
     },
     "execution_count": 26,
     "metadata": {},
     "output_type": "execute_result"
    }
   ],
   "source": [
    "erf_best_agg.shape, dfref['erf_best_agg'].shape"
   ]
  },
  {
   "cell_type": "code",
   "execution_count": 27,
   "metadata": {},
   "outputs": [
    {
     "data": {
      "text/plain": [
       "True"
      ]
     },
     "execution_count": 27,
     "metadata": {},
     "output_type": "execute_result"
    }
   ],
   "source": [
    "np.allclose(\n",
    "    erf_best_agg,\n",
    "    dfref['erf_best_agg'][erf_best_agg.columns],\n",
    ")"
   ]
  },
  {
   "cell_type": "markdown",
   "metadata": {},
   "source": [
    "### 90% uncertainty range"
   ]
  },
  {
   "cell_type": "code",
   "execution_count": 28,
   "metadata": {},
   "outputs": [],
   "source": [
    "dfref_unc = pd.concat({\n",
    "    'p05': dfref['erf_p05_agg'],\n",
    "    'p95': dfref['erf_p95_agg'],\n",
    "}, axis=1).reorder_levels([1, 0], axis=1).sort_index(axis=1)"
   ]
  },
  {
   "cell_type": "code",
   "execution_count": 29,
   "metadata": {},
   "outputs": [],
   "source": [
    "cats_agg = list(erf_best_agg)"
   ]
  },
  {
   "cell_type": "code",
   "execution_count": 30,
   "metadata": {},
   "outputs": [
    {
     "data": {
      "text/plain": [
       "['aerosol', 'halogen', 'nonco2wmghg', 'minor', 'anthro', 'total']"
      ]
     },
     "execution_count": 30,
     "metadata": {},
     "output_type": "execute_result"
    }
   ],
   "source": [
    "[k for k in cats_agg if k not in erf_best]"
   ]
  },
  {
   "cell_type": "code",
   "execution_count": 31,
   "metadata": {},
   "outputs": [],
   "source": [
    "ens_agg = {\n",
    "    k: 0. for k in [\n",
    "        'aerosol',\n",
    "        'nonco2wmghg',\n",
    "        'minor',\n",
    "        'anthro',\n",
    "        'total',\n",
    "    ]\n",
    "}\n",
    "ens_agg_count = {\n",
    "    k: [] for k in [\n",
    "        'aerosol',\n",
    "        'nonco2wmghg',\n",
    "        'minor',\n",
    "        'anthro',\n",
    "        'total',\n",
    "    ]\n",
    "}\n",
    "ens_pct = {}"
   ]
  },
  {
   "cell_type": "code",
   "execution_count": 32,
   "metadata": {},
   "outputs": [],
   "source": [
    "cat = 'aerosol-radiation_interactions'\n",
    "dfin = forcing.save__ari_dfin\n",
    "radeff_ens = forcing.ari__radeff_ens[dfin.keys()]\n",
    "ens = (\n",
    "    dfin.values[:, None, :] * radeff_ens.values[None, :, :]\n",
    ").sum(axis=2)\n",
    "ens_pct[cat] = np.percentile(ens, [5, 95], axis=1).T\n",
    "\n",
    "for k in ['aerosol', 'anthro', 'total']:\n",
    "    ens_agg[k] += ens\n",
    "    ens_agg_count[k].append(cat)"
   ]
  },
  {
   "cell_type": "code",
   "execution_count": 33,
   "metadata": {},
   "outputs": [],
   "source": [
    "cat = 'aerosol-cloud_interactions'\n",
    "ens = forcing.save__aci_ens.values\n",
    "ens_pct[cat] = np.percentile(ens, [5, 95], axis=1).T\n",
    "\n",
    "for k in ['aerosol', 'anthro', 'total']:\n",
    "    ens_agg[k] += ens\n",
    "    ens_agg_count[k].append(cat)"
   ]
  },
  {
   "cell_type": "code",
   "execution_count": 34,
   "metadata": {},
   "outputs": [],
   "source": [
    "cat = 'land_use'\n",
    "ens = (\n",
    "    df__erf_other['irrigation'].values[:, None] * df_scale['irrigation'].values\n",
    "    + df__erf_other['land_use'].values[:, None] * df_scale['land_use'].values\n",
    ")\n",
    "ens_pct[cat] = np.percentile(ens, [5, 95], axis=1).T\n",
    "\n",
    "for k in ['minor', 'anthro', 'total']:\n",
    "    ens_agg[k] += ens\n",
    "    ens_agg_count[k].append(cat)"
   ]
  },
  {
   "cell_type": "code",
   "execution_count": 35,
   "metadata": {},
   "outputs": [],
   "source": [
    "cat = 'solar'\n",
    "d1 = pd.Series(np.nan, index=erf_best.index)\n",
    "d1.loc[1750] = 0.\n",
    "d1.loc[2019:] = 1.\n",
    "d1 = d1.interpolate()\n",
    "ens = (\n",
    "    erf_best[cat].values[:, None] * df_scale[cat].values\n",
    "    + d1.values[:, None] * trend_solar.values[None, :]\n",
    ")\n",
    "ens_pct[cat] = np.percentile(ens, [5, 95], axis=1).T\n",
    "\n",
    "ens_agg['total'] += ens\n",
    "ens_agg_count['total'].append(cat)"
   ]
  },
  {
   "cell_type": "code",
   "execution_count": 36,
   "metadata": {},
   "outputs": [],
   "source": [
    "cat = 'halogen'\n",
    "ens = 0.\n",
    "for k in ghgs_minor:\n",
    "    ens += erf_best[k].values[:, None] * df_scale[k].values\n",
    "\n",
    "ens_pct[cat] = np.percentile(ens, [5, 95], axis=1).T\n",
    "\n",
    "for k in [\n",
    "    'nonco2wmghg',\n",
    "    'anthro',\n",
    "    'total',\n",
    "]:\n",
    "    ens_agg[k] += ens\n",
    "    ens_agg_count[k].append(cat)"
   ]
  },
  {
   "cell_type": "code",
   "execution_count": 37,
   "metadata": {},
   "outputs": [],
   "source": [
    "for cat in cats_agg:\n",
    "    if cat in ens_pct or cat in ens_agg:\n",
    "        continue\n",
    "\n",
    "    ens = erf_best[cat].values[:, None] * df_scale[cat].values\n",
    "    ens_pct[cat] = np.percentile(ens, [5, 95], axis=1).T\n",
    "\n",
    "    ens_agg['total'] += ens\n",
    "    ens_agg_count['total'].append(cat)\n",
    "    if cat not in ['solar', 'volcanic']:\n",
    "        ens_agg['anthro'] += ens\n",
    "        ens_agg_count['anthro'].append(cat)\n",
    "    if cat in ['CH4', 'N2O']:\n",
    "        ens_agg['nonco2wmghg'] += ens\n",
    "        ens_agg_count['nonco2wmghg'].append(cat)\n",
    "        # 'halogen' counted already\n",
    "    if cat in ['H2O_stratospheric', 'contrails', 'BC_on_snow']:\n",
    "        # 'land_use' counted already\n",
    "        ens_agg['minor'] += ens\n",
    "        ens_agg_count['minor'].append(cat)"
   ]
  },
  {
   "cell_type": "code",
   "execution_count": 38,
   "metadata": {},
   "outputs": [],
   "source": [
    "for cat, ens in ens_agg.items():\n",
    "    ens_pct[cat] = np.percentile(ens, [5, 95], axis=1).T"
   ]
  },
  {
   "cell_type": "code",
   "execution_count": 39,
   "metadata": {},
   "outputs": [
    {
     "name": "stdout",
     "output_type": "stream",
     "text": [
      "0 True aerosol-radiation_interactions\n",
      "1 True aerosol-cloud_interactions\n",
      "2 True land_use\n",
      "3 True solar\n",
      "4 True halogen\n",
      "5 True CO2\n",
      "6 True CH4\n",
      "7 True N2O\n",
      "8 True O3\n",
      "9 True BC_on_snow\n",
      "10 True H2O_stratospheric\n",
      "11 True contrails\n",
      "12 True volcanic\n",
      "13 True aerosol\n",
      "14 True nonco2wmghg\n",
      "15 True minor\n",
      "16 True anthro\n",
      "17 True total\n"
     ]
    }
   ],
   "source": [
    "for i, (cat, pct) in enumerate(ens_pct.items()):\n",
    "    print(i, np.allclose(pct, dfref_unc[cat]), cat)"
   ]
  },
  {
   "cell_type": "code",
   "execution_count": 40,
   "metadata": {},
   "outputs": [
    {
     "data": {
      "text/plain": [
       "{'aerosol': ['aerosol-radiation_interactions', 'aerosol-cloud_interactions'],\n",
       " 'nonco2wmghg': ['halogen', 'CH4', 'N2O'],\n",
       " 'minor': ['land_use', 'BC_on_snow', 'H2O_stratospheric', 'contrails'],\n",
       " 'anthro': ['aerosol-radiation_interactions',\n",
       "  'aerosol-cloud_interactions',\n",
       "  'land_use',\n",
       "  'halogen',\n",
       "  'CO2',\n",
       "  'CH4',\n",
       "  'N2O',\n",
       "  'O3',\n",
       "  'BC_on_snow',\n",
       "  'H2O_stratospheric',\n",
       "  'contrails'],\n",
       " 'total': ['aerosol-radiation_interactions',\n",
       "  'aerosol-cloud_interactions',\n",
       "  'land_use',\n",
       "  'solar',\n",
       "  'halogen',\n",
       "  'CO2',\n",
       "  'CH4',\n",
       "  'N2O',\n",
       "  'O3',\n",
       "  'BC_on_snow',\n",
       "  'H2O_stratospheric',\n",
       "  'contrails',\n",
       "  'volcanic']}"
      ]
     },
     "execution_count": 40,
     "metadata": {},
     "output_type": "execute_result"
    }
   ],
   "source": [
    "ens_agg_count"
   ]
  }
 ],
 "metadata": {
  "kernelspec": {
   "display_name": "Python 3 (ipykernel)",
   "language": "python",
   "name": "python3"
  },
  "language_info": {
   "codemirror_mode": {
    "name": "ipython",
    "version": 3
   },
   "file_extension": ".py",
   "mimetype": "text/x-python",
   "name": "python",
   "nbconvert_exporter": "python",
   "pygments_lexer": "ipython3",
   "version": "3.12.8"
  }
 },
 "nbformat": 4,
 "nbformat_minor": 2
}
