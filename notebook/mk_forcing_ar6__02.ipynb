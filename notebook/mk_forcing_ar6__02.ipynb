{
 "cells": [
  {
   "cell_type": "markdown",
   "metadata": {},
   "source": [
    "# AR6-based forcing. Part 2\n",
    "\n",
    "Based on `12_make-forcing.py` and `13_radiative-forcing-barchart.py`\n",
    "in https://github.com/ClimateIndicator/forcing-timeseries"
   ]
  },
  {
   "cell_type": "code",
   "execution_count": null,
   "metadata": {},
   "outputs": [],
   "source": [
    "%cd .."
   ]
  },
  {
   "cell_type": "code",
   "execution_count": 2,
   "metadata": {},
   "outputs": [],
   "source": [
    "import pathlib\n",
    "import numpy as np\n",
    "import pandas as pd\n",
    "from scipy.stats import linregress\n",
    "from mce import MCEExecError\n",
    "from mce.core import ScenarioBase\n",
    "from mce.core.forcing_ar6 import RfAllAR6"
   ]
  },
  {
   "cell_type": "markdown",
   "metadata": {},
   "source": [
    "## Input data"
   ]
  },
  {
   "cell_type": "code",
   "execution_count": 10,
   "metadata": {},
   "outputs": [
    {
     "name": "stderr",
     "output_type": "stream",
     "text": [
      "[2025-04-18 11:09:33 mce.core] INFO:datain/ds_historical.h5 already exists\n",
      "[2025-04-18 11:09:33 mce.core] INFO:file datain/ds_historical.h5 opened with mode=a\n"
     ]
    }
   ],
   "source": [
    "outpath = 'datain/ds_historical.h5'\n",
    "ds = ScenarioBase(outpath=outpath, mode='a')"
   ]
  },
  {
   "cell_type": "code",
   "execution_count": 11,
   "metadata": {},
   "outputs": [
    {
     "name": "stdout",
     "output_type": "stream",
     "text": [
      "aci_cal: Forcing uncertainty ensemble related to aerosol-cloud interactions\n",
      "ari_emitted: Reference radiative forcing by SLCF species\n",
      "erf_contrails: Effective radiative forcing of contrails and contrail-induced cirrus from 1930 to 2024\n",
      "erf_irrigation: Land use forcing due to irrigation\n",
      "erf_solar: Effective radiative forcing of solar irradiance from -6755 to 2299\n",
      "erf_volcanic: Effective radiative forcing of volcanic activity from -6755 to 2299\n",
      "gcp_emissions: Emissions of CO2 from 1750 to 2024\n",
      "ghg_concentrations: Concentrations of GHGs from 1750 to 2024\n",
      "sarf_landuse: Land use forcing due to albedo change\n",
      "skeie_ozone_strat: Reference radiative forcing of stratospheric ozone\n",
      "skeie_ozone_trop: Reference radiative forcing of tropospheric ozone\n",
      "slcf_emissions: Emissions of SLCF species from 1750 to 2024\n",
      "temp_obs: Temperature time series used for temperature feedback of ozone forcing from 1850 to 2023\n",
      "unc/scale: Scale factors by forcing agent\n",
      "unc/trend_solar: Uncertainty factor of solar trend\n"
     ]
    }
   ],
   "source": [
    "def func(name, obj):\n",
    "    desc = obj.attrs.get('description')\n",
    "    if desc is not None:\n",
    "        print('{}: {}'.format(name, desc))\n",
    "\n",
    "gin = ds.file['source/forcing-timeseries']\n",
    "gin.visititems(func)"
   ]
  },
  {
   "cell_type": "markdown",
   "metadata": {},
   "source": [
    "### GHG concentrations"
   ]
  },
  {
   "cell_type": "code",
   "execution_count": 83,
   "metadata": {},
   "outputs": [
    {
     "data": {
      "text/html": [
       "<div>\n",
       "<style scoped>\n",
       "    .dataframe tbody tr th:only-of-type {\n",
       "        vertical-align: middle;\n",
       "    }\n",
       "\n",
       "    .dataframe tbody tr th {\n",
       "        vertical-align: top;\n",
       "    }\n",
       "\n",
       "    .dataframe thead tr th {\n",
       "        text-align: left;\n",
       "    }\n",
       "\n",
       "    .dataframe thead tr:last-of-type th {\n",
       "        text-align: right;\n",
       "    }\n",
       "</style>\n",
       "<table border=\"1\" class=\"dataframe\">\n",
       "  <thead>\n",
       "    <tr>\n",
       "      <th></th>\n",
       "      <th>C2F6</th>\n",
       "      <th>C3F8</th>\n",
       "      <th>C7F16</th>\n",
       "      <th>C8F18</th>\n",
       "      <th>CCl4</th>\n",
       "      <th>CF4</th>\n",
       "      <th>CFC-11</th>\n",
       "      <th>CFC-112</th>\n",
       "      <th>CFC-112a</th>\n",
       "      <th>CFC-113</th>\n",
       "      <th>...</th>\n",
       "      <th>Halon-2402</th>\n",
       "      <th>N2O</th>\n",
       "      <th>NF3</th>\n",
       "      <th>SF6</th>\n",
       "      <th>SO2F2</th>\n",
       "      <th>c-C4F8</th>\n",
       "      <th>i-C6F14</th>\n",
       "      <th>n-C4F10</th>\n",
       "      <th>n-C5F12</th>\n",
       "      <th>n-C6F14</th>\n",
       "    </tr>\n",
       "    <tr>\n",
       "      <th></th>\n",
       "      <th>ppt</th>\n",
       "      <th>ppt</th>\n",
       "      <th>ppt</th>\n",
       "      <th>ppt</th>\n",
       "      <th>ppt</th>\n",
       "      <th>ppt</th>\n",
       "      <th>ppt</th>\n",
       "      <th>ppt</th>\n",
       "      <th>ppt</th>\n",
       "      <th>ppt</th>\n",
       "      <th>...</th>\n",
       "      <th>ppt</th>\n",
       "      <th>ppb</th>\n",
       "      <th>ppt</th>\n",
       "      <th>ppt</th>\n",
       "      <th>ppt</th>\n",
       "      <th>ppt</th>\n",
       "      <th>ppt</th>\n",
       "      <th>ppt</th>\n",
       "      <th>ppt</th>\n",
       "      <th>ppt</th>\n",
       "    </tr>\n",
       "    <tr>\n",
       "      <th>(time, yr)</th>\n",
       "      <th></th>\n",
       "      <th></th>\n",
       "      <th></th>\n",
       "      <th></th>\n",
       "      <th></th>\n",
       "      <th></th>\n",
       "      <th></th>\n",
       "      <th></th>\n",
       "      <th></th>\n",
       "      <th></th>\n",
       "      <th></th>\n",
       "      <th></th>\n",
       "      <th></th>\n",
       "      <th></th>\n",
       "      <th></th>\n",
       "      <th></th>\n",
       "      <th></th>\n",
       "      <th></th>\n",
       "      <th></th>\n",
       "      <th></th>\n",
       "      <th></th>\n",
       "    </tr>\n",
       "  </thead>\n",
       "  <tbody>\n",
       "    <tr>\n",
       "      <th>1750</th>\n",
       "      <td>0.000001</td>\n",
       "      <td>0.00</td>\n",
       "      <td>0.00000</td>\n",
       "      <td>0.000</td>\n",
       "      <td>0.025</td>\n",
       "      <td>34.05</td>\n",
       "      <td>0.0</td>\n",
       "      <td>0.0</td>\n",
       "      <td>0.0000</td>\n",
       "      <td>0.00</td>\n",
       "      <td>...</td>\n",
       "      <td>0.0</td>\n",
       "      <td>270.100000</td>\n",
       "      <td>0.0</td>\n",
       "      <td>0.000</td>\n",
       "      <td>0.000021</td>\n",
       "      <td>0.0000</td>\n",
       "      <td>0.0000</td>\n",
       "      <td>0.0000</td>\n",
       "      <td>0.0000</td>\n",
       "      <td>0.0000</td>\n",
       "    </tr>\n",
       "    <tr>\n",
       "      <th>1850</th>\n",
       "      <td>0.000001</td>\n",
       "      <td>0.00</td>\n",
       "      <td>0.00000</td>\n",
       "      <td>0.000</td>\n",
       "      <td>0.025</td>\n",
       "      <td>34.05</td>\n",
       "      <td>0.0</td>\n",
       "      <td>0.0</td>\n",
       "      <td>0.0000</td>\n",
       "      <td>0.00</td>\n",
       "      <td>...</td>\n",
       "      <td>0.0</td>\n",
       "      <td>272.100000</td>\n",
       "      <td>0.0</td>\n",
       "      <td>0.000</td>\n",
       "      <td>0.000021</td>\n",
       "      <td>0.0000</td>\n",
       "      <td>0.0000</td>\n",
       "      <td>0.0000</td>\n",
       "      <td>0.0000</td>\n",
       "      <td>0.0000</td>\n",
       "    </tr>\n",
       "    <tr>\n",
       "      <th>1851</th>\n",
       "      <td>0.000010</td>\n",
       "      <td>0.00</td>\n",
       "      <td>0.00000</td>\n",
       "      <td>0.000</td>\n",
       "      <td>0.025</td>\n",
       "      <td>34.05</td>\n",
       "      <td>0.0</td>\n",
       "      <td>0.0</td>\n",
       "      <td>0.0000</td>\n",
       "      <td>0.00</td>\n",
       "      <td>...</td>\n",
       "      <td>0.0</td>\n",
       "      <td>272.181132</td>\n",
       "      <td>0.0</td>\n",
       "      <td>0.000</td>\n",
       "      <td>0.000021</td>\n",
       "      <td>0.0000</td>\n",
       "      <td>0.0000</td>\n",
       "      <td>0.0000</td>\n",
       "      <td>0.0000</td>\n",
       "      <td>0.0000</td>\n",
       "    </tr>\n",
       "    <tr>\n",
       "      <th>1852</th>\n",
       "      <td>0.000021</td>\n",
       "      <td>0.00</td>\n",
       "      <td>0.00000</td>\n",
       "      <td>0.000</td>\n",
       "      <td>0.025</td>\n",
       "      <td>34.05</td>\n",
       "      <td>0.0</td>\n",
       "      <td>0.0</td>\n",
       "      <td>0.0000</td>\n",
       "      <td>0.00</td>\n",
       "      <td>...</td>\n",
       "      <td>0.0</td>\n",
       "      <td>272.262214</td>\n",
       "      <td>0.0</td>\n",
       "      <td>0.000</td>\n",
       "      <td>0.000021</td>\n",
       "      <td>0.0000</td>\n",
       "      <td>0.0000</td>\n",
       "      <td>0.0000</td>\n",
       "      <td>0.0000</td>\n",
       "      <td>0.0000</td>\n",
       "    </tr>\n",
       "    <tr>\n",
       "      <th>1853</th>\n",
       "      <td>0.000031</td>\n",
       "      <td>0.00</td>\n",
       "      <td>0.00000</td>\n",
       "      <td>0.000</td>\n",
       "      <td>0.025</td>\n",
       "      <td>34.05</td>\n",
       "      <td>0.0</td>\n",
       "      <td>0.0</td>\n",
       "      <td>0.0000</td>\n",
       "      <td>0.00</td>\n",
       "      <td>...</td>\n",
       "      <td>0.0</td>\n",
       "      <td>272.365269</td>\n",
       "      <td>0.0</td>\n",
       "      <td>0.000</td>\n",
       "      <td>0.000022</td>\n",
       "      <td>0.0000</td>\n",
       "      <td>0.0000</td>\n",
       "      <td>0.0000</td>\n",
       "      <td>0.0000</td>\n",
       "      <td>0.0000</td>\n",
       "    </tr>\n",
       "    <tr>\n",
       "      <th>...</th>\n",
       "      <td>...</td>\n",
       "      <td>...</td>\n",
       "      <td>...</td>\n",
       "      <td>...</td>\n",
       "      <td>...</td>\n",
       "      <td>...</td>\n",
       "      <td>...</td>\n",
       "      <td>...</td>\n",
       "      <td>...</td>\n",
       "      <td>...</td>\n",
       "      <td>...</td>\n",
       "      <td>...</td>\n",
       "      <td>...</td>\n",
       "      <td>...</td>\n",
       "      <td>...</td>\n",
       "      <td>...</td>\n",
       "      <td>...</td>\n",
       "      <td>...</td>\n",
       "      <td>...</td>\n",
       "      <td>...</td>\n",
       "      <td>...</td>\n",
       "    </tr>\n",
       "    <tr>\n",
       "      <th>2020</th>\n",
       "      <td>4.940000</td>\n",
       "      <td>0.70</td>\n",
       "      <td>0.11984</td>\n",
       "      <td>0.097</td>\n",
       "      <td>77.000</td>\n",
       "      <td>86.40</td>\n",
       "      <td>223.9</td>\n",
       "      <td>0.4</td>\n",
       "      <td>0.0704</td>\n",
       "      <td>69.20</td>\n",
       "      <td>...</td>\n",
       "      <td>0.4</td>\n",
       "      <td>333.300000</td>\n",
       "      <td>2.3</td>\n",
       "      <td>10.270</td>\n",
       "      <td>2.600000</td>\n",
       "      <td>1.8114</td>\n",
       "      <td>0.0690</td>\n",
       "      <td>0.2073</td>\n",
       "      <td>0.1528</td>\n",
       "      <td>0.2312</td>\n",
       "    </tr>\n",
       "    <tr>\n",
       "      <th>2021</th>\n",
       "      <td>5.030000</td>\n",
       "      <td>0.72</td>\n",
       "      <td>0.12132</td>\n",
       "      <td>0.098</td>\n",
       "      <td>76.000</td>\n",
       "      <td>87.40</td>\n",
       "      <td>221.6</td>\n",
       "      <td>0.4</td>\n",
       "      <td>0.0712</td>\n",
       "      <td>68.60</td>\n",
       "      <td>...</td>\n",
       "      <td>0.4</td>\n",
       "      <td>334.600000</td>\n",
       "      <td>2.5</td>\n",
       "      <td>10.650</td>\n",
       "      <td>2.700000</td>\n",
       "      <td>1.8742</td>\n",
       "      <td>0.0704</td>\n",
       "      <td>0.2114</td>\n",
       "      <td>0.1564</td>\n",
       "      <td>0.2328</td>\n",
       "    </tr>\n",
       "    <tr>\n",
       "      <th>2022</th>\n",
       "      <td>5.150000</td>\n",
       "      <td>0.74</td>\n",
       "      <td>0.12280</td>\n",
       "      <td>0.099</td>\n",
       "      <td>75.000</td>\n",
       "      <td>88.50</td>\n",
       "      <td>219.3</td>\n",
       "      <td>0.4</td>\n",
       "      <td>0.0720</td>\n",
       "      <td>68.10</td>\n",
       "      <td>...</td>\n",
       "      <td>0.4</td>\n",
       "      <td>335.900000</td>\n",
       "      <td>2.7</td>\n",
       "      <td>11.040</td>\n",
       "      <td>2.800000</td>\n",
       "      <td>1.9370</td>\n",
       "      <td>0.0718</td>\n",
       "      <td>0.2155</td>\n",
       "      <td>0.1600</td>\n",
       "      <td>0.2344</td>\n",
       "    </tr>\n",
       "    <tr>\n",
       "      <th>2023</th>\n",
       "      <td>5.200000</td>\n",
       "      <td>0.76</td>\n",
       "      <td>0.12428</td>\n",
       "      <td>0.100</td>\n",
       "      <td>73.800</td>\n",
       "      <td>89.00</td>\n",
       "      <td>217.0</td>\n",
       "      <td>0.4</td>\n",
       "      <td>0.0728</td>\n",
       "      <td>67.60</td>\n",
       "      <td>...</td>\n",
       "      <td>0.4</td>\n",
       "      <td>337.000000</td>\n",
       "      <td>2.9</td>\n",
       "      <td>11.390</td>\n",
       "      <td>2.900000</td>\n",
       "      <td>1.9998</td>\n",
       "      <td>0.0732</td>\n",
       "      <td>0.2196</td>\n",
       "      <td>0.1636</td>\n",
       "      <td>0.2360</td>\n",
       "    </tr>\n",
       "    <tr>\n",
       "      <th>2024</th>\n",
       "      <td>5.307000</td>\n",
       "      <td>0.78</td>\n",
       "      <td>0.12576</td>\n",
       "      <td>0.101</td>\n",
       "      <td>72.880</td>\n",
       "      <td>90.09</td>\n",
       "      <td>214.7</td>\n",
       "      <td>0.4</td>\n",
       "      <td>0.0736</td>\n",
       "      <td>67.01</td>\n",
       "      <td>...</td>\n",
       "      <td>0.4</td>\n",
       "      <td>337.800000</td>\n",
       "      <td>3.1</td>\n",
       "      <td>11.755</td>\n",
       "      <td>3.000000</td>\n",
       "      <td>2.0626</td>\n",
       "      <td>0.0746</td>\n",
       "      <td>0.2237</td>\n",
       "      <td>0.1672</td>\n",
       "      <td>0.2376</td>\n",
       "    </tr>\n",
       "  </tbody>\n",
       "</table>\n",
       "<p>176 rows × 52 columns</p>\n",
       "</div>"
      ],
      "text/plain": [
       "                C2F6  C3F8    C7F16  C8F18    CCl4    CF4 CFC-11 CFC-112  \\\n",
       "                 ppt   ppt      ppt    ppt     ppt    ppt    ppt     ppt   \n",
       "(time, yr)                                                                 \n",
       "1750        0.000001  0.00  0.00000  0.000   0.025  34.05    0.0     0.0   \n",
       "1850        0.000001  0.00  0.00000  0.000   0.025  34.05    0.0     0.0   \n",
       "1851        0.000010  0.00  0.00000  0.000   0.025  34.05    0.0     0.0   \n",
       "1852        0.000021  0.00  0.00000  0.000   0.025  34.05    0.0     0.0   \n",
       "1853        0.000031  0.00  0.00000  0.000   0.025  34.05    0.0     0.0   \n",
       "...              ...   ...      ...    ...     ...    ...    ...     ...   \n",
       "2020        4.940000  0.70  0.11984  0.097  77.000  86.40  223.9     0.4   \n",
       "2021        5.030000  0.72  0.12132  0.098  76.000  87.40  221.6     0.4   \n",
       "2022        5.150000  0.74  0.12280  0.099  75.000  88.50  219.3     0.4   \n",
       "2023        5.200000  0.76  0.12428  0.100  73.800  89.00  217.0     0.4   \n",
       "2024        5.307000  0.78  0.12576  0.101  72.880  90.09  214.7     0.4   \n",
       "\n",
       "           CFC-112a CFC-113  ... Halon-2402         N2O  NF3     SF6  \\\n",
       "                ppt     ppt  ...        ppt         ppb  ppt     ppt   \n",
       "(time, yr)                   ...                                       \n",
       "1750         0.0000    0.00  ...        0.0  270.100000  0.0   0.000   \n",
       "1850         0.0000    0.00  ...        0.0  272.100000  0.0   0.000   \n",
       "1851         0.0000    0.00  ...        0.0  272.181132  0.0   0.000   \n",
       "1852         0.0000    0.00  ...        0.0  272.262214  0.0   0.000   \n",
       "1853         0.0000    0.00  ...        0.0  272.365269  0.0   0.000   \n",
       "...             ...     ...  ...        ...         ...  ...     ...   \n",
       "2020         0.0704   69.20  ...        0.4  333.300000  2.3  10.270   \n",
       "2021         0.0712   68.60  ...        0.4  334.600000  2.5  10.650   \n",
       "2022         0.0720   68.10  ...        0.4  335.900000  2.7  11.040   \n",
       "2023         0.0728   67.60  ...        0.4  337.000000  2.9  11.390   \n",
       "2024         0.0736   67.01  ...        0.4  337.800000  3.1  11.755   \n",
       "\n",
       "               SO2F2  c-C4F8 i-C6F14 n-C4F10 n-C5F12 n-C6F14  \n",
       "                 ppt     ppt     ppt     ppt     ppt     ppt  \n",
       "(time, yr)                                                    \n",
       "1750        0.000021  0.0000  0.0000  0.0000  0.0000  0.0000  \n",
       "1850        0.000021  0.0000  0.0000  0.0000  0.0000  0.0000  \n",
       "1851        0.000021  0.0000  0.0000  0.0000  0.0000  0.0000  \n",
       "1852        0.000021  0.0000  0.0000  0.0000  0.0000  0.0000  \n",
       "1853        0.000022  0.0000  0.0000  0.0000  0.0000  0.0000  \n",
       "...              ...     ...     ...     ...     ...     ...  \n",
       "2020        2.600000  1.8114  0.0690  0.2073  0.1528  0.2312  \n",
       "2021        2.700000  1.8742  0.0704  0.2114  0.1564  0.2328  \n",
       "2022        2.800000  1.9370  0.0718  0.2155  0.1600  0.2344  \n",
       "2023        2.900000  1.9998  0.0732  0.2196  0.1636  0.2360  \n",
       "2024        3.000000  2.0626  0.0746  0.2237  0.1672  0.2376  \n",
       "\n",
       "[176 rows x 52 columns]"
      ]
     },
     "execution_count": 83,
     "metadata": {},
     "output_type": "execute_result"
    }
   ],
   "source": [
    "df = pd.DataFrame({\n",
    "    (k, v.attrs['units']):\n",
    "    v for k, v in gin['ghg_concentrations'].items()\n",
    "}).set_index(('time', 'yr'))\n",
    "df"
   ]
  },
  {
   "cell_type": "code",
   "execution_count": 85,
   "metadata": {},
   "outputs": [],
   "source": [
    "# interpolation between 1750 and 1850\n",
    "years = np.arange(df.index[0], df.index[-1]+1)\n",
    "df = df.reindex(years).interpolate()"
   ]
  },
  {
   "cell_type": "code",
   "execution_count": 37,
   "metadata": {},
   "outputs": [],
   "source": [
    "g = ds.file.create_group('historical/input/conc')\n",
    "\n",
    "for k, v in df.reset_index().items():\n",
    "    d = g.create_dataset(k[0], data=v.values)\n",
    "    d.attrs['units'] = k[1]"
   ]
  },
  {
   "cell_type": "markdown",
   "metadata": {},
   "source": [
    "### CO2 emissions"
   ]
  },
  {
   "cell_type": "code",
   "execution_count": 86,
   "metadata": {},
   "outputs": [],
   "source": [
    "if not np.array_equal(years, gin['gcp_emissions']['time']):\n",
    "    raise MCEExecError('inconsistent year')"
   ]
  },
  {
   "cell_type": "code",
   "execution_count": null,
   "metadata": {},
   "outputs": [],
   "source": [
    "g = ds.file.create_group('historical/input/emis_co2')\n",
    "\n",
    "for k, v in gin['gcp_emissions'].items():\n",
    "    d = g.create_dataset(k, data=v[:])\n",
    "    d.attrs['units'] = v.attrs['units']"
   ]
  },
  {
   "cell_type": "markdown",
   "metadata": {},
   "source": [
    "### SLCF emissions"
   ]
  },
  {
   "cell_type": "code",
   "execution_count": 89,
   "metadata": {},
   "outputs": [],
   "source": [
    "if not np.array_equal(years, gin['slcf_emissions']['time']):\n",
    "    raise MCEExecError('inconsistent year')"
   ]
  },
  {
   "cell_type": "code",
   "execution_count": null,
   "metadata": {},
   "outputs": [],
   "source": [
    "g = ds.file.create_group('historical/input/emis_slcf')\n",
    "\n",
    "for k, v in gin['slcf_emissions'].items():\n",
    "    d = g.create_dataset(k, data=v[:])\n",
    "    d.attrs['units'] = v.attrs['units']"
   ]
  },
  {
   "cell_type": "markdown",
   "metadata": {},
   "source": [
    "### ERF of land_use, contrails, solar, and volcanics"
   ]
  },
  {
   "cell_type": "code",
   "execution_count": 92,
   "metadata": {},
   "outputs": [],
   "source": [
    "d1 = pd.DataFrame({\n",
    "    (k, v.attrs['units']): v\n",
    "    for k, v in gin['sarf_landuse'].items() if k in ['time', 'LUH2-GCB2024']\n",
    "}).set_index(('time', 'yr')).squeeze()\n",
    "\n",
    "d1 = d1.loc[years[0]:]\n",
    "d1 *= -0.15 / d1.loc[2004]\n",
    "d1.loc[2024] = d1.loc[2023]\n",
    "\n",
    "if not np.array_equal(years, d1.index):\n",
    "    raise MCEExecError('inconsistent year')\n",
    "\n",
    "data = [d1.rename(('land_use', d1.name[1]))]"
   ]
  },
  {
   "cell_type": "code",
   "execution_count": 93,
   "metadata": {},
   "outputs": [
    {
     "data": {
      "text/plain": [
       "(time, yr)\n",
       "1750    0.000000\n",
       "1751    0.000056\n",
       "1752    0.000109\n",
       "1753    0.000159\n",
       "1754    0.000207\n",
       "          ...   \n",
       "2018   -0.049217\n",
       "2019   -0.050000\n",
       "2020   -0.050549\n",
       "2021   -0.050624\n",
       "2022   -0.050749\n",
       "Name: (value, W m-2), Length: 273, dtype: float64"
      ]
     },
     "execution_count": 93,
     "metadata": {},
     "output_type": "execute_result"
    }
   ],
   "source": [
    "d1 = pd.DataFrame({\n",
    "    (k, v.attrs['units']): v for k, v in gin['erf_irrigation'].items()\n",
    "}).set_index(('time', 'yr')).squeeze()\n",
    "d1"
   ]
  },
  {
   "cell_type": "code",
   "execution_count": 94,
   "metadata": {},
   "outputs": [],
   "source": [
    "# Extrapolation\n",
    "lr = linregress(d1.loc[2013:].index, d1.loc[2013:])\n",
    "for y1 in [2023, 2024]:\n",
    "    d1.loc[y1] = lr.slope * y1 + lr.intercept"
   ]
  },
  {
   "cell_type": "code",
   "execution_count": 95,
   "metadata": {},
   "outputs": [],
   "source": [
    "if not np.array_equal(years, d1.index):\n",
    "    raise MCEExecError('inconsistent year')"
   ]
  },
  {
   "cell_type": "code",
   "execution_count": 96,
   "metadata": {},
   "outputs": [],
   "source": [
    "data.append(d1.rename(('irrigation', d1.name[1])))"
   ]
  },
  {
   "cell_type": "code",
   "execution_count": 102,
   "metadata": {},
   "outputs": [],
   "source": [
    "for cat in ['contrails', 'solar', 'volcanic']:\n",
    "    d1 = pd.DataFrame({\n",
    "        (k, v.attrs['units']): v for k, v in gin[f'erf_{cat}'].items()\n",
    "    }).set_index(('time', 'yr')).squeeze()\n",
    "\n",
    "    if cat == 'contrails':\n",
    "        d1 = d1.reindex(years, fill_value=0.)\n",
    "    else:\n",
    "        d1 = d1.loc[years[0]:years[-1]]\n",
    "\n",
    "    if not np.array_equal(years, d1.index):\n",
    "        raise MCEExecError('inconsistent year')\n",
    "\n",
    "    data.append(d1.rename((cat, d1.name[1])))"
   ]
  },
  {
   "cell_type": "code",
   "execution_count": 105,
   "metadata": {},
   "outputs": [],
   "source": [
    "g = ds.file.create_group('historical/input/erf_other')\n",
    "\n",
    "for k, v in pd.concat(data, axis=1).reset_index().items():\n",
    "    d = g.create_dataset(k[0], data=v)\n",
    "    d.attrs['units'] = k[1]"
   ]
  },
  {
   "cell_type": "markdown",
   "metadata": {},
   "source": [
    "### Categorized input for MCE"
   ]
  },
  {
   "cell_type": "code",
   "execution_count": 107,
   "metadata": {},
   "outputs": [
    {
     "data": {
      "text/plain": [
       "['conc', 'emis_co2', 'emis_slcf', 'erf_other']"
      ]
     },
     "execution_count": 107,
     "metadata": {},
     "output_type": "execute_result"
    }
   ],
   "source": [
    "dsin = ds.get_scenario('historical')\n",
    "list(dsin)"
   ]
  },
  {
   "cell_type": "markdown",
   "metadata": {},
   "source": [
    "## Forcing calculation"
   ]
  },
  {
   "cell_type": "markdown",
   "metadata": {},
   "source": [
    "### Reference data for comparison"
   ]
  },
  {
   "cell_type": "code",
   "execution_count": 7,
   "metadata": {},
   "outputs": [],
   "source": [
    "path = pathlib.Path('../ClimateIndicator/forcing-timeseries/output/ERF_best_1750-2024.csv')\n",
    "dfref = {\n",
    "    'erf_best': pd.read_csv(path, index_col=0),\n",
    "    'erf_best_agg': pd.read_csv(path.with_stem('ERF_best_aggregates_1750-2024'), index_col=0).rename(int),\n",
    "    'erf_p05_agg': pd.read_csv(path.with_stem('ERF_p05_aggregates_1750-2024'), index_col=0).rename(int),\n",
    "    'erf_p95_agg': pd.read_csv(path.with_stem('ERF_p95_aggregates_1750-2024'), index_col=0).rename(int),\n",
    "}"
   ]
  },
  {
   "cell_type": "markdown",
   "metadata": {},
   "source": [
    "### Create AR6-based forcing instance"
   ]
  },
  {
   "cell_type": "code",
   "execution_count": 108,
   "metadata": {},
   "outputs": [],
   "source": [
    "d = dsin['emis_slcf']\n",
    "df_emis_slcf = pd.DataFrame(d['data'], index=d['time'], columns=d['variables'])\n",
    "\n",
    "d = dsin['conc']\n",
    "df_conc = pd.DataFrame(d['data'], index=d['time'], columns=d['variables'])"
   ]
  },
  {
   "cell_type": "code",
   "execution_count": 112,
   "metadata": {},
   "outputs": [],
   "source": [
    "df_emis_slcf = df_emis_slcf.drop(['CH4', 'N2O'], axis=1)"
   ]
  },
  {
   "cell_type": "code",
   "execution_count": 113,
   "metadata": {},
   "outputs": [],
   "source": [
    "forcing = RfAllAR6(df_emis_slcf, df_conc)"
   ]
  },
  {
   "cell_type": "code",
   "execution_count": 122,
   "metadata": {},
   "outputs": [],
   "source": [
    "g = ds.file['source/forcing-timeseries/ari_emitted']\n",
    "df = pd.DataFrame({k: v for k, v in g.items()}, index=g.attrs['species'])\n",
    "forcing.init__ari(df['mean'], df['sd'])"
   ]
  },
  {
   "cell_type": "code",
   "execution_count": 124,
   "metadata": {},
   "outputs": [],
   "source": [
    "g = ds.file['source/forcing-timeseries/aci_cal']\n",
    "df = pd.DataFrame({k: v for k, v in g.items()}, index=g.attrs['models'])\n",
    "forcing.init__aci(df)"
   ]
  },
  {
   "cell_type": "code",
   "execution_count": 128,
   "metadata": {},
   "outputs": [],
   "source": [
    "g = ds.file['source/forcing-timeseries/temp_obs']\n",
    "args = [pd.Series(g['value'], index=g['time'])]"
   ]
  },
  {
   "cell_type": "code",
   "execution_count": 132,
   "metadata": {},
   "outputs": [],
   "source": [
    "for k in ['trop', 'strat']:\n",
    "    g = ds.file[f'source/forcing-timeseries/skeie_ozone_{k}']\n",
    "    args.append(\n",
    "        pd.DataFrame(\n",
    "            g['value'],\n",
    "            index=g.attrs['index_model'],\n",
    "            columns=g.attrs['columns_year'],\n",
    "        )\n",
    "    )"
   ]
  },
  {
   "cell_type": "code",
   "execution_count": 133,
   "metadata": {},
   "outputs": [],
   "source": [
    "forcing.init__o3(*args)"
   ]
  },
  {
   "cell_type": "code",
   "execution_count": 138,
   "metadata": {},
   "outputs": [],
   "source": [
    "df_scale = pd.DataFrame({\n",
    "    k: v for k, v in ds.file['source/forcing-timeseries/unc/scale'].items()\n",
    "})"
   ]
  },
  {
   "cell_type": "code",
   "execution_count": 140,
   "metadata": {},
   "outputs": [],
   "source": [
    "trend_solar = pd.Series(ds.file['source/forcing-timeseries/unc/trend_solar'])"
   ]
  },
  {
   "cell_type": "markdown",
   "metadata": {},
   "source": [
    "### Best estimate"
   ]
  },
  {
   "cell_type": "code",
   "execution_count": 141,
   "metadata": {},
   "outputs": [],
   "source": [
    "erf_best = pd.concat([\n",
    "    forcing.erf__ghg_major(df_conc),\n",
    "    forcing.erf__ghg_minor(df_conc),\n",
    "], axis=1)"
   ]
  },
  {
   "cell_type": "code",
   "execution_count": 145,
   "metadata": {},
   "outputs": [
    {
     "data": {
      "text/plain": [
       "49"
      ]
     },
     "execution_count": 145,
     "metadata": {},
     "output_type": "execute_result"
    }
   ],
   "source": [
    "halogens = [x for x in erf_best.columns if x not in ['CO2', 'CH4', 'N2O']]\n",
    "len(halogens)"
   ]
  },
  {
   "cell_type": "code",
   "execution_count": 146,
   "metadata": {},
   "outputs": [],
   "source": [
    "cat = 'aerosol-radiation_interactions'\n",
    "erf_best[cat] = forcing.erf__ari(df_emis_slcf, df_conc)"
   ]
  },
  {
   "cell_type": "code",
   "execution_count": 147,
   "metadata": {},
   "outputs": [],
   "source": [
    "cat = 'aerosol-cloud_interactions'\n",
    "erf_best[cat] = forcing.erf__aci(df_emis_slcf)"
   ]
  },
  {
   "cell_type": "code",
   "execution_count": 148,
   "metadata": {},
   "outputs": [],
   "source": [
    "cat = 'O3'\n",
    "erf_best[cat] = forcing.erf__o3(df_emis_slcf, df_conc)"
   ]
  },
  {
   "cell_type": "code",
   "execution_count": 149,
   "metadata": {},
   "outputs": [],
   "source": [
    "cat = 'BC_on_snow'\n",
    "d1 = df_emis_slcf['BC']\n",
    "erf_best[cat] = forcing.bc_on_snow__factor * (d1 - d1.loc[1750])"
   ]
  },
  {
   "cell_type": "code",
   "execution_count": 150,
   "metadata": {},
   "outputs": [],
   "source": [
    "cat = 'H2O_stratospheric'\n",
    "d1 = df_conc['CH4']\n",
    "erf_best[cat] = forcing.h2o_strat__factor * (d1 - d1.loc[1750])"
   ]
  },
  {
   "cell_type": "code",
   "execution_count": 151,
   "metadata": {},
   "outputs": [],
   "source": [
    "d = dsin['erf_other']\n",
    "df = pd.DataFrame(d['data'], index=d['time'], columns=d['variables'])\n",
    "\n",
    "cats = ['irrigation', 'land_use']\n",
    "erf_best = pd.concat([\n",
    "    erf_best,\n",
    "    df.drop(cats, axis=1),\n",
    "    df[cats].sum(axis=1).to_frame('land_use'),\n",
    "], axis=1)\n",
    "\n",
    "df__erf_other = df"
   ]
  },
  {
   "cell_type": "code",
   "execution_count": 152,
   "metadata": {},
   "outputs": [
    {
     "data": {
      "text/plain": [
       "((275, 61), (275, 61))"
      ]
     },
     "execution_count": 152,
     "metadata": {},
     "output_type": "execute_result"
    }
   ],
   "source": [
    "erf_best.shape, dfref['erf_best'].shape"
   ]
  },
  {
   "cell_type": "code",
   "execution_count": 153,
   "metadata": {},
   "outputs": [
    {
     "data": {
      "text/plain": [
       "True"
      ]
     },
     "execution_count": 153,
     "metadata": {},
     "output_type": "execute_result"
    }
   ],
   "source": [
    "np.allclose(\n",
    "    erf_best,\n",
    "    dfref['erf_best'][erf_best.columns],\n",
    ")"
   ]
  },
  {
   "cell_type": "code",
   "execution_count": 156,
   "metadata": {},
   "outputs": [],
   "source": [
    "erf_best_agg = erf_best.drop(halogens, axis=1)"
   ]
  },
  {
   "cell_type": "code",
   "execution_count": 157,
   "metadata": {},
   "outputs": [],
   "source": [
    "cats = ['aerosol-radiation_interactions', 'aerosol-cloud_interactions']\n",
    "erf_best_agg['aerosol'] = erf_best[cats].sum(axis=1)\n",
    "\n",
    "erf_best_agg['halogen'] = erf_best[halogens].sum(axis=1)\n",
    "erf_best_agg['nonco2wmghg'] = erf_best[['CH4', 'N2O'] + halogens].sum(axis=1)\n",
    "\n",
    "cats = ['H2O_stratospheric', 'contrails', 'BC_on_snow', 'land_use']\n",
    "erf_best_agg['minor'] = erf_best[cats].sum(axis=1)\n",
    "\n",
    "cats = ['solar', 'volcanic']\n",
    "erf_best_agg['anthro'] = erf_best.drop(cats, axis=1).sum(axis=1)\n",
    "\n",
    "erf_best_agg['total'] = erf_best.sum(axis=1)"
   ]
  },
  {
   "cell_type": "code",
   "execution_count": 158,
   "metadata": {},
   "outputs": [
    {
     "data": {
      "text/plain": [
       "((275, 18), (275, 18))"
      ]
     },
     "execution_count": 158,
     "metadata": {},
     "output_type": "execute_result"
    }
   ],
   "source": [
    "erf_best_agg.shape, dfref['erf_best_agg'].shape"
   ]
  },
  {
   "cell_type": "code",
   "execution_count": 159,
   "metadata": {},
   "outputs": [
    {
     "data": {
      "text/plain": [
       "True"
      ]
     },
     "execution_count": 159,
     "metadata": {},
     "output_type": "execute_result"
    }
   ],
   "source": [
    "np.allclose(\n",
    "    erf_best_agg,\n",
    "    dfref['erf_best_agg'][erf_best_agg.columns],\n",
    ")"
   ]
  },
  {
   "cell_type": "markdown",
   "metadata": {},
   "source": [
    "### 90% uncertainty range"
   ]
  },
  {
   "cell_type": "code",
   "execution_count": 160,
   "metadata": {},
   "outputs": [],
   "source": [
    "dfref_unc = pd.concat({\n",
    "    'p05': dfref['erf_p05_agg'],\n",
    "    'p95': dfref['erf_p95_agg'],\n",
    "}, axis=1).reorder_levels([1, 0], axis=1).sort_index(axis=1)"
   ]
  },
  {
   "cell_type": "code",
   "execution_count": 161,
   "metadata": {},
   "outputs": [],
   "source": [
    "cats_agg = list(erf_best_agg)"
   ]
  },
  {
   "cell_type": "code",
   "execution_count": 162,
   "metadata": {},
   "outputs": [
    {
     "data": {
      "text/plain": [
       "['aerosol', 'halogen', 'nonco2wmghg', 'minor', 'anthro', 'total']"
      ]
     },
     "execution_count": 162,
     "metadata": {},
     "output_type": "execute_result"
    }
   ],
   "source": [
    "[k for k in cats_agg if k not in erf_best]"
   ]
  },
  {
   "cell_type": "code",
   "execution_count": 163,
   "metadata": {},
   "outputs": [],
   "source": [
    "ens_agg = {\n",
    "    k: 0. for k in [\n",
    "        'aerosol',\n",
    "        'nonco2wmghg',\n",
    "        'minor',\n",
    "        'anthro',\n",
    "        'total',\n",
    "    ]\n",
    "}\n",
    "ens_agg_count = {\n",
    "    k: [] for k in [\n",
    "        'aerosol',\n",
    "        'nonco2wmghg',\n",
    "        'minor',\n",
    "        'anthro',\n",
    "        'total',\n",
    "    ]\n",
    "}\n",
    "ens_pct = {}"
   ]
  },
  {
   "cell_type": "code",
   "execution_count": 164,
   "metadata": {},
   "outputs": [],
   "source": [
    "cat = 'aerosol-radiation_interactions'\n",
    "dfin = forcing.save__ari_dfin\n",
    "radeff_ens = forcing.ari__radeff_ens[dfin.keys()]\n",
    "ens = (\n",
    "    dfin.values[:, None, :] * radeff_ens.values[None, :, :]\n",
    ").sum(axis=2)\n",
    "ens_pct[cat] = np.percentile(ens, [5, 95], axis=1).T\n",
    "\n",
    "for k in ['aerosol', 'anthro', 'total']:\n",
    "    ens_agg[k] += ens\n",
    "    ens_agg_count[k].append(cat)"
   ]
  },
  {
   "cell_type": "code",
   "execution_count": 165,
   "metadata": {},
   "outputs": [],
   "source": [
    "cat = 'aerosol-cloud_interactions'\n",
    "ens = forcing.save__aci_ens.values\n",
    "ens_pct[cat] = np.percentile(ens, [5, 95], axis=1).T\n",
    "\n",
    "for k in ['aerosol', 'anthro', 'total']:\n",
    "    ens_agg[k] += ens\n",
    "    ens_agg_count[k].append(cat)"
   ]
  },
  {
   "cell_type": "code",
   "execution_count": 166,
   "metadata": {},
   "outputs": [],
   "source": [
    "cat = 'land_use'\n",
    "ens = (\n",
    "    df__erf_other['irrigation'].values[:, None] * df_scale['irrigation'].values\n",
    "    + df__erf_other['land_use'].values[:, None] * df_scale['land_use'].values\n",
    ")\n",
    "ens_pct[cat] = np.percentile(ens, [5, 95], axis=1).T\n",
    "\n",
    "for k in ['minor', 'anthro', 'total']:\n",
    "    ens_agg[k] += ens\n",
    "    ens_agg_count[k].append(cat)"
   ]
  },
  {
   "cell_type": "code",
   "execution_count": 167,
   "metadata": {},
   "outputs": [],
   "source": [
    "cat = 'solar'\n",
    "d1 = pd.Series(np.nan, index=erf_best.index)\n",
    "d1.loc[1750] = 0.\n",
    "d1.loc[2019:] = 1.\n",
    "d1 = d1.interpolate()\n",
    "ens = (\n",
    "    erf_best[cat].values[:, None] * df_scale[cat].values\n",
    "    + d1.values[:, None] * trend_solar.values[None, :]\n",
    ")\n",
    "ens_pct[cat] = np.percentile(ens, [5, 95], axis=1).T\n",
    "\n",
    "ens_agg['total'] += ens\n",
    "ens_agg_count['total'].append(cat)"
   ]
  },
  {
   "cell_type": "code",
   "execution_count": 168,
   "metadata": {},
   "outputs": [],
   "source": [
    "cat = 'halogen'\n",
    "ens = 0.\n",
    "for k in halogens:\n",
    "    ens += erf_best[k].values[:, None] * df_scale[k].values\n",
    "\n",
    "ens_pct[cat] = np.percentile(ens, [5, 95], axis=1).T\n",
    "\n",
    "for k in [\n",
    "    'nonco2wmghg',\n",
    "    'anthro',\n",
    "    'total',\n",
    "]:\n",
    "    ens_agg[k] += ens\n",
    "    ens_agg_count[k].append(cat)"
   ]
  },
  {
   "cell_type": "code",
   "execution_count": 169,
   "metadata": {},
   "outputs": [],
   "source": [
    "for cat in cats_agg:\n",
    "    if cat in ens_pct or cat in ens_agg:\n",
    "        continue\n",
    "\n",
    "    ens = erf_best[cat].values[:, None] * df_scale[cat].values\n",
    "    ens_pct[cat] = np.percentile(ens, [5, 95], axis=1).T\n",
    "\n",
    "    ens_agg['total'] += ens\n",
    "    ens_agg_count['total'].append(cat)\n",
    "    if cat not in ['solar', 'volcanic']:\n",
    "        ens_agg['anthro'] += ens\n",
    "        ens_agg_count['anthro'].append(cat)\n",
    "    if cat in ['CH4', 'N2O']:\n",
    "        ens_agg['nonco2wmghg'] += ens\n",
    "        ens_agg_count['nonco2wmghg'].append(cat)\n",
    "        # 'halogen' counted already\n",
    "    if cat in ['H2O_stratospheric', 'contrails', 'BC_on_snow']:\n",
    "        # 'land_use' counted already\n",
    "        ens_agg['minor'] += ens\n",
    "        ens_agg_count['minor'].append(cat)"
   ]
  },
  {
   "cell_type": "code",
   "execution_count": 170,
   "metadata": {},
   "outputs": [],
   "source": [
    "for cat, ens in ens_agg.items():\n",
    "    ens_pct[cat] = np.percentile(ens, [5, 95], axis=1).T"
   ]
  },
  {
   "cell_type": "code",
   "execution_count": 171,
   "metadata": {},
   "outputs": [
    {
     "name": "stdout",
     "output_type": "stream",
     "text": [
      "0 True aerosol-radiation_interactions\n",
      "1 True aerosol-cloud_interactions\n",
      "2 True land_use\n",
      "3 True solar\n",
      "4 True halogen\n",
      "5 True CO2\n",
      "6 True CH4\n",
      "7 True N2O\n",
      "8 True O3\n",
      "9 True BC_on_snow\n",
      "10 True H2O_stratospheric\n",
      "11 True contrails\n",
      "12 True volcanic\n",
      "13 True aerosol\n",
      "14 True nonco2wmghg\n",
      "15 True minor\n",
      "16 True anthro\n",
      "17 True total\n"
     ]
    }
   ],
   "source": [
    "for i, (cat, pct) in enumerate(ens_pct.items()):\n",
    "    print(i, np.allclose(pct, dfref_unc[cat]), cat)"
   ]
  },
  {
   "cell_type": "code",
   "execution_count": 172,
   "metadata": {},
   "outputs": [
    {
     "data": {
      "text/plain": [
       "{'aerosol': ['aerosol-radiation_interactions', 'aerosol-cloud_interactions'],\n",
       " 'nonco2wmghg': ['halogen', 'CH4', 'N2O'],\n",
       " 'minor': ['land_use', 'BC_on_snow', 'H2O_stratospheric', 'contrails'],\n",
       " 'anthro': ['aerosol-radiation_interactions',\n",
       "  'aerosol-cloud_interactions',\n",
       "  'land_use',\n",
       "  'halogen',\n",
       "  'CO2',\n",
       "  'CH4',\n",
       "  'N2O',\n",
       "  'O3',\n",
       "  'BC_on_snow',\n",
       "  'H2O_stratospheric',\n",
       "  'contrails'],\n",
       " 'total': ['aerosol-radiation_interactions',\n",
       "  'aerosol-cloud_interactions',\n",
       "  'land_use',\n",
       "  'solar',\n",
       "  'halogen',\n",
       "  'CO2',\n",
       "  'CH4',\n",
       "  'N2O',\n",
       "  'O3',\n",
       "  'BC_on_snow',\n",
       "  'H2O_stratospheric',\n",
       "  'contrails',\n",
       "  'volcanic']}"
      ]
     },
     "execution_count": 172,
     "metadata": {},
     "output_type": "execute_result"
    }
   ],
   "source": [
    "ens_agg_count"
   ]
  },
  {
   "cell_type": "code",
   "execution_count": 173,
   "metadata": {},
   "outputs": [
    {
     "name": "stderr",
     "output_type": "stream",
     "text": [
      "[2025-04-18 14:45:57 mce.core] INFO:file datain/ds_historical.h5 closed\n"
     ]
    }
   ],
   "source": [
    "ds.close()"
   ]
  }
 ],
 "metadata": {
  "kernelspec": {
   "display_name": "Python 3 (ipykernel)",
   "language": "python",
   "name": "python3"
  },
  "language_info": {
   "codemirror_mode": {
    "name": "ipython",
    "version": 3
   },
   "file_extension": ".py",
   "mimetype": "text/x-python",
   "name": "python",
   "nbconvert_exporter": "python",
   "pygments_lexer": "ipython3",
   "version": "3.12.8"
  }
 },
 "nbformat": 4,
 "nbformat_minor": 4
}
